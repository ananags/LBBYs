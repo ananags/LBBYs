{
 "cells": [
  {
   "cell_type": "markdown",
   "metadata": {},
   "source": [
    "# Redes neuronales: TabNet"
   ]
  },
  {
   "cell_type": "markdown",
   "metadata": {},
   "source": [
    "## 1.- Descripción"
   ]
  },
  {
   "cell_type": "markdown",
   "metadata": {},
   "source": [
    "TabNet es un modelo basado en redes neuronales desarrollado específicamente para trabajar con datos tabulares. Combina la capacidad de aprendizaje profundo con la flexibilidad de los árboles de decisión, lo que le permite manejar eficientemente tanto relaciones lineales como no lineales. El modelo se distingue por su arquitectura única que utiliza atención dirigida (decision-aware attention) para seleccionar las características más relevantes durante el entrenamiento, mejorando así la interpretabilidad y el rendimiento."
   ]
  },
  {
   "cell_type": "markdown",
   "metadata": {},
   "source": [
    "En este proyecto, TabNet se utiliza para predecir si un préstamo será aceptado o rechazado por un banco, basándose en un conjunto de características del solicitante, como su historial financiero, información personal y otros factores relevantes. Este tipo de problema se ajusta bien al enfoque de TabNet, ya que maneja datos tabulares y es capaz de identificar patrones complejos en los datos mientras mantiene la capacidad de interpretabilidad."
   ]
  },
  {
   "cell_type": "markdown",
   "metadata": {},
   "source": [
    "## 2.- Implementación\n"
   ]
  },
  {
   "cell_type": "code",
   "execution_count": 6,
   "metadata": {
    "vscode": {
     "languageId": "plaintext"
    }
   },
   "outputs": [],
   "source": [
    "# Importar las librerías necesarias\n",
    "#Están incluidas librerías que fueron usadas como prueba\n",
    "import pandas as pd\n",
    "import numpy as np\n",
    "from sklearn.model_selection import train_test_split\n",
    "from sklearn.impute import SimpleImputer\n",
    "from sklearn.preprocessing import StandardScaler, LabelEncoder\n",
    "from sklearn.utils import resample\n",
    "from sklearn.metrics import classification_report, confusion_matrix\n",
    "from pytorch_tabnet.tab_model import TabNetClassifier\n",
    "from sklearn.metrics import accuracy_score\n",
    "import torch.optim as optim"
   ]
  },
  {
   "cell_type": "code",
   "execution_count": 7,
   "metadata": {},
   "outputs": [],
   "source": [
    "# Cargar los datos\n",
    "df = pd.read_csv(r\"C:\\Users\\Day\\Downloads\\LBBYs-main\\LBBYs-main\\data\\processed\\new\\train_balanced_processed.csv\")\n",
    "df_test= pd.read_csv(r\"C:\\Users\\Day\\Downloads\\LBBYs-main\\LBBYs-main\\data\\processed\\new\\test_nolabel_processed.csv\")\n"
   ]
  },
  {
   "cell_type": "code",
   "execution_count": 8,
   "metadata": {},
   "outputs": [],
   "source": [
    "df_test_features = df_test.drop(columns=['id'], errors='ignore') \n"
   ]
  },
  {
   "cell_type": "code",
   "execution_count": 9,
   "metadata": {},
   "outputs": [],
   "source": [
    "# Balancear el dataset con undersampling\n",
    "df_majority = df[df[\"Accept\"] == 1]\n",
    "df_minority = df[df[\"Accept\"] == 0]\n",
    "df_majority_downsampled = resample(df_majority, \n",
    "                                   replace=False,\n",
    "                                   n_samples=len(df_minority),\n",
    "                                   random_state=42)\n",
    "\n",
    "df_balanced = pd.concat([df_majority_downsampled, df_minority])\n",
    "df_balanced = df_balanced.sample(frac=1, random_state=42).reset_index(drop=True)\n"
   ]
  },
  {
   "cell_type": "code",
   "execution_count": 10,
   "metadata": {},
   "outputs": [],
   "source": [
    "# Separar X e y\n",
    "X = df_balanced.drop('Accept', axis=1)\n",
    "y = df_balanced['Accept']"
   ]
  },
  {
   "cell_type": "code",
   "execution_count": 11,
   "metadata": {},
   "outputs": [],
   "source": [
    "train_columns = X.columns"
   ]
  },
  {
   "cell_type": "code",
   "execution_count": 12,
   "metadata": {},
   "outputs": [],
   "source": [
    "# Codificar columnas categóricas\n",
    "le = LabelEncoder()\n",
    "categorical_columns = X.select_dtypes(include=['object']).columns\n",
    "for col in categorical_columns:\n",
    "    X[col] = le.fit_transform(X[col].astype(str))"
   ]
  },
  {
   "cell_type": "code",
   "execution_count": 13,
   "metadata": {},
   "outputs": [],
   "source": [
    "categorical_columns_test = df_test.select_dtypes(include=['object']).columns\n",
    "\n",
    "categorical_columns_test = [col for col in categorical_columns_test if col != 'id']\n",
    "for col in categorical_columns_test:\n",
    "    if col in categorical_columns:  # Solo transformar las columnas que están en df_train\n",
    "        # Reemplaza las categorías desconocidas con 'Unknown' si es necesario\n",
    "        if 'Unknown' not in le.classes_:\n",
    "            le.classes_ = np.append(le.classes_, 'Unknown')\n",
    "        \n",
    "        # Reemplaza las categorías desconocidas con 'Unknown' y aplica la transformación\n",
    "        df_test[col] = df_test[col].astype(str).apply(lambda x: x if x in le.classes_ else 'Unknown')\n",
    "        df_test[col] = le.transform(df_test[col])"
   ]
  },
  {
   "cell_type": "code",
   "execution_count": 14,
   "metadata": {},
   "outputs": [],
   "source": [
    "categorical_columns_test = df_test_features.select_dtypes(include=['object']).columns\n",
    "le = LabelEncoder()\n",
    "\n",
    "for col in categorical_columns_test:\n",
    "    df_test_features[col] = le.fit_transform(df_test_features[col].astype(str))\n"
   ]
  },
  {
   "cell_type": "code",
   "execution_count": 15,
   "metadata": {},
   "outputs": [],
   "source": [
    "# Imputar valores faltantes\n",
    "imputer = SimpleImputer(strategy='mean')\n",
    "X_imputed = imputer.fit_transform(X)\n",
    "df_test_imputed = imputer.fit_transform(df_test_features)"
   ]
  },
  {
   "cell_type": "code",
   "execution_count": 16,
   "metadata": {},
   "outputs": [],
   "source": [
    "# Escalar\n",
    "scaler = StandardScaler()\n",
    "X_scaled = scaler.fit_transform(X_imputed)\n",
    "df_test_scaled = scaler.fit_transform(df_test_imputed)"
   ]
  },
  {
   "cell_type": "code",
   "execution_count": 17,
   "metadata": {},
   "outputs": [],
   "source": [
    "# Dividir en train/test\n",
    "X_train, X_test, y_train, y_test = train_test_split(X_scaled, y, test_size=0.2, random_state=42)"
   ]
  },
  {
   "cell_type": "markdown",
   "metadata": {},
   "source": [
    "## 3.- Evaluación y optimización\n"
   ]
  },
  {
   "cell_type": "code",
   "execution_count": 19,
   "metadata": {},
   "outputs": [
    {
     "name": "stderr",
     "output_type": "stream",
     "text": [
      "C:\\Users\\Day\\anaconda3\\envs\\myenv\\lib\\site-packages\\pytorch_tabnet\\abstract_model.py:82: UserWarning: Device used : cpu\n",
      "  warnings.warn(f\"Device used : {self.device}\")\n"
     ]
    }
   ],
   "source": [
    "# Definir el modelo TabNet\n",
    "tabnet = TabNetClassifier(optimizer_fn=optim.Adam, optimizer_params={'lr': 1e-4})\n"
   ]
  },
  {
   "cell_type": "code",
   "execution_count": 20,
   "metadata": {},
   "outputs": [
    {
     "name": "stderr",
     "output_type": "stream",
     "text": [
      "C:\\Users\\Day\\anaconda3\\envs\\myenv\\lib\\site-packages\\pytorch_tabnet\\abstract_model.py:687: UserWarning: No early stopping will be performed, last training weights will be used.\n",
      "  warnings.warn(wrn_msg)\n"
     ]
    },
    {
     "name": "stdout",
     "output_type": "stream",
     "text": [
      "epoch 0  | loss: 0.95643 |  0:00:02s\n",
      "epoch 1  | loss: 0.94579 |  0:00:04s\n",
      "epoch 2  | loss: 0.91883 |  0:00:08s\n",
      "epoch 3  | loss: 0.92037 |  0:00:10s\n",
      "epoch 4  | loss: 0.90987 |  0:00:11s\n",
      "epoch 5  | loss: 0.89254 |  0:00:13s\n",
      "epoch 6  | loss: 0.89292 |  0:00:14s\n",
      "epoch 7  | loss: 0.87194 |  0:00:16s\n",
      "epoch 8  | loss: 0.85996 |  0:00:17s\n",
      "epoch 9  | loss: 0.85092 |  0:00:19s\n",
      "epoch 10 | loss: 0.84995 |  0:00:21s\n",
      "epoch 11 | loss: 0.82351 |  0:00:22s\n",
      "epoch 12 | loss: 0.82471 |  0:00:24s\n",
      "epoch 13 | loss: 0.81286 |  0:00:25s\n",
      "epoch 14 | loss: 0.82127 |  0:00:27s\n",
      "epoch 15 | loss: 0.81824 |  0:00:29s\n",
      "epoch 16 | loss: 0.81253 |  0:00:30s\n",
      "epoch 17 | loss: 0.79482 |  0:00:32s\n",
      "epoch 18 | loss: 0.79602 |  0:00:33s\n",
      "epoch 19 | loss: 0.79518 |  0:00:35s\n",
      "epoch 20 | loss: 0.77838 |  0:00:37s\n",
      "epoch 21 | loss: 0.77687 |  0:00:38s\n",
      "epoch 22 | loss: 0.7682  |  0:00:40s\n",
      "epoch 23 | loss: 0.77013 |  0:00:41s\n",
      "epoch 24 | loss: 0.76759 |  0:00:43s\n",
      "epoch 25 | loss: 0.75074 |  0:00:45s\n",
      "epoch 26 | loss: 0.77349 |  0:00:46s\n",
      "epoch 27 | loss: 0.75359 |  0:00:48s\n",
      "epoch 28 | loss: 0.75583 |  0:00:50s\n",
      "epoch 29 | loss: 0.73996 |  0:00:51s\n",
      "epoch 30 | loss: 0.74138 |  0:00:53s\n",
      "epoch 31 | loss: 0.73838 |  0:00:55s\n",
      "epoch 32 | loss: 0.7454  |  0:00:56s\n",
      "epoch 33 | loss: 0.72576 |  0:00:58s\n",
      "epoch 34 | loss: 0.72944 |  0:01:00s\n",
      "epoch 35 | loss: 0.72834 |  0:01:01s\n",
      "epoch 36 | loss: 0.72229 |  0:01:03s\n",
      "epoch 37 | loss: 0.72253 |  0:01:05s\n",
      "epoch 38 | loss: 0.72394 |  0:01:06s\n",
      "epoch 39 | loss: 0.72193 |  0:01:07s\n",
      "epoch 40 | loss: 0.71795 |  0:01:09s\n",
      "epoch 41 | loss: 0.71497 |  0:01:11s\n",
      "epoch 42 | loss: 0.71023 |  0:01:12s\n",
      "epoch 43 | loss: 0.70717 |  0:01:14s\n",
      "epoch 44 | loss: 0.70701 |  0:01:15s\n",
      "epoch 45 | loss: 0.70831 |  0:01:17s\n",
      "epoch 46 | loss: 0.70322 |  0:01:19s\n",
      "epoch 47 | loss: 0.70594 |  0:01:21s\n",
      "epoch 48 | loss: 0.70004 |  0:01:22s\n",
      "epoch 49 | loss: 0.69798 |  0:01:24s\n",
      "epoch 50 | loss: 0.69865 |  0:01:25s\n",
      "epoch 51 | loss: 0.70176 |  0:01:27s\n",
      "epoch 52 | loss: 0.69316 |  0:01:28s\n",
      "epoch 53 | loss: 0.69747 |  0:01:30s\n",
      "epoch 54 | loss: 0.69473 |  0:01:31s\n",
      "epoch 55 | loss: 0.69672 |  0:01:33s\n",
      "epoch 56 | loss: 0.69231 |  0:01:35s\n",
      "epoch 57 | loss: 0.68403 |  0:01:37s\n",
      "epoch 58 | loss: 0.69003 |  0:01:38s\n",
      "epoch 59 | loss: 0.6914  |  0:01:40s\n",
      "epoch 60 | loss: 0.68615 |  0:01:42s\n",
      "epoch 61 | loss: 0.68112 |  0:01:43s\n",
      "epoch 62 | loss: 0.68816 |  0:01:45s\n",
      "epoch 63 | loss: 0.68183 |  0:01:47s\n",
      "epoch 64 | loss: 0.68396 |  0:01:49s\n",
      "epoch 65 | loss: 0.67859 |  0:01:50s\n",
      "epoch 66 | loss: 0.68331 |  0:01:52s\n",
      "epoch 67 | loss: 0.68154 |  0:01:53s\n",
      "epoch 68 | loss: 0.68347 |  0:01:55s\n",
      "epoch 69 | loss: 0.68126 |  0:01:56s\n",
      "epoch 70 | loss: 0.6807  |  0:01:58s\n",
      "epoch 71 | loss: 0.6792  |  0:02:00s\n",
      "epoch 72 | loss: 0.67707 |  0:02:02s\n",
      "epoch 73 | loss: 0.67475 |  0:02:03s\n",
      "epoch 74 | loss: 0.67178 |  0:02:05s\n",
      "epoch 75 | loss: 0.67448 |  0:02:07s\n",
      "epoch 76 | loss: 0.67104 |  0:02:08s\n",
      "epoch 77 | loss: 0.67614 |  0:02:10s\n",
      "epoch 78 | loss: 0.67295 |  0:02:11s\n",
      "epoch 79 | loss: 0.67729 |  0:02:13s\n",
      "epoch 80 | loss: 0.66621 |  0:02:15s\n",
      "epoch 81 | loss: 0.67237 |  0:02:17s\n",
      "epoch 82 | loss: 0.67604 |  0:02:19s\n",
      "epoch 83 | loss: 0.67667 |  0:02:20s\n",
      "epoch 84 | loss: 0.67037 |  0:02:22s\n",
      "epoch 85 | loss: 0.66423 |  0:02:24s\n",
      "epoch 86 | loss: 0.66582 |  0:02:25s\n",
      "epoch 87 | loss: 0.66675 |  0:02:26s\n",
      "epoch 88 | loss: 0.66811 |  0:02:28s\n",
      "epoch 89 | loss: 0.66502 |  0:02:30s\n",
      "epoch 90 | loss: 0.66368 |  0:02:32s\n",
      "epoch 91 | loss: 0.66872 |  0:02:33s\n",
      "epoch 92 | loss: 0.6655  |  0:02:35s\n",
      "epoch 93 | loss: 0.66982 |  0:02:37s\n",
      "epoch 94 | loss: 0.66403 |  0:02:38s\n",
      "epoch 95 | loss: 0.66542 |  0:02:40s\n",
      "epoch 96 | loss: 0.66389 |  0:02:41s\n",
      "epoch 97 | loss: 0.66297 |  0:02:43s\n",
      "epoch 98 | loss: 0.6616  |  0:02:45s\n",
      "epoch 99 | loss: 0.66163 |  0:02:46s\n",
      "epoch 100| loss: 0.66015 |  0:02:48s\n",
      "epoch 101| loss: 0.65936 |  0:02:50s\n",
      "epoch 102| loss: 0.66444 |  0:02:52s\n",
      "epoch 103| loss: 0.65774 |  0:02:53s\n",
      "epoch 104| loss: 0.65886 |  0:02:55s\n",
      "epoch 105| loss: 0.6581  |  0:02:56s\n",
      "epoch 106| loss: 0.65941 |  0:02:58s\n",
      "epoch 107| loss: 0.65941 |  0:03:00s\n",
      "epoch 108| loss: 0.6585  |  0:03:02s\n",
      "epoch 109| loss: 0.65883 |  0:03:03s\n",
      "epoch 110| loss: 0.65546 |  0:03:05s\n",
      "epoch 111| loss: 0.65734 |  0:03:06s\n",
      "epoch 112| loss: 0.65439 |  0:03:08s\n",
      "epoch 113| loss: 0.66015 |  0:03:09s\n",
      "epoch 114| loss: 0.65608 |  0:03:11s\n",
      "epoch 115| loss: 0.66034 |  0:03:12s\n",
      "epoch 116| loss: 0.65824 |  0:03:13s\n",
      "epoch 117| loss: 0.65509 |  0:03:15s\n",
      "epoch 118| loss: 0.65623 |  0:03:16s\n",
      "epoch 119| loss: 0.651   |  0:03:18s\n",
      "epoch 120| loss: 0.65629 |  0:03:19s\n",
      "epoch 121| loss: 0.65731 |  0:03:21s\n",
      "epoch 122| loss: 0.65576 |  0:03:22s\n",
      "epoch 123| loss: 0.65471 |  0:03:25s\n",
      "epoch 124| loss: 0.65463 |  0:03:26s\n",
      "epoch 125| loss: 0.65339 |  0:03:28s\n",
      "epoch 126| loss: 0.65402 |  0:03:29s\n",
      "epoch 127| loss: 0.65675 |  0:03:31s\n",
      "epoch 128| loss: 0.65046 |  0:03:32s\n",
      "epoch 129| loss: 0.65606 |  0:03:34s\n",
      "epoch 130| loss: 0.65127 |  0:03:35s\n",
      "epoch 131| loss: 0.65178 |  0:03:37s\n",
      "epoch 132| loss: 0.65567 |  0:03:39s\n",
      "epoch 133| loss: 0.65225 |  0:03:40s\n",
      "epoch 134| loss: 0.65148 |  0:03:42s\n",
      "epoch 135| loss: 0.65104 |  0:03:44s\n",
      "epoch 136| loss: 0.65102 |  0:03:45s\n",
      "epoch 137| loss: 0.65134 |  0:03:47s\n",
      "epoch 138| loss: 0.65279 |  0:03:48s\n",
      "epoch 139| loss: 0.65087 |  0:03:50s\n",
      "epoch 140| loss: 0.65213 |  0:03:51s\n",
      "epoch 141| loss: 0.64624 |  0:03:53s\n",
      "epoch 142| loss: 0.64932 |  0:03:55s\n",
      "epoch 143| loss: 0.64956 |  0:03:56s\n",
      "epoch 144| loss: 0.64599 |  0:03:58s\n",
      "epoch 145| loss: 0.65115 |  0:04:00s\n",
      "epoch 146| loss: 0.6497  |  0:04:01s\n",
      "epoch 147| loss: 0.64729 |  0:04:02s\n",
      "epoch 148| loss: 0.64485 |  0:04:04s\n",
      "epoch 149| loss: 0.64828 |  0:04:06s\n",
      "epoch 150| loss: 0.65197 |  0:04:07s\n",
      "epoch 151| loss: 0.65012 |  0:04:09s\n",
      "epoch 152| loss: 0.65064 |  0:04:10s\n",
      "epoch 153| loss: 0.64525 |  0:04:12s\n",
      "epoch 154| loss: 0.64918 |  0:04:14s\n",
      "epoch 155| loss: 0.64507 |  0:04:16s\n",
      "epoch 156| loss: 0.64914 |  0:04:17s\n",
      "epoch 157| loss: 0.64535 |  0:04:19s\n",
      "epoch 158| loss: 0.64294 |  0:04:20s\n",
      "epoch 159| loss: 0.64719 |  0:04:22s\n",
      "epoch 160| loss: 0.64775 |  0:04:24s\n",
      "epoch 161| loss: 0.64899 |  0:04:26s\n",
      "epoch 162| loss: 0.64766 |  0:04:27s\n",
      "epoch 163| loss: 0.64291 |  0:04:29s\n",
      "epoch 164| loss: 0.64891 |  0:04:31s\n",
      "epoch 165| loss: 0.64799 |  0:04:33s\n",
      "epoch 166| loss: 0.6474  |  0:04:34s\n",
      "epoch 167| loss: 0.6451  |  0:04:36s\n",
      "epoch 168| loss: 0.64352 |  0:04:37s\n",
      "epoch 169| loss: 0.64887 |  0:04:39s\n",
      "epoch 170| loss: 0.64797 |  0:04:41s\n",
      "epoch 171| loss: 0.64591 |  0:04:43s\n",
      "epoch 172| loss: 0.64031 |  0:04:44s\n",
      "epoch 173| loss: 0.6421  |  0:04:46s\n",
      "epoch 174| loss: 0.64536 |  0:04:48s\n",
      "epoch 175| loss: 0.64743 |  0:04:49s\n",
      "epoch 176| loss: 0.63957 |  0:04:51s\n",
      "epoch 177| loss: 0.64599 |  0:04:53s\n",
      "epoch 178| loss: 0.64746 |  0:04:54s\n",
      "epoch 179| loss: 0.64495 |  0:04:56s\n",
      "epoch 180| loss: 0.64434 |  0:04:58s\n",
      "epoch 181| loss: 0.64794 |  0:04:59s\n",
      "epoch 182| loss: 0.6404  |  0:05:01s\n",
      "epoch 183| loss: 0.64021 |  0:05:03s\n",
      "epoch 184| loss: 0.64165 |  0:05:04s\n",
      "epoch 185| loss: 0.64325 |  0:05:06s\n",
      "epoch 186| loss: 0.64423 |  0:05:07s\n",
      "epoch 187| loss: 0.6433  |  0:05:09s\n",
      "epoch 188| loss: 0.641   |  0:05:11s\n",
      "epoch 189| loss: 0.64197 |  0:05:12s\n",
      "epoch 190| loss: 0.64354 |  0:05:14s\n",
      "epoch 191| loss: 0.64363 |  0:05:16s\n",
      "epoch 192| loss: 0.64142 |  0:05:18s\n",
      "epoch 193| loss: 0.64106 |  0:05:19s\n",
      "epoch 194| loss: 0.63995 |  0:05:21s\n",
      "epoch 195| loss: 0.64057 |  0:05:22s\n",
      "epoch 196| loss: 0.63799 |  0:05:23s\n",
      "epoch 197| loss: 0.63675 |  0:05:25s\n",
      "epoch 198| loss: 0.63841 |  0:05:27s\n",
      "epoch 199| loss: 0.64005 |  0:05:28s\n"
     ]
    }
   ],
   "source": [
    "# Entrenar el modelo\n",
    "#A lo largo del entrenamiento se fueron modificando las diferentes características del modelo para buscar optimizarlo.\n",
    "tabnet.fit(X_train=X_train, y_train=y_train, max_epochs=200, patience=30, batch_size=256, virtual_batch_size=128)"
   ]
  },
  {
   "cell_type": "code",
   "execution_count": 21,
   "metadata": {},
   "outputs": [],
   "source": [
    "# Predecir\n",
    "y_pred = tabnet.predict(X_test)"
   ]
  },
  {
   "cell_type": "code",
   "execution_count": 22,
   "metadata": {},
   "outputs": [],
   "source": [
    "y_pred_prob = tabnet.predict_proba(X_test)\n",
    "y_pred = (y_pred_prob[:, 1] > 0.4).astype(int)  # Umbral de 0.4\n"
   ]
  },
  {
   "cell_type": "code",
   "execution_count": 23,
   "metadata": {},
   "outputs": [],
   "source": [
    "# Hacer predicciones\n",
    "y_test_pred = tabnet.predict(df_test_scaled)"
   ]
  },
  {
   "cell_type": "code",
   "execution_count": 24,
   "metadata": {},
   "outputs": [
    {
     "name": "stdout",
     "output_type": "stream",
     "text": [
      "[[245 344]\n",
      " [130 452]]\n",
      "              precision    recall  f1-score   support\n",
      "\n",
      "           0       0.65      0.42      0.51       589\n",
      "           1       0.57      0.78      0.66       582\n",
      "\n",
      "    accuracy                           0.60      1171\n",
      "   macro avg       0.61      0.60      0.58      1171\n",
      "weighted avg       0.61      0.60      0.58      1171\n",
      "\n"
     ]
    }
   ],
   "source": [
    "# Evaluar\n",
    "print(confusion_matrix(y_test, y_pred))\n",
    "print(classification_report(y_test, y_pred))"
   ]
  },
  {
   "cell_type": "code",
   "execution_count": 25,
   "metadata": {},
   "outputs": [
    {
     "name": "stdout",
     "output_type": "stream",
     "text": [
      "            id  ACCEPT\n",
      "0  6b7ce9ec161       0\n",
      "1  96123015731       1\n",
      "2  b2c5181ac5b       0\n",
      "3  e6cb54a9e6a       0\n",
      "4  8eddf83466e       1\n",
      "0\n"
     ]
    }
   ],
   "source": [
    "df_test['ACCEPT'] = y_test_pred\n",
    "print(df_test[['id', 'ACCEPT']].head())\n",
    "missing_accept = df_test['ACCEPT'].isnull().sum()\n",
    "print(missing_accept)\n"
   ]
  },
  {
   "cell_type": "code",
   "execution_count": 26,
   "metadata": {},
   "outputs": [
    {
     "name": "stdout",
     "output_type": "stream",
     "text": [
      "            id  ACCEPT\n",
      "0  6b7ce9ec161       0\n",
      "1  96123015731       1\n",
      "2  b2c5181ac5b       0\n",
      "3  e6cb54a9e6a       0\n",
      "4  8eddf83466e       1\n"
     ]
    }
   ],
   "source": [
    "# Crear DataFrame con las predicciones (id y Accept)\n",
    "df_result = df_test[['id']].copy()  # Agregar 'id' del conjunto de test\n",
    "df_result['ACCEPT'] = y_test_pred\n",
    "# Verifica las primeras filas del DataFrame\n",
    "print(df_result.head())"
   ]
  },
  {
   "cell_type": "code",
   "execution_count": 27,
   "metadata": {},
   "outputs": [
    {
     "name": "stdout",
     "output_type": "stream",
     "text": [
      "¡Predicciones completas y archivo guardado como 'resultado_test.csv'!\n"
     ]
    }
   ],
   "source": [
    "# Guardar el resultado en un archivo CSV\n",
    "df_result.to_csv(\"SUBMMIT_TABNET.csv\", index=False)\n",
    "\n",
    "print(\"¡Predicciones completas y archivo guardado como 'resultado_test.csv'!\")"
   ]
  },
  {
   "cell_type": "markdown",
   "metadata": {},
   "source": [
    "## 4.- Conclusión"
   ]
  },
  {
   "cell_type": "markdown",
   "metadata": {},
   "source": [
    "El modelo TabNet, diseñado para trabajar con datos tabulares, logró una exactitud global del 60% en la predicción de la aceptación de préstamos bancarios. Si bien su rendimiento general es moderado, se observa un desempeño desigual entre las dos clases.\n",
    "\n",
    "En particular, el modelo muestra una buena capacidad para identificar correctamente los préstamos aprobados (clase 1), con un recall del 78%, lo que significa que detecta de manera efectiva la mayoría de los casos positivos. Sin embargo, esta ventaja viene acompañada de un bajo rendimiento en la clasificación de los préstamos rechazados (clase 0), donde el recall fue solo del 42%, reflejando una alta tasa de falsos negativos en esta categoría.\n",
    "\n",
    "Los valores de f1-score refuerzan este desequilibrio: 0.66 para la clase aprobada y 0.51 para la rechazada. Esto sugiere que, aunque el modelo favorece la identificación de solicitudes aprobadas, su precisión en detectar rechazos es limitada, lo que puede generar riesgos en un contexto bancario.\n",
    "\n",
    "En conclusión, aunque TabNet ofrece ventajas en la detección de préstamos aprobados, su aplicación en escenarios reales requeriría ajustes para mejorar la sensibilidad hacia los casos rechazados. Sería recomendable considerar técnicas de balanceo de clases, ajuste de hiperparámetros o combinarlo con otros modelos para mejorar el equilibrio en las predicciones."
   ]
  },
  {
   "cell_type": "code",
   "execution_count": null,
   "metadata": {},
   "outputs": [],
   "source": []
  }
 ],
 "metadata": {
  "kernelspec": {
   "display_name": "Python (myenv)",
   "language": "python",
   "name": "myenv"
  },
  "language_info": {
   "codemirror_mode": {
    "name": "ipython",
    "version": 3
   },
   "file_extension": ".py",
   "mimetype": "text/x-python",
   "name": "python",
   "nbconvert_exporter": "python",
   "pygments_lexer": "ipython3",
   "version": "3.8.18"
  }
 },
 "nbformat": 4,
 "nbformat_minor": 4
}
