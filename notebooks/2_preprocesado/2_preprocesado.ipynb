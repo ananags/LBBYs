{
 "cells": [
  {
   "cell_type": "code",
   "execution_count": 1,
   "metadata": {},
   "outputs": [],
   "source": [
    "import pandas as pd\n",
    "import numpy as np\n",
    "import os\n",
    "import io\n",
    "import gzip\n"
   ]
  },
  {
   "cell_type": "markdown",
   "metadata": {},
   "source": [
    "1. Lectura de los archivos en raw, y me creo los archivos parquet que voy a utilizar"
   ]
  },
  {
   "cell_type": "code",
   "execution_count": 2,
   "metadata": {},
   "outputs": [],
   "source": [
    "df_train = pd.read_csv('../../data/raw/train.csv')\n",
    "df_test_nolabel = pd.read_csv('../../data/raw/test_nolabel.csv')\n",
    "df_sample_submission= pd.read_csv('../../data/raw/sample_submission.csv')\n",
    "\n",
    "# df_train = df_test_nolabel\n",
    "#df_train = pd.read_parquet('../data/agregado_diario_2019-2021.parquet')"
   ]
  },
  {
   "cell_type": "code",
   "execution_count": 3,
   "metadata": {},
   "outputs": [
    {
     "data": {
      "text/html": [
       "<div>\n",
       "<style scoped>\n",
       "    .dataframe tbody tr th:only-of-type {\n",
       "        vertical-align: middle;\n",
       "    }\n",
       "\n",
       "    .dataframe tbody tr th {\n",
       "        vertical-align: top;\n",
       "    }\n",
       "\n",
       "    .dataframe thead th {\n",
       "        text-align: right;\n",
       "    }\n",
       "</style>\n",
       "<table border=\"1\" class=\"dataframe\">\n",
       "  <thead>\n",
       "    <tr style=\"text-align: right;\">\n",
       "      <th></th>\n",
       "      <th>id</th>\n",
       "      <th>LoanNr_ChkDgt</th>\n",
       "      <th>Name</th>\n",
       "      <th>City</th>\n",
       "      <th>State</th>\n",
       "      <th>Bank</th>\n",
       "      <th>BankState</th>\n",
       "      <th>ApprovalDate</th>\n",
       "      <th>ApprovalFY</th>\n",
       "      <th>NoEmp</th>\n",
       "      <th>...</th>\n",
       "      <th>CreateJob</th>\n",
       "      <th>RetainedJob</th>\n",
       "      <th>FranchiseCode</th>\n",
       "      <th>UrbanRural</th>\n",
       "      <th>RevLineCr</th>\n",
       "      <th>LowDoc</th>\n",
       "      <th>DisbursementDate</th>\n",
       "      <th>DisbursementGross</th>\n",
       "      <th>BalanceGross</th>\n",
       "      <th>Accept</th>\n",
       "    </tr>\n",
       "  </thead>\n",
       "  <tbody>\n",
       "    <tr>\n",
       "      <th>0</th>\n",
       "      <td>bd9d6267ec5</td>\n",
       "      <td>1523195006</td>\n",
       "      <td>P-SCAPE LAND DESIGN, LLC</td>\n",
       "      <td>NORTHFIELD</td>\n",
       "      <td>OH</td>\n",
       "      <td>CITIZENS BANK NATL ASSOC</td>\n",
       "      <td>RI</td>\n",
       "      <td>1-Nov-05</td>\n",
       "      <td>2006</td>\n",
       "      <td>2</td>\n",
       "      <td>...</td>\n",
       "      <td>0</td>\n",
       "      <td>2</td>\n",
       "      <td>0</td>\n",
       "      <td>1</td>\n",
       "      <td>N</td>\n",
       "      <td>N</td>\n",
       "      <td>31-Dec-05</td>\n",
       "      <td>$8,000.00</td>\n",
       "      <td>$0.00</td>\n",
       "      <td>1</td>\n",
       "    </tr>\n",
       "    <tr>\n",
       "      <th>1</th>\n",
       "      <td>9eebf6d8098</td>\n",
       "      <td>1326365010</td>\n",
       "      <td>The Fresh &amp; Healthy Catering C</td>\n",
       "      <td>CANTON</td>\n",
       "      <td>OH</td>\n",
       "      <td>FIRSTMERIT BANK, N.A.</td>\n",
       "      <td>OH</td>\n",
       "      <td>6-Jun-05</td>\n",
       "      <td>2005</td>\n",
       "      <td>2</td>\n",
       "      <td>...</td>\n",
       "      <td>1</td>\n",
       "      <td>2</td>\n",
       "      <td>1</td>\n",
       "      <td>1</td>\n",
       "      <td>N</td>\n",
       "      <td>N</td>\n",
       "      <td>31-Jul-05</td>\n",
       "      <td>$166,000.00</td>\n",
       "      <td>$0.00</td>\n",
       "      <td>1</td>\n",
       "    </tr>\n",
       "    <tr>\n",
       "      <th>2</th>\n",
       "      <td>83806858500</td>\n",
       "      <td>6179584001</td>\n",
       "      <td>AARON MASON &amp; HOWE LLC</td>\n",
       "      <td>SAWYERWOOD</td>\n",
       "      <td>OH</td>\n",
       "      <td>PNC BANK, NATIONAL ASSOCIATION</td>\n",
       "      <td>OH</td>\n",
       "      <td>18-Mar-03</td>\n",
       "      <td>2003</td>\n",
       "      <td>2</td>\n",
       "      <td>...</td>\n",
       "      <td>4</td>\n",
       "      <td>2</td>\n",
       "      <td>1</td>\n",
       "      <td>2</td>\n",
       "      <td>Y</td>\n",
       "      <td>N</td>\n",
       "      <td>31-Mar-03</td>\n",
       "      <td>$25,000.00</td>\n",
       "      <td>$0.00</td>\n",
       "      <td>1</td>\n",
       "    </tr>\n",
       "    <tr>\n",
       "      <th>3</th>\n",
       "      <td>a21ab9cb3af</td>\n",
       "      <td>8463493009</td>\n",
       "      <td>MID OHIO CAR WASH</td>\n",
       "      <td>COLUMBUS</td>\n",
       "      <td>OH</td>\n",
       "      <td>THE HUNTINGTON NATIONAL BANK</td>\n",
       "      <td>OH</td>\n",
       "      <td>28-Jun-95</td>\n",
       "      <td>1995</td>\n",
       "      <td>2</td>\n",
       "      <td>...</td>\n",
       "      <td>0</td>\n",
       "      <td>0</td>\n",
       "      <td>1</td>\n",
       "      <td>0</td>\n",
       "      <td>N</td>\n",
       "      <td>N</td>\n",
       "      <td>31-Jan-96</td>\n",
       "      <td>$220,100.00</td>\n",
       "      <td>$0.00</td>\n",
       "      <td>1</td>\n",
       "    </tr>\n",
       "    <tr>\n",
       "      <th>4</th>\n",
       "      <td>883b5e5385e</td>\n",
       "      <td>3382225007</td>\n",
       "      <td>Bake N Brew LLC</td>\n",
       "      <td>Newark</td>\n",
       "      <td>OH</td>\n",
       "      <td>THE HUNTINGTON NATIONAL BANK</td>\n",
       "      <td>OH</td>\n",
       "      <td>16-Apr-09</td>\n",
       "      <td>2009</td>\n",
       "      <td>0</td>\n",
       "      <td>...</td>\n",
       "      <td>0</td>\n",
       "      <td>0</td>\n",
       "      <td>0</td>\n",
       "      <td>1</td>\n",
       "      <td>N</td>\n",
       "      <td>N</td>\n",
       "      <td>31-May-09</td>\n",
       "      <td>$25,000.00</td>\n",
       "      <td>$0.00</td>\n",
       "      <td>0</td>\n",
       "    </tr>\n",
       "  </tbody>\n",
       "</table>\n",
       "<p>5 rows × 21 columns</p>\n",
       "</div>"
      ],
      "text/plain": [
       "            id  LoanNr_ChkDgt                            Name        City  \\\n",
       "0  bd9d6267ec5     1523195006        P-SCAPE LAND DESIGN, LLC  NORTHFIELD   \n",
       "1  9eebf6d8098     1326365010  The Fresh & Healthy Catering C      CANTON   \n",
       "2  83806858500     6179584001          AARON MASON & HOWE LLC  SAWYERWOOD   \n",
       "3  a21ab9cb3af     8463493009               MID OHIO CAR WASH    COLUMBUS   \n",
       "4  883b5e5385e     3382225007                 Bake N Brew LLC      Newark   \n",
       "\n",
       "  State                            Bank BankState ApprovalDate  ApprovalFY  \\\n",
       "0    OH        CITIZENS BANK NATL ASSOC        RI     1-Nov-05        2006   \n",
       "1    OH           FIRSTMERIT BANK, N.A.        OH     6-Jun-05        2005   \n",
       "2    OH  PNC BANK, NATIONAL ASSOCIATION        OH    18-Mar-03        2003   \n",
       "3    OH    THE HUNTINGTON NATIONAL BANK        OH    28-Jun-95        1995   \n",
       "4    OH    THE HUNTINGTON NATIONAL BANK        OH    16-Apr-09        2009   \n",
       "\n",
       "   NoEmp  ...  CreateJob  RetainedJob  FranchiseCode  UrbanRural  RevLineCr  \\\n",
       "0      2  ...          0            2              0           1          N   \n",
       "1      2  ...          1            2              1           1          N   \n",
       "2      2  ...          4            2              1           2          Y   \n",
       "3      2  ...          0            0              1           0          N   \n",
       "4      0  ...          0            0              0           1          N   \n",
       "\n",
       "  LowDoc DisbursementDate DisbursementGross BalanceGross Accept  \n",
       "0      N        31-Dec-05        $8,000.00        $0.00       1  \n",
       "1      N        31-Jul-05      $166,000.00        $0.00       1  \n",
       "2      N        31-Mar-03       $25,000.00        $0.00       1  \n",
       "3      N        31-Jan-96      $220,100.00        $0.00       1  \n",
       "4      N        31-May-09       $25,000.00        $0.00       0  \n",
       "\n",
       "[5 rows x 21 columns]"
      ]
     },
     "execution_count": 3,
     "metadata": {},
     "output_type": "execute_result"
    }
   ],
   "source": [
    "df_train.head()"
   ]
  },
  {
   "cell_type": "code",
   "execution_count": 4,
   "metadata": {},
   "outputs": [
    {
     "name": "stdout",
     "output_type": "stream",
     "text": [
      "<class 'pandas.core.frame.DataFrame'>\n",
      "RangeIndex: 22835 entries, 0 to 22834\n",
      "Data columns (total 21 columns):\n",
      " #   Column             Non-Null Count  Dtype  \n",
      "---  ------             --------------  -----  \n",
      " 0   id                 22835 non-null  object \n",
      " 1   LoanNr_ChkDgt      22835 non-null  int64  \n",
      " 2   Name               22834 non-null  object \n",
      " 3   City               22834 non-null  object \n",
      " 4   State              22835 non-null  object \n",
      " 5   Bank               22813 non-null  object \n",
      " 6   BankState          22813 non-null  object \n",
      " 7   ApprovalDate       22835 non-null  object \n",
      " 8   ApprovalFY         22835 non-null  int64  \n",
      " 9   NoEmp              22835 non-null  int64  \n",
      " 10  NewExist           22833 non-null  float64\n",
      " 11  CreateJob          22835 non-null  int64  \n",
      " 12  RetainedJob        22835 non-null  int64  \n",
      " 13  FranchiseCode      22835 non-null  int64  \n",
      " 14  UrbanRural         22835 non-null  int64  \n",
      " 15  RevLineCr          22744 non-null  object \n",
      " 16  LowDoc             22792 non-null  object \n",
      " 17  DisbursementDate   22774 non-null  object \n",
      " 18  DisbursementGross  22835 non-null  object \n",
      " 19  BalanceGross       22835 non-null  object \n",
      " 20  Accept             22835 non-null  int64  \n",
      "dtypes: float64(1), int64(8), object(12)\n",
      "memory usage: 3.7+ MB\n"
     ]
    }
   ],
   "source": [
    "df_train.info()"
   ]
  },
  {
   "cell_type": "code",
   "execution_count": 5,
   "metadata": {},
   "outputs": [
    {
     "data": {
      "text/plain": [
       "id                    0\n",
       "LoanNr_ChkDgt         0\n",
       "Name                  1\n",
       "City                  1\n",
       "State                 0\n",
       "Bank                 22\n",
       "BankState            22\n",
       "ApprovalDate          0\n",
       "ApprovalFY            0\n",
       "NoEmp                 0\n",
       "NewExist              2\n",
       "CreateJob             0\n",
       "RetainedJob           0\n",
       "FranchiseCode         0\n",
       "UrbanRural            0\n",
       "RevLineCr            91\n",
       "LowDoc               43\n",
       "DisbursementDate     61\n",
       "DisbursementGross     0\n",
       "BalanceGross          0\n",
       "Accept                0\n",
       "dtype: int64"
      ]
     },
     "execution_count": 5,
     "metadata": {},
     "output_type": "execute_result"
    }
   ],
   "source": [
    "df_train.isnull().sum()"
   ]
  },
  {
   "cell_type": "markdown",
   "metadata": {},
   "source": [
    "2. Cambiar los valores correspondientes.\n",
    "\n",
    "La gran mayoría de los valores son de tipo objet, int64 y float64, tienen que ser acorde a sus valores.\n",
    "\n",
    "Primero cambio los valores de las fechas, que son Approval Date y DisbursementDate que están puesto con letra escrita en vez de en el formato de numero.\n",
    "Después cambiamos los valores que están raros y no se adaptan"
   ]
  },
  {
   "cell_type": "markdown",
   "metadata": {},
   "source": [
    "* *DisbursementDate* => transformar la fecha\n",
    "* *Name* => String, Si no sabemos lo ponemos Unknown\n",
    "* *City* => String, Si no sabemos lo ponemos Unknown\n",
    "* *State* => Son todosde tipo OH\n",
    "* *Bank* => Si quitamos los None es de tipo String, Si no sabemos lo ponemos Unknown\n",
    "* *BankState* => Si quitamos los None es de tipo String, Si no sabemos lo ponemos Unknown\n",
    "* *NewExist* => 2 / 1 / 0, int, y poner la media donde sea nulo; \n",
    "\n",
    "    1 = Existing business, 2 = New business; \n",
    "\n",
    "    Si no lo sabemos ponemos vieja empresa que es la mayoría, es decir, que ya existía la empresa, 0. \n",
    "\n",
    "    Por lo que corresponde con 0 = Existing y 1 = New\n",
    "* *RevLineCr* => array(['N', 'Y', '0', 'T', None, '`'], dtype=object, \n",
    "\n",
    "    Hay que limpiarlo, sabiendo que tiene que ser Y = Yes, N = No, para el que no sepamos ponemos la mayoría; después ponemos True => 1 y False => 0\n",
    "* *LowDoc* => array(['N', 'Y', None, 'A', '0', 'S', 'R', 'C'], dtype=object)\n",
    "\n",
    "    Tiene que ser Y = Yes, N = No, para el que no sepamos ponemos la mayoría; después ponemos True => 1 y False => 0\n",
    "* *DisbursementGross* => Quitar el dolar y hacerlo double\n",
    "* *BalanceGross* => Quitar el dolar y hacerlo double y donde sea nulo"
   ]
  },
  {
   "cell_type": "code",
   "execution_count": 7,
   "metadata": {},
   "outputs": [
    {
     "data": {
      "text/plain": [
       "id                    0\n",
       "LoanNr_ChkDgt         0\n",
       "Name                  0\n",
       "City                  0\n",
       "State                 0\n",
       "Bank                  0\n",
       "BankState             0\n",
       "ApprovalDate          0\n",
       "ApprovalFY            0\n",
       "NoEmp                 0\n",
       "NewExist             14\n",
       "CreateJob             0\n",
       "RetainedJob           0\n",
       "FranchiseCode         0\n",
       "UrbanRural            0\n",
       "RevLineCr            92\n",
       "LowDoc               60\n",
       "DisbursementDate     61\n",
       "DisbursementGross     0\n",
       "BalanceGross          0\n",
       "Accept                0\n",
       "dtype: int64"
      ]
     },
     "execution_count": 7,
     "metadata": {},
     "output_type": "execute_result"
    }
   ],
   "source": [
    "df_train2.isna().sum()"
   ]
  },
  {
   "cell_type": "code",
   "execution_count": 37,
   "metadata": {},
   "outputs": [],
   "source": [
    "import pandas as pd\n",
    "import numpy as np\n",
    "\n",
    "def limpiar_y_guardar_df(df_train, output_type):\n",
    "    \"\"\"\n",
    "    Función para limpiar el DataFrame y guardarlo en un archivo.\n",
    "    \n",
    "    Args:\n",
    "    - df_train: DataFrame que se va a limpiar.\n",
    "    - output_type: Si es 0 guarda en 'df_train.csv', si es 1 guarda en 'df_test_nolabel.csv'.\n",
    "    \n",
    "    Returns:\n",
    "    - None\n",
    "    \"\"\"\n",
    "    # Copiar el DataFrame\n",
    "    df_train2 = df_train.copy()\n",
    "    \n",
    "    # Conversión de fechas a formato Datetime\n",
    "    df_train2['ApprovalDate'] = pd.to_datetime(df_train2['ApprovalDate'])\n",
    "    df_train2['DisbursementDate'] = pd.to_datetime(df_train2['DisbursementDate'])\n",
    "\n",
    "    # Rellenar valores nulos en columnas de texto\n",
    "    df_train2['Name'].fillna('Unknown', inplace=True)\n",
    "    df_train2['City'].fillna(df_train2['City'].mode()[0], inplace=True)\n",
    "\n",
    "    # Transformar a mayúsculas y eliminar texto entre paréntesis en 'City'\n",
    "    df_train2[\"City\"] = df_train2[\"City\"].str.upper()\n",
    "    df_train2 = df_train2[~df_train2[\"City\"].str.contains(r\"\\d\", regex=True, na=False)]\n",
    "    df_train2[\"City\"] = df_train2[\"City\"].str.replace(r\" \\(.*\", \"\", regex=True).str.strip()\n",
    "\n",
    "    # Rellenar valores nulos en 'Bank' y 'BankState'\n",
    "    df_train2['Bank'].fillna('Unknown', inplace=True)\n",
    "    df_train2['BankState'].fillna('Unknown', inplace=True)\n",
    "\n",
    "    # Transformación de 'NewExist' a valores binarios\n",
    "    df_train2['NewExist'] = df_train2['NewExist'].apply(\n",
    "        lambda x: 0 if str(x).strip().replace('.0','') == '1'\n",
    "                  else (1 if str(x).strip().replace('.0','') == '2'\n",
    "                        else np.nan))\n",
    "    df_train2['NewExist'] = df_train2['NewExist'].astype(\"Int64\")\n",
    "    \n",
    "    # Limpieza de 'RevLineCr' a valores binarios\n",
    "    df_train2['RevLineCr'] = df_train2['RevLineCr'].apply(lambda x: 1 if str(x).strip().upper() in ['Y','T'] \n",
    "                                                            else (0 if str(x).strip().upper() in ['N','0'] \n",
    "                                                                  else np.nan))\n",
    "    df_train2['RevLineCr'] = df_train2['RevLineCr'].astype(\"Int64\")\n",
    "\n",
    "    # Limpieza de 'LowDoc' a valores binarios\n",
    "    df_train2['LowDoc'] = df_train2['LowDoc'].apply(lambda x: 1 if str(x).strip().upper() in ['Y'] \n",
    "                                                      else (0 if str(x).strip().upper() in ['N','0'] \n",
    "                                                            else np.nan))\n",
    "    df_train2['LowDoc'] = df_train2['LowDoc'].astype(\"Int64\")\n",
    "\n",
    "    # Limpiar y convertir a float 'DisbursementGross' y 'BalanceGross'\n",
    "    df_train2['DisbursementGross'] = df_train2['DisbursementGross'].replace('[\\$,]', '', regex=True).astype(float)\n",
    "    df_train2['BalanceGross'] = df_train2['BalanceGross'].replace('[\\$,]', '', regex=True).astype(float)\n",
    "\n",
    "    # Limpiar la columna 'ApprovalFY' para extraer solo los dígitos\n",
    "    df_train2['ApprovalFY'] = df_train2['ApprovalFY'].astype(str).str.extract('(\\d+)', expand=False)\n",
    "    df_train2['ApprovalFY'] = pd.to_numeric(df_train2['ApprovalFY'], errors='coerce')\n",
    "    \n",
    "    return output_file"
   ]
  },
  {
   "cell_type": "code",
   "execution_count": null,
   "metadata": {},
   "outputs": [],
   "source": [
    "# Determinar el nombre del archivo de salida según el valor de 'output_type'\n",
    "output_file = '../../data/processed/df_train.csv' if output_type == 0 else '../../data/processed/df_test_nolabel.csv'\n",
    "\n",
    "# Guardar el DataFrame en el archivo correspondiente\n",
    "df_train2.to_csv(output_file, index=False)"
   ]
  },
  {
   "cell_type": "code",
   "execution_count": null,
   "metadata": {},
   "outputs": [],
   "source": [
    "# Para guardar el archivo como df_train.csv\n",
    "output_path = limpiar_y_guardar_df(df_train, 0)  \n",
    "print(\"Archivo guardado en:\", output_path)"
   ]
  },
  {
   "cell_type": "code",
   "execution_count": 11,
   "metadata": {},
   "outputs": [
    {
     "name": "stderr",
     "output_type": "stream",
     "text": [
      "/tmp/ipykernel_86705/4108570793.py:19: UserWarning: Could not infer format, so each element will be parsed individually, falling back to `dateutil`. To ensure parsing is consistent and as-expected, please specify a format.\n",
      "  df_train2['ApprovalDate'] = pd.to_datetime(df_train2['ApprovalDate'])\n",
      "/tmp/ipykernel_86705/4108570793.py:20: UserWarning: Could not infer format, so each element will be parsed individually, falling back to `dateutil`. To ensure parsing is consistent and as-expected, please specify a format.\n",
      "  df_train2['DisbursementDate'] = pd.to_datetime(df_train2['DisbursementDate'])\n"
     ]
    },
    {
     "name": "stdout",
     "output_type": "stream",
     "text": [
      "Archivo guardado en: ../../data/processed/df_test_nolabel.csv\n"
     ]
    }
   ],
   "source": [
    "# Para guardar el archivo como df_test_nolabel.csv\n",
    "output_path = limpiar_y_guardar_df(df_train, 1)  \n",
    "print(\"Archivo guardado en:\", output_path)"
   ]
  },
  {
   "cell_type": "code",
   "execution_count": 9,
   "metadata": {},
   "outputs": [
    {
     "data": {
      "text/plain": [
       "BalanceGross\n",
       "0.0         22830\n",
       "9111.0          1\n",
       "996262.0        1\n",
       "Name: count, dtype: int64"
      ]
     },
     "execution_count": 9,
     "metadata": {},
     "output_type": "execute_result"
    }
   ],
   "source": [
    "df_train2.BalanceGross.value_counts(dropna=False)"
   ]
  },
  {
   "cell_type": "code",
   "execution_count": 15,
   "metadata": {},
   "outputs": [
    {
     "data": {
      "text/plain": [
       "<IntegerArray>\n",
       "[0, 1, <NA>]\n",
       "Length: 3, dtype: Int64"
      ]
     },
     "execution_count": 15,
     "metadata": {},
     "output_type": "execute_result"
    }
   ],
   "source": [
    "df_train2[\"RevLineCr\"].unique()"
   ]
  },
  {
   "cell_type": "code",
   "execution_count": null,
   "metadata": {},
   "outputs": [],
   "source": []
  }
 ],
 "metadata": {
  "kernelspec": {
   "display_name": "Python 3 (ipykernel)",
   "language": "python",
   "name": "python3"
  },
  "language_info": {
   "codemirror_mode": {
    "name": "ipython",
    "version": 3
   },
   "file_extension": ".py",
   "mimetype": "text/x-python",
   "name": "python",
   "nbconvert_exporter": "python",
   "pygments_lexer": "ipython3",
   "version": "3.11.7"
  }
 },
 "nbformat": 4,
 "nbformat_minor": 4
}
