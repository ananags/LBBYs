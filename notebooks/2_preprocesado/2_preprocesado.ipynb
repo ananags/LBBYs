{
 "cells": [
  {
   "cell_type": "markdown",
   "metadata": {},
   "source": []
  },
  {
   "cell_type": "code",
   "execution_count": 2,
   "metadata": {},
   "outputs": [],
   "source": [
    "import pandas as pd\n",
    "import numpy as np\n",
    "import os\n",
    "import io\n",
    "import gzip\n"
   ]
  },
  {
   "cell_type": "markdown",
   "metadata": {},
   "source": [
    "1. Lectura de los archivos en raw, y me creo los archivos parquet que voy a utilizar"
   ]
  },
  {
   "cell_type": "code",
   "execution_count": 3,
   "metadata": {},
   "outputs": [],
   "source": [
    "df = pd.read_csv('../../data/raw/train.csv')\n",
    "df_test_nolabel = pd.read_csv('../../data/raw/test_nolabel.csv')\n",
    "df_sample_submission= pd.read_csv('../../data/raw/sample_submission.csv')\n",
    "\n",
    "df_train = df_test_nolabel\n",
    "#df_train = pd.read_parquet('../data/agregado_diario_2019-2021.parquet')"
   ]
  },
  {
   "cell_type": "code",
   "execution_count": 4,
   "metadata": {},
   "outputs": [
    {
     "data": {
      "text/html": [
       "<div>\n",
       "<style scoped>\n",
       "    .dataframe tbody tr th:only-of-type {\n",
       "        vertical-align: middle;\n",
       "    }\n",
       "\n",
       "    .dataframe tbody tr th {\n",
       "        vertical-align: top;\n",
       "    }\n",
       "\n",
       "    .dataframe thead th {\n",
       "        text-align: right;\n",
       "    }\n",
       "</style>\n",
       "<table border=\"1\" class=\"dataframe\">\n",
       "  <thead>\n",
       "    <tr style=\"text-align: right;\">\n",
       "      <th></th>\n",
       "      <th>id</th>\n",
       "      <th>LoanNr_ChkDgt</th>\n",
       "      <th>Name</th>\n",
       "      <th>City</th>\n",
       "      <th>State</th>\n",
       "      <th>Bank</th>\n",
       "      <th>BankState</th>\n",
       "      <th>ApprovalDate</th>\n",
       "      <th>ApprovalFY</th>\n",
       "      <th>NoEmp</th>\n",
       "      <th>NewExist</th>\n",
       "      <th>CreateJob</th>\n",
       "      <th>RetainedJob</th>\n",
       "      <th>FranchiseCode</th>\n",
       "      <th>UrbanRural</th>\n",
       "      <th>RevLineCr</th>\n",
       "      <th>LowDoc</th>\n",
       "      <th>DisbursementDate</th>\n",
       "      <th>DisbursementGross</th>\n",
       "      <th>BalanceGross</th>\n",
       "    </tr>\n",
       "  </thead>\n",
       "  <tbody>\n",
       "    <tr>\n",
       "      <th>0</th>\n",
       "      <td>6b7ce9ec161</td>\n",
       "      <td>7996984008</td>\n",
       "      <td>SPRINGVALLEY ACCOUNTING SERVIC</td>\n",
       "      <td>HOLLAND</td>\n",
       "      <td>OH</td>\n",
       "      <td>CITIZENS BANK NATL ASSOC</td>\n",
       "      <td>RI</td>\n",
       "      <td>26-Oct-04</td>\n",
       "      <td>2005</td>\n",
       "      <td>9</td>\n",
       "      <td>1.0</td>\n",
       "      <td>0</td>\n",
       "      <td>9</td>\n",
       "      <td>1</td>\n",
       "      <td>2</td>\n",
       "      <td>Y</td>\n",
       "      <td>N</td>\n",
       "      <td>30-Nov-04</td>\n",
       "      <td>$205,236.00</td>\n",
       "      <td>$0.00</td>\n",
       "    </tr>\n",
       "    <tr>\n",
       "      <th>1</th>\n",
       "      <td>96123015731</td>\n",
       "      <td>3675194008</td>\n",
       "      <td>FULL SCALE DEVELOPMENT CORPORA</td>\n",
       "      <td>WORTHINGTON</td>\n",
       "      <td>OH</td>\n",
       "      <td>KEYBANK NATIONAL ASSOCIATION</td>\n",
       "      <td>OH</td>\n",
       "      <td>4-Apr-00</td>\n",
       "      <td>2000</td>\n",
       "      <td>15</td>\n",
       "      <td>1.0</td>\n",
       "      <td>4</td>\n",
       "      <td>15</td>\n",
       "      <td>1</td>\n",
       "      <td>1</td>\n",
       "      <td>Y</td>\n",
       "      <td>N</td>\n",
       "      <td>31-May-00</td>\n",
       "      <td>$51,000.00</td>\n",
       "      <td>$0.00</td>\n",
       "    </tr>\n",
       "    <tr>\n",
       "      <th>2</th>\n",
       "      <td>b2c5181ac5b</td>\n",
       "      <td>5995734002</td>\n",
       "      <td>KIRBY SAND &amp; GRAVEL</td>\n",
       "      <td>UPPER SANDUSKY</td>\n",
       "      <td>OH</td>\n",
       "      <td>JPMORGAN CHASE BANK NATL ASSOC</td>\n",
       "      <td>IL</td>\n",
       "      <td>7-Jan-03</td>\n",
       "      <td>2003</td>\n",
       "      <td>13</td>\n",
       "      <td>1.0</td>\n",
       "      <td>0</td>\n",
       "      <td>13</td>\n",
       "      <td>1</td>\n",
       "      <td>2</td>\n",
       "      <td>Y</td>\n",
       "      <td>N</td>\n",
       "      <td>28-Feb-03</td>\n",
       "      <td>$50,000.00</td>\n",
       "      <td>$0.00</td>\n",
       "    </tr>\n",
       "    <tr>\n",
       "      <th>3</th>\n",
       "      <td>e6cb54a9e6a</td>\n",
       "      <td>7630324004</td>\n",
       "      <td>BLUE ECLIPSE INC</td>\n",
       "      <td>DAYTON</td>\n",
       "      <td>OH</td>\n",
       "      <td>JPMORGAN CHASE BANK NATL ASSOC</td>\n",
       "      <td>IL</td>\n",
       "      <td>21-Jul-04</td>\n",
       "      <td>2004</td>\n",
       "      <td>28</td>\n",
       "      <td>2.0</td>\n",
       "      <td>19</td>\n",
       "      <td>28</td>\n",
       "      <td>1</td>\n",
       "      <td>1</td>\n",
       "      <td>0</td>\n",
       "      <td>N</td>\n",
       "      <td>30-Sep-04</td>\n",
       "      <td>$131,600.00</td>\n",
       "      <td>$0.00</td>\n",
       "    </tr>\n",
       "    <tr>\n",
       "      <th>4</th>\n",
       "      <td>8eddf83466e</td>\n",
       "      <td>4304173001</td>\n",
       "      <td>CAR-PEC GRAPHICS, INC.</td>\n",
       "      <td>AKRON</td>\n",
       "      <td>OH</td>\n",
       "      <td>CASCADE CAPITAL CORPORATION</td>\n",
       "      <td>OH</td>\n",
       "      <td>15-Nov-90</td>\n",
       "      <td>1991</td>\n",
       "      <td>20</td>\n",
       "      <td>1.0</td>\n",
       "      <td>17</td>\n",
       "      <td>3</td>\n",
       "      <td>1</td>\n",
       "      <td>0</td>\n",
       "      <td>N</td>\n",
       "      <td>N</td>\n",
       "      <td>13-Nov-91</td>\n",
       "      <td>$139,000.00</td>\n",
       "      <td>$0.00</td>\n",
       "    </tr>\n",
       "  </tbody>\n",
       "</table>\n",
       "</div>"
      ],
      "text/plain": [
       "            id  LoanNr_ChkDgt                            Name            City  \\\n",
       "0  6b7ce9ec161     7996984008  SPRINGVALLEY ACCOUNTING SERVIC         HOLLAND   \n",
       "1  96123015731     3675194008  FULL SCALE DEVELOPMENT CORPORA     WORTHINGTON   \n",
       "2  b2c5181ac5b     5995734002             KIRBY SAND & GRAVEL  UPPER SANDUSKY   \n",
       "3  e6cb54a9e6a     7630324004                BLUE ECLIPSE INC          DAYTON   \n",
       "4  8eddf83466e     4304173001          CAR-PEC GRAPHICS, INC.           AKRON   \n",
       "\n",
       "  State                            Bank BankState ApprovalDate ApprovalFY  \\\n",
       "0    OH        CITIZENS BANK NATL ASSOC        RI    26-Oct-04       2005   \n",
       "1    OH    KEYBANK NATIONAL ASSOCIATION        OH     4-Apr-00       2000   \n",
       "2    OH  JPMORGAN CHASE BANK NATL ASSOC        IL     7-Jan-03       2003   \n",
       "3    OH  JPMORGAN CHASE BANK NATL ASSOC        IL    21-Jul-04       2004   \n",
       "4    OH     CASCADE CAPITAL CORPORATION        OH    15-Nov-90       1991   \n",
       "\n",
       "   NoEmp  NewExist  CreateJob  RetainedJob  FranchiseCode  UrbanRural  \\\n",
       "0      9       1.0          0            9              1           2   \n",
       "1     15       1.0          4           15              1           1   \n",
       "2     13       1.0          0           13              1           2   \n",
       "3     28       2.0         19           28              1           1   \n",
       "4     20       1.0         17            3              1           0   \n",
       "\n",
       "  RevLineCr LowDoc DisbursementDate DisbursementGross BalanceGross  \n",
       "0         Y      N        30-Nov-04      $205,236.00        $0.00   \n",
       "1         Y      N        31-May-00       $51,000.00        $0.00   \n",
       "2         Y      N        28-Feb-03       $50,000.00        $0.00   \n",
       "3         0      N        30-Sep-04      $131,600.00        $0.00   \n",
       "4         N      N        13-Nov-91      $139,000.00        $0.00   "
      ]
     },
     "execution_count": 4,
     "metadata": {},
     "output_type": "execute_result"
    }
   ],
   "source": [
    "df_train.head()"
   ]
  },
  {
   "cell_type": "code",
   "execution_count": 34,
   "metadata": {},
   "outputs": [
    {
     "name": "stdout",
     "output_type": "stream",
     "text": [
      "<class 'pandas.core.frame.DataFrame'>\n",
      "RangeIndex: 3284 entries, 0 to 3283\n",
      "Data columns (total 20 columns):\n",
      " #   Column             Non-Null Count  Dtype  \n",
      "---  ------             --------------  -----  \n",
      " 0   id                 3284 non-null   object \n",
      " 1   LoanNr_ChkDgt      3284 non-null   int64  \n",
      " 2   Name               3284 non-null   object \n",
      " 3   City               3284 non-null   object \n",
      " 4   State              3284 non-null   object \n",
      " 5   Bank               3279 non-null   object \n",
      " 6   BankState          3279 non-null   object \n",
      " 7   ApprovalDate       3284 non-null   object \n",
      " 8   ApprovalFY         3284 non-null   object \n",
      " 9   NoEmp              3284 non-null   int64  \n",
      " 10  NewExist           3284 non-null   float64\n",
      " 11  CreateJob          3284 non-null   int64  \n",
      " 12  RetainedJob        3284 non-null   int64  \n",
      " 13  FranchiseCode      3284 non-null   int64  \n",
      " 14  UrbanRural         3284 non-null   int64  \n",
      " 15  RevLineCr          3280 non-null   object \n",
      " 16  LowDoc             3275 non-null   object \n",
      " 17  DisbursementDate   3277 non-null   object \n",
      " 18  DisbursementGross  3284 non-null   object \n",
      " 19  BalanceGross       3284 non-null   object \n",
      "dtypes: float64(1), int64(6), object(13)\n",
      "memory usage: 513.3+ KB\n"
     ]
    }
   ],
   "source": [
    "df_train.info()"
   ]
  },
  {
   "cell_type": "code",
   "execution_count": 35,
   "metadata": {},
   "outputs": [
    {
     "data": {
      "text/plain": [
       "id                   0\n",
       "LoanNr_ChkDgt        0\n",
       "Name                 0\n",
       "City                 0\n",
       "State                0\n",
       "Bank                 5\n",
       "BankState            5\n",
       "ApprovalDate         0\n",
       "ApprovalFY           0\n",
       "NoEmp                0\n",
       "NewExist             0\n",
       "CreateJob            0\n",
       "RetainedJob          0\n",
       "FranchiseCode        0\n",
       "UrbanRural           0\n",
       "RevLineCr            4\n",
       "LowDoc               9\n",
       "DisbursementDate     7\n",
       "DisbursementGross    0\n",
       "BalanceGross         0\n",
       "dtype: int64"
      ]
     },
     "execution_count": 35,
     "metadata": {},
     "output_type": "execute_result"
    }
   ],
   "source": [
    "df_train.isnull().sum()"
   ]
  },
  {
   "cell_type": "markdown",
   "metadata": {},
   "source": [
    "2. Cambiar los valores correspondientes.\n",
    "\n",
    "La gran mayoría de los valores son de tipo objet, int64 y float64, tienen que ser acorde a sus valores.\n",
    "\n",
    "Primero cambio los valores de las fechas, que son Approval Date y DisbursementDate que están puesto con letra escrita en vez de en el formato de numero.\n",
    "Después cambiamos los valores que están raros y no se adaptan"
   ]
  },
  {
   "cell_type": "markdown",
   "metadata": {},
   "source": [
    "* *DisbursementDate* => transformar la fecha\n",
    "* *Name* => String, Si no sabemos lo ponemos Unknown\n",
    "* *City* => String, Si no sabemos lo ponemos Unknown\n",
    "* *State* => Son todosde tipo OH\n",
    "* *Bank* => Si quitamos los None es de tipo String, Si no sabemos lo ponemos Unknown\n",
    "* *BankState* => Si quitamos los None es de tipo String, Si no sabemos lo ponemos Unknown\n",
    "* *NewExist* => 2 / 1 / 0, int, y poner la media donde sea nulo; \n",
    "\n",
    "    1 = Existing business, 2 = New business; \n",
    "\n",
    "    Si no lo sabemos ponemos vieja empresa que es la mayoría, es decir, que ya existía la empresa, 0. \n",
    "\n",
    "    Por lo que corresponde con 0 = Existing y 1 = New\n",
    "* *RevLineCr* => array(['N', 'Y', '0', 'T', None, '`'], dtype=object, \n",
    "\n",
    "    Hay que limpiarlo, sabiendo que tiene que ser Y = Yes, N = No, para el que no sepamos ponemos la mayoría; después ponemos True => 1 y False => 0\n",
    "* *LowDoc* => array(['N', 'Y', None, 'A', '0', 'S', 'R', 'C'], dtype=object)\n",
    "\n",
    "    Tiene que ser Y = Yes, N = No, para el que no sepamos ponemos la mayoría; después ponemos True => 1 y False => 0\n",
    "* *DisbursementGross* => Quitar el dolar y hacerlo double\n",
    "* *BalanceGross* => Quitar el dolar y hacerlo double y donde sea nulo"
   ]
  },
  {
   "cell_type": "code",
   "execution_count": null,
   "metadata": {},
   "outputs": [
    {
     "name": "stderr",
     "output_type": "stream",
     "text": [
      "<>:31: SyntaxWarning: invalid escape sequence '\\$'\n",
      "<>:32: SyntaxWarning: invalid escape sequence '\\$'\n",
      "<>:35: SyntaxWarning: invalid escape sequence '\\d'\n",
      "<>:31: SyntaxWarning: invalid escape sequence '\\$'\n",
      "<>:32: SyntaxWarning: invalid escape sequence '\\$'\n",
      "<>:35: SyntaxWarning: invalid escape sequence '\\d'\n",
      "/tmp/ipykernel_171188/177652060.py:31: SyntaxWarning: invalid escape sequence '\\$'\n",
      "  df_train2['DisbursementGross'] = df_train2['DisbursementGross'].replace('[\\$,]', '', regex=True).astype(float)\n",
      "/tmp/ipykernel_171188/177652060.py:32: SyntaxWarning: invalid escape sequence '\\$'\n",
      "  df_train2['BalanceGross'] = df_train2['BalanceGross'].replace('[\\$,]', '', regex=True).astype(float)\n",
      "/tmp/ipykernel_171188/177652060.py:35: SyntaxWarning: invalid escape sequence '\\d'\n",
      "  df_train2['ApprovalFY'] = df_train2['ApprovalFY'].astype(str).str.extract('(\\d+)', expand=False)\n",
      "/tmp/ipykernel_171188/177652060.py:2: UserWarning: Could not infer format, so each element will be parsed individually, falling back to `dateutil`. To ensure parsing is consistent and as-expected, please specify a format.\n",
      "  df_train2['ApprovalDate'] = pd.to_datetime(df_train2['ApprovalDate'])\n",
      "/tmp/ipykernel_171188/177652060.py:3: UserWarning: Could not infer format, so each element will be parsed individually, falling back to `dateutil`. To ensure parsing is consistent and as-expected, please specify a format.\n",
      "  df_train2['DisbursementDate'] = pd.to_datetime(df_train2['DisbursementDate'])\n",
      "/tmp/ipykernel_171188/177652060.py:5: FutureWarning: A value is trying to be set on a copy of a DataFrame or Series through chained assignment using an inplace method.\n",
      "The behavior will change in pandas 3.0. This inplace method will never work because the intermediate object on which we are setting values always behaves as a copy.\n",
      "\n",
      "For example, when doing 'df[col].method(value, inplace=True)', try using 'df.method({col: value}, inplace=True)' or df[col] = df[col].method(value) instead, to perform the operation inplace on the original object.\n",
      "\n",
      "\n",
      "  df_train2['Name'].fillna('Unknown', inplace=True) # Le pongo desconocido\n",
      "/tmp/ipykernel_171188/177652060.py:6: FutureWarning: A value is trying to be set on a copy of a DataFrame or Series through chained assignment using an inplace method.\n",
      "The behavior will change in pandas 3.0. This inplace method will never work because the intermediate object on which we are setting values always behaves as a copy.\n",
      "\n",
      "For example, when doing 'df[col].method(value, inplace=True)', try using 'df.method({col: value}, inplace=True)' or df[col] = df[col].method(value) instead, to perform the operation inplace on the original object.\n",
      "\n",
      "\n",
      "  df_train2['City'].fillna(df_train2['City'].mode()[0], inplace=True) # La media\n",
      "/tmp/ipykernel_171188/177652060.py:7: FutureWarning: A value is trying to be set on a copy of a DataFrame or Series through chained assignment using an inplace method.\n",
      "The behavior will change in pandas 3.0. This inplace method will never work because the intermediate object on which we are setting values always behaves as a copy.\n",
      "\n",
      "For example, when doing 'df[col].method(value, inplace=True)', try using 'df.method({col: value}, inplace=True)' or df[col] = df[col].method(value) instead, to perform the operation inplace on the original object.\n",
      "\n",
      "\n",
      "  df_train2['Bank'].fillna('Unknown', inplace=True) # Desconocido / Mayoritario habría que elegir\n",
      "/tmp/ipykernel_171188/177652060.py:8: FutureWarning: A value is trying to be set on a copy of a DataFrame or Series through chained assignment using an inplace method.\n",
      "The behavior will change in pandas 3.0. This inplace method will never work because the intermediate object on which we are setting values always behaves as a copy.\n",
      "\n",
      "For example, when doing 'df[col].method(value, inplace=True)', try using 'df.method({col: value}, inplace=True)' or df[col] = df[col].method(value) instead, to perform the operation inplace on the original object.\n",
      "\n",
      "\n",
      "  df_train2['BankState'].fillna('Unknown', inplace=True) # Desconocido / Mayoritario habría que elegir\n",
      "/tmp/ipykernel_171188/177652060.py:28: FutureWarning: A value is trying to be set on a copy of a DataFrame or Series through chained assignment using an inplace method.\n",
      "The behavior will change in pandas 3.0. This inplace method will never work because the intermediate object on which we are setting values always behaves as a copy.\n",
      "\n",
      "For example, when doing 'df[col].method(value, inplace=True)', try using 'df.method({col: value}, inplace=True)' or df[col] = df[col].method(value) instead, to perform the operation inplace on the original object.\n",
      "\n",
      "\n",
      "  df_train2['DisbursementDate'].fillna(np.nan, inplace=True)\n"
     ]
    }
   ],
   "source": [
    "df"
   ]
  },
  {
   "cell_type": "markdown",
   "metadata": {},
   "source": [
    "2. Cambiar los valores correspondientes.\n",
    "\n",
    "La gran mayoría de los valores son de tipo objet, int64 y float64, tienen que ser acorde a sus valores.\n",
    "\n",
    "Primero cambio los valores de las fechas, que son Approval Date y DisbursementDate que están puesto con letra escrita en vez de en el formato de numero.\n",
    "Después cambiamos los valores que están raros y no se adaptan"
   ]
  },
  {
   "cell_type": "code",
   "execution_count": 4,
   "metadata": {},
   "outputs": [
    {
     "name": "stdout",
     "output_type": "stream",
     "text": [
      "<class 'pandas.core.frame.DataFrame'>\n",
      "RangeIndex: 22835 entries, 0 to 22834\n",
      "Data columns (total 21 columns):\n",
      " #   Column             Non-Null Count  Dtype  \n",
      "---  ------             --------------  -----  \n",
      " 0   id                 22835 non-null  object \n",
      " 1   LoanNr_ChkDgt      22835 non-null  int64  \n",
      " 2   Name               22834 non-null  object \n",
      " 3   City               22834 non-null  object \n",
      " 4   State              22835 non-null  object \n",
      " 5   Bank               22813 non-null  object \n",
      " 6   BankState          22813 non-null  object \n",
      " 7   ApprovalDate       22835 non-null  object \n",
      " 8   ApprovalFY         22835 non-null  int64  \n",
      " 9   NoEmp              22835 non-null  int64  \n",
      " 10  NewExist           22833 non-null  float64\n",
      " 11  CreateJob          22835 non-null  int64  \n",
      " 12  RetainedJob        22835 non-null  int64  \n",
      " 13  FranchiseCode      22835 non-null  int64  \n",
      " 14  UrbanRural         22835 non-null  int64  \n",
      " 15  RevLineCr          22744 non-null  object \n",
      " 16  LowDoc             22792 non-null  object \n",
      " 17  DisbursementDate   22774 non-null  object \n",
      " 18  DisbursementGross  22835 non-null  object \n",
      " 19  BalanceGross       22835 non-null  object \n",
      " 20  Accept             22835 non-null  int64  \n",
      "dtypes: float64(1), int64(8), object(12)\n",
      "memory usage: 3.7+ MB\n"
     ]
    }
   ],
   "source": [
    "df.info()"
   ]
  },
  {
   "cell_type": "markdown",
   "metadata": {},
   "source": [
    "* *DisbursementDate* => transformar la fecha\n",
    "* *Name* => String, Si no sabemos lo ponemos Unknown\n",
    "* *City* => String, Si no sabemos lo ponemos Unknown\n",
    "* *State* => Son todosde tipo OH\n",
    "* *Bank* => Si quitamos los None es de tipo String, Si no sabemos lo ponemos Unknown\n",
    "* *BankState* => Si quitamos los None es de tipo String, Si no sabemos lo ponemos Unknown\n",
    "* *NewExist* => 2 / 1 / 0, int, y poner la media donde sea nulo; \n",
    "\n",
    "    1 = Existing business, 2 = New business; \n",
    "\n",
    "#Limpiamos los dólares y lo ponemos en tipo float\n",
    "df_train2['DisbursementGross'] = df_train2['DisbursementGross'].replace('[\\$,]', '', regex=True).astype(float)\n",
    "df_train2['BalanceGross'] = df_train2['BalanceGross'].replace('[\\$,]', '', regex=True).astype(float)\n",
    "\n",
    "####################### Limpiar la columna 'ApprovalFY' para extraer solo los dígitos (los años)\n",
    "df_train2['ApprovalFY'] = df_train2['ApprovalFY'].astype(str).str.extract('(\\d+)', expand=False)\n",
    "\n",
    "# Convertir a numérico (opcional, pero útil para operaciones posteriores)\n",
    "df_train2['ApprovalFY'] = pd.to_numeric(df_train2['ApprovalFY'], errors='coerce')\n",
    "\n",
    "df_train2.to_csv('../../data/processed/df_test_nolabel.csv', index=False)\n",
    "# df_train2.to_csv('../../data/processed/df_train.csv', index=False)\n"
   ]
  },
  {
   "cell_type": "code",
   "execution_count": 37,
   "metadata": {},
   "outputs": [
    {
     "data": {
      "text/plain": [
       "id                    0\n",
       "LoanNr_ChkDgt         0\n",
       "Name                  0\n",
       "City                  0\n",
       "State                 0\n",
       "Bank                  0\n",
       "BankState             0\n",
       "ApprovalDate          0\n",
       "ApprovalFY            0\n",
       "NoEmp                 0\n",
       "NewExist              3\n",
       "CreateJob             0\n",
       "RetainedJob           0\n",
       "FranchiseCode         0\n",
       "UrbanRural            0\n",
       "RevLineCr             4\n",
       "LowDoc               18\n",
       "DisbursementDate      7\n",
       "DisbursementGross     0\n",
       "BalanceGross          0\n",
       "dtype: int64"
      ]
     },
     "execution_count": 37,
     "metadata": {},
     "output_type": "execute_result"
    }
   ],
   "source": [
    "# Para guardar el archivo como df_train.csv\n",
    "\n",
    "# Conversion de datos\n",
    "df_train = conversion(df)\n",
    "\n",
    "# Formateo\n",
    "df_train_fitted = formatear(df_train)\n",
    "\n",
    "output_path = \"../../data/processed/train_processed_v3.csv\"\n",
    "df_train_fitted.to_csv(output_path, index=False)\n",
    "print(\"Archivo guardado en:\", output_path)"
   ]
  },
  {
   "cell_type": "code",
   "execution_count": 38,
   "metadata": {},
   "outputs": [
    {
     "data": {
      "text/plain": [
       "BalanceGross\n",
       "0.0    3284\n",
       "Name: count, dtype: int64"
      ]
     },
     "execution_count": 38,
     "metadata": {},
     "output_type": "execute_result"
    }
   ],
   "source": [
    "df_train2.BalanceGross.value_counts(dropna=False)"
   ]
  },
  {
   "cell_type": "code",
   "execution_count": 7,
   "metadata": {},
   "outputs": [
    {
     "data": {
      "text/plain": [
       "array([    1,     0, 57000, 34650, 39237, 52300, 24850, 61901, 26556,\n",
       "       26650, 50564, 84535, 20487, 81612, 74789, 43579, 65160, 50965,\n",
       "       17998, 88875, 21780, 68020, 91283, 68451, 78760, 79140, 55960,\n",
       "       53651, 38605, 35711, 65100, 78950, 44081, 63345, 10489, 52875,\n",
       "       58615, 73675, 10528, 53151, 45915, 70150, 63810, 35702, 73740,\n",
       "       40665, 68060, 22470, 17205, 17590, 67715, 56575, 24902, 36260,\n",
       "       79902, 66486, 72590, 35605, 77875, 10776, 23379, 68250, 51720,\n",
       "       35307, 66910, 47751, 62360, 43552, 91170, 31415, 35706,   407,\n",
       "       91350, 48550, 20100, 84060, 35705, 77174, 15713, 38610, 89020,\n",
       "       34849, 24419,  7990, 81601, 53650, 36680, 65140, 30450, 14348,\n",
       "       17256, 73525,  6305,  9235, 80979, 10618, 21420, 52000,  9450,\n",
       "       10465, 29900, 36355,  1560, 75900, 20970, 49952, 10559, 44066,\n",
       "       66320, 67750, 42600, 10481, 16920,  4516, 63010, 25360, 66345,\n",
       "       26879, 60525, 61897, 34900, 70670, 25650, 60590,  8435, 80360,\n",
       "       41427, 18925, 27765, 50954, 54390, 17584, 20500, 90709, 40711,\n",
       "       40650, 70671, 82040])"
      ]
     },
     "execution_count": 7,
     "metadata": {},
     "output_type": "execute_result"
    }
   ],
   "source": [
    "df_train2.FranchiseCode.unique()"
   ]
  }
 ],
 "metadata": {
  "kernelspec": {
   "display_name": ".venv",
   "language": "python",
   "name": "python3"
  },
  "language_info": {
   "codemirror_mode": {
    "name": "ipython",
    "version": 3
   },
   "file_extension": ".py",
   "mimetype": "text/x-python",
   "name": "python",
   "nbconvert_exporter": "python",
   "pygments_lexer": "ipython3",
   "version": "3.13.1"
  }
 },
 "nbformat": 4,
 "nbformat_minor": 4
}
