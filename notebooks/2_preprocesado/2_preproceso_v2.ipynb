{
 "cells": [
  {
   "cell_type": "markdown",
   "metadata": {},
   "source": [
    "# Procesado dataset\n",
    "\n",
    "Procesado del dataset en base al análisis previo. Este procesado sirve tanto para el conjunto de entrenamiento como para los conjuntos que se quieran clasisificar con los modelos. Haciendo este procesado común nos aseguramos que los datos que manejan los modelos tienen los mismos formatos y cualidades."
   ]
  },
  {
   "cell_type": "code",
   "execution_count": 1,
   "metadata": {},
   "outputs": [],
   "source": [
    "# external imports\n",
    "import os\n",
    "\n",
    "import pandas as pd"
   ]
  },
  {
   "cell_type": "code",
   "execution_count": 2,
   "metadata": {},
   "outputs": [],
   "source": [
    "# constants\n",
    "data_folder=\"../../data\"\n",
    "raw_data_folder = f\"{data_folder}/raw\"\n",
    "processed_data_folder = f\"{data_folder}/processed\"\n",
    "\n",
    "original_train_dataset_path = f\"{raw_data_folder}/train.csv\"\n",
    "\n",
    "processed_train_dataset_path = f\"{raw_data_folder}/train_processed.csv\""
   ]
  },
  {
   "cell_type": "code",
   "execution_count": 3,
   "metadata": {},
   "outputs": [
    {
     "data": {
      "text/html": [
       "<div>\n",
       "<style scoped>\n",
       "    .dataframe tbody tr th:only-of-type {\n",
       "        vertical-align: middle;\n",
       "    }\n",
       "\n",
       "    .dataframe tbody tr th {\n",
       "        vertical-align: top;\n",
       "    }\n",
       "\n",
       "    .dataframe thead th {\n",
       "        text-align: right;\n",
       "    }\n",
       "</style>\n",
       "<table border=\"1\" class=\"dataframe\">\n",
       "  <thead>\n",
       "    <tr style=\"text-align: right;\">\n",
       "      <th></th>\n",
       "      <th>id</th>\n",
       "      <th>LoanNr_ChkDgt</th>\n",
       "      <th>Name</th>\n",
       "      <th>City</th>\n",
       "      <th>State</th>\n",
       "      <th>Bank</th>\n",
       "      <th>BankState</th>\n",
       "      <th>ApprovalDate</th>\n",
       "      <th>ApprovalFY</th>\n",
       "      <th>NoEmp</th>\n",
       "      <th>...</th>\n",
       "      <th>CreateJob</th>\n",
       "      <th>RetainedJob</th>\n",
       "      <th>FranchiseCode</th>\n",
       "      <th>UrbanRural</th>\n",
       "      <th>RevLineCr</th>\n",
       "      <th>LowDoc</th>\n",
       "      <th>DisbursementDate</th>\n",
       "      <th>DisbursementGross</th>\n",
       "      <th>BalanceGross</th>\n",
       "      <th>Accept</th>\n",
       "    </tr>\n",
       "  </thead>\n",
       "  <tbody>\n",
       "    <tr>\n",
       "      <th>0</th>\n",
       "      <td>bd9d6267ec5</td>\n",
       "      <td>1523195006</td>\n",
       "      <td>P-SCAPE LAND DESIGN, LLC</td>\n",
       "      <td>NORTHFIELD</td>\n",
       "      <td>OH</td>\n",
       "      <td>CITIZENS BANK NATL ASSOC</td>\n",
       "      <td>RI</td>\n",
       "      <td>1-Nov-05</td>\n",
       "      <td>2006</td>\n",
       "      <td>2</td>\n",
       "      <td>...</td>\n",
       "      <td>0</td>\n",
       "      <td>2</td>\n",
       "      <td>0</td>\n",
       "      <td>1</td>\n",
       "      <td>N</td>\n",
       "      <td>N</td>\n",
       "      <td>31-Dec-05</td>\n",
       "      <td>$8,000.00</td>\n",
       "      <td>$0.00</td>\n",
       "      <td>1</td>\n",
       "    </tr>\n",
       "    <tr>\n",
       "      <th>1</th>\n",
       "      <td>9eebf6d8098</td>\n",
       "      <td>1326365010</td>\n",
       "      <td>The Fresh &amp; Healthy Catering C</td>\n",
       "      <td>CANTON</td>\n",
       "      <td>OH</td>\n",
       "      <td>FIRSTMERIT BANK, N.A.</td>\n",
       "      <td>OH</td>\n",
       "      <td>6-Jun-05</td>\n",
       "      <td>2005</td>\n",
       "      <td>2</td>\n",
       "      <td>...</td>\n",
       "      <td>1</td>\n",
       "      <td>2</td>\n",
       "      <td>1</td>\n",
       "      <td>1</td>\n",
       "      <td>N</td>\n",
       "      <td>N</td>\n",
       "      <td>31-Jul-05</td>\n",
       "      <td>$166,000.00</td>\n",
       "      <td>$0.00</td>\n",
       "      <td>1</td>\n",
       "    </tr>\n",
       "    <tr>\n",
       "      <th>2</th>\n",
       "      <td>83806858500</td>\n",
       "      <td>6179584001</td>\n",
       "      <td>AARON MASON &amp; HOWE LLC</td>\n",
       "      <td>SAWYERWOOD</td>\n",
       "      <td>OH</td>\n",
       "      <td>PNC BANK, NATIONAL ASSOCIATION</td>\n",
       "      <td>OH</td>\n",
       "      <td>18-Mar-03</td>\n",
       "      <td>2003</td>\n",
       "      <td>2</td>\n",
       "      <td>...</td>\n",
       "      <td>4</td>\n",
       "      <td>2</td>\n",
       "      <td>1</td>\n",
       "      <td>2</td>\n",
       "      <td>Y</td>\n",
       "      <td>N</td>\n",
       "      <td>31-Mar-03</td>\n",
       "      <td>$25,000.00</td>\n",
       "      <td>$0.00</td>\n",
       "      <td>1</td>\n",
       "    </tr>\n",
       "    <tr>\n",
       "      <th>3</th>\n",
       "      <td>a21ab9cb3af</td>\n",
       "      <td>8463493009</td>\n",
       "      <td>MID OHIO CAR WASH</td>\n",
       "      <td>COLUMBUS</td>\n",
       "      <td>OH</td>\n",
       "      <td>THE HUNTINGTON NATIONAL BANK</td>\n",
       "      <td>OH</td>\n",
       "      <td>28-Jun-95</td>\n",
       "      <td>1995</td>\n",
       "      <td>2</td>\n",
       "      <td>...</td>\n",
       "      <td>0</td>\n",
       "      <td>0</td>\n",
       "      <td>1</td>\n",
       "      <td>0</td>\n",
       "      <td>N</td>\n",
       "      <td>N</td>\n",
       "      <td>31-Jan-96</td>\n",
       "      <td>$220,100.00</td>\n",
       "      <td>$0.00</td>\n",
       "      <td>1</td>\n",
       "    </tr>\n",
       "    <tr>\n",
       "      <th>4</th>\n",
       "      <td>883b5e5385e</td>\n",
       "      <td>3382225007</td>\n",
       "      <td>Bake N Brew LLC</td>\n",
       "      <td>Newark</td>\n",
       "      <td>OH</td>\n",
       "      <td>THE HUNTINGTON NATIONAL BANK</td>\n",
       "      <td>OH</td>\n",
       "      <td>16-Apr-09</td>\n",
       "      <td>2009</td>\n",
       "      <td>0</td>\n",
       "      <td>...</td>\n",
       "      <td>0</td>\n",
       "      <td>0</td>\n",
       "      <td>0</td>\n",
       "      <td>1</td>\n",
       "      <td>N</td>\n",
       "      <td>N</td>\n",
       "      <td>31-May-09</td>\n",
       "      <td>$25,000.00</td>\n",
       "      <td>$0.00</td>\n",
       "      <td>0</td>\n",
       "    </tr>\n",
       "  </tbody>\n",
       "</table>\n",
       "<p>5 rows × 21 columns</p>\n",
       "</div>"
      ],
      "text/plain": [
       "            id  LoanNr_ChkDgt                            Name        City  \\\n",
       "0  bd9d6267ec5     1523195006        P-SCAPE LAND DESIGN, LLC  NORTHFIELD   \n",
       "1  9eebf6d8098     1326365010  The Fresh & Healthy Catering C      CANTON   \n",
       "2  83806858500     6179584001          AARON MASON & HOWE LLC  SAWYERWOOD   \n",
       "3  a21ab9cb3af     8463493009               MID OHIO CAR WASH    COLUMBUS   \n",
       "4  883b5e5385e     3382225007                 Bake N Brew LLC      Newark   \n",
       "\n",
       "  State                            Bank BankState ApprovalDate  ApprovalFY  \\\n",
       "0    OH        CITIZENS BANK NATL ASSOC        RI     1-Nov-05        2006   \n",
       "1    OH           FIRSTMERIT BANK, N.A.        OH     6-Jun-05        2005   \n",
       "2    OH  PNC BANK, NATIONAL ASSOCIATION        OH    18-Mar-03        2003   \n",
       "3    OH    THE HUNTINGTON NATIONAL BANK        OH    28-Jun-95        1995   \n",
       "4    OH    THE HUNTINGTON NATIONAL BANK        OH    16-Apr-09        2009   \n",
       "\n",
       "   NoEmp  ...  CreateJob  RetainedJob  FranchiseCode  UrbanRural  RevLineCr  \\\n",
       "0      2  ...          0            2              0           1          N   \n",
       "1      2  ...          1            2              1           1          N   \n",
       "2      2  ...          4            2              1           2          Y   \n",
       "3      2  ...          0            0              1           0          N   \n",
       "4      0  ...          0            0              0           1          N   \n",
       "\n",
       "  LowDoc DisbursementDate DisbursementGross BalanceGross Accept  \n",
       "0      N        31-Dec-05        $8,000.00        $0.00       1  \n",
       "1      N        31-Jul-05      $166,000.00        $0.00       1  \n",
       "2      N        31-Mar-03       $25,000.00        $0.00       1  \n",
       "3      N        31-Jan-96      $220,100.00        $0.00       1  \n",
       "4      N        31-May-09       $25,000.00        $0.00       0  \n",
       "\n",
       "[5 rows x 21 columns]"
      ]
     },
     "execution_count": 3,
     "metadata": {},
     "output_type": "execute_result"
    }
   ],
   "source": [
    "# upload the dataset\n",
    "original_train_df = pd.read_csv(original_train_dataset_path, sep=\",\")\n",
    "original_train_df.head()"
   ]
  },
  {
   "cell_type": "markdown",
   "metadata": {},
   "source": [
    "## Procesado por columnas\n",
    "\n",
    "En la siguiente sección aplicamos el procesamiemto de datos a cada columna adecuado. Un tratamiento común será rellenar todos los valores nulos de manera que los datasets sobre los que se realicen las predicciones no tengan nulos."
   ]
  },
  {
   "cell_type": "code",
   "execution_count": 4,
   "metadata": {},
   "outputs": [
    {
     "name": "stdout",
     "output_type": "stream",
     "text": [
      "<class 'pandas.core.frame.DataFrame'>\n",
      "RangeIndex: 22835 entries, 0 to 22834\n",
      "Data columns (total 21 columns):\n",
      " #   Column             Non-Null Count  Dtype  \n",
      "---  ------             --------------  -----  \n",
      " 0   id                 22835 non-null  object \n",
      " 1   LoanNr_ChkDgt      22835 non-null  int64  \n",
      " 2   Name               22834 non-null  object \n",
      " 3   City               22834 non-null  object \n",
      " 4   State              22835 non-null  object \n",
      " 5   Bank               22813 non-null  object \n",
      " 6   BankState          22813 non-null  object \n",
      " 7   ApprovalDate       22835 non-null  object \n",
      " 8   ApprovalFY         22835 non-null  int64  \n",
      " 9   NoEmp              22835 non-null  int64  \n",
      " 10  NewExist           22833 non-null  float64\n",
      " 11  CreateJob          22835 non-null  int64  \n",
      " 12  RetainedJob        22835 non-null  int64  \n",
      " 13  FranchiseCode      22835 non-null  int64  \n",
      " 14  UrbanRural         22835 non-null  int64  \n",
      " 15  RevLineCr          22744 non-null  object \n",
      " 16  LowDoc             22792 non-null  object \n",
      " 17  DisbursementDate   22774 non-null  object \n",
      " 18  DisbursementGross  22835 non-null  object \n",
      " 19  BalanceGross       22835 non-null  object \n",
      " 20  Accept             22835 non-null  int64  \n",
      "dtypes: float64(1), int64(8), object(12)\n",
      "memory usage: 3.7+ MB\n"
     ]
    }
   ],
   "source": [
    "processed_train_df = original_train_df.copy()\n",
    "processed_train_df.info()"
   ]
  },
  {
   "cell_type": "code",
   "execution_count": 5,
   "metadata": {},
   "outputs": [],
   "source": [
    "# Procesado de columna\n",
    "column = \"id\"\n",
    "\n",
    "# No interesa para el modelo\n",
    "processed_train_df.drop(columns=column, inplace=True)"
   ]
  },
  {
   "cell_type": "code",
   "execution_count": 6,
   "metadata": {},
   "outputs": [],
   "source": [
    "# Procesado de columna\n",
    "column = \"LoanNr_ChkDgt\"\n",
    "\n",
    "# No interesa para el modelo\n",
    "processed_train_df.drop(columns=column, inplace=True)"
   ]
  },
  {
   "cell_type": "code",
   "execution_count": 7,
   "metadata": {},
   "outputs": [],
   "source": [
    "# Procesado de columna\n",
    "column = \"Name\"\n",
    "\n",
    "# No interesa para el modelo\n",
    "processed_train_df.drop(columns=column, inplace=True)"
   ]
  },
  {
   "cell_type": "code",
   "execution_count": null,
   "metadata": {},
   "outputs": [
    {
     "name": "stdout",
     "output_type": "stream",
     "text": [
      "City\n",
      "COLUMBUS      2147\n",
      "CINCINNATI    1617\n",
      "CLEVELAND     1118\n",
      "TOLEDO         761\n",
      "DAYTON         729\n",
      "              ... \n",
      "GATE MILLS       1\n",
      "WAUSSEON         1\n",
      "MIAMI            1\n",
      "METAMORA         1\n",
      "NEFFS            1\n",
      "Name: count, Length: 1181, dtype: int64\n"
     ]
    },
    {
     "name": "stderr",
     "output_type": "stream",
     "text": [
      "/tmp/ipykernel_2401983/462748121.py:5: FutureWarning: A value is trying to be set on a copy of a DataFrame or Series through chained assignment using an inplace method.\n",
      "The behavior will change in pandas 3.0. This inplace method will never work because the intermediate object on which we are setting values always behaves as a copy.\n",
      "\n",
      "For example, when doing 'df[col].method(value, inplace=True)', try using 'df.method({col: value}, inplace=True)' or df[col] = df[col].method(value) instead, to perform the operation inplace on the original object.\n",
      "\n",
      "\n",
      "  processed_train_df[column].fillna(processed_train_df[column].mode()[0], inplace=True)\n"
     ]
    }
   ],
   "source": [
    "# Procesado de columna\n",
    "column = \"City\"\n",
    "\n",
    "# No interesa para el modelo\n",
    "processed_train_df.drop(columns=column, inplace=True)\n"
   ]
  },
  {
   "cell_type": "code",
   "execution_count": 9,
   "metadata": {},
   "outputs": [],
   "source": [
    "# Procesado de columna\n",
    "column = \"State\"\n",
    "\n",
    "# No interesa para el modelo\n",
    "processed_train_df.drop(columns=column, inplace=True)"
   ]
  },
  {
   "cell_type": "code",
   "execution_count": 10,
   "metadata": {},
   "outputs": [
    {
     "name": "stderr",
     "output_type": "stream",
     "text": [
      "/tmp/ipykernel_2401983/1694394818.py:5: FutureWarning: A value is trying to be set on a copy of a DataFrame or Series through chained assignment using an inplace method.\n",
      "The behavior will change in pandas 3.0. This inplace method will never work because the intermediate object on which we are setting values always behaves as a copy.\n",
      "\n",
      "For example, when doing 'df[col].method(value, inplace=True)', try using 'df.method({col: value}, inplace=True)' or df[col] = df[col].method(value) instead, to perform the operation inplace on the original object.\n",
      "\n",
      "\n",
      "  processed_train_df[column].fillna(processed_train_df[column].mode()[0], inplace=True)\n"
     ]
    }
   ],
   "source": [
    "# Procesado de columna\n",
    "column = \"Bank\"\n",
    "\n",
    "# Relleno los nulos con la moda\n",
    "processed_train_df[column].fillna(processed_train_df[column].mode()[0], inplace=True)"
   ]
  },
  {
   "cell_type": "code",
   "execution_count": 11,
   "metadata": {},
   "outputs": [
    {
     "name": "stderr",
     "output_type": "stream",
     "text": [
      "/tmp/ipykernel_2401983/939488477.py:5: FutureWarning: A value is trying to be set on a copy of a DataFrame or Series through chained assignment using an inplace method.\n",
      "The behavior will change in pandas 3.0. This inplace method will never work because the intermediate object on which we are setting values always behaves as a copy.\n",
      "\n",
      "For example, when doing 'df[col].method(value, inplace=True)', try using 'df.method({col: value}, inplace=True)' or df[col] = df[col].method(value) instead, to perform the operation inplace on the original object.\n",
      "\n",
      "\n",
      "  processed_train_df[column].fillna(processed_train_df[column].mode()[0], inplace=True)\n"
     ]
    }
   ],
   "source": [
    "# Procesado de columna\n",
    "column = \"BankState\"\n",
    "\n",
    "# Relleno los nulos con la moda\n",
    "processed_train_df[column].fillna(processed_train_df[column].mode()[0], inplace=True)"
   ]
  },
  {
   "cell_type": "code",
   "execution_count": 12,
   "metadata": {},
   "outputs": [
    {
     "name": "stderr",
     "output_type": "stream",
     "text": [
      "/tmp/ipykernel_2401983/3750528087.py:5: UserWarning: Could not infer format, so each element will be parsed individually, falling back to `dateutil`. To ensure parsing is consistent and as-expected, please specify a format.\n",
      "  processed_train_df[column] = pd.to_datetime(processed_train_df[column])\n"
     ]
    }
   ],
   "source": [
    "# Procesado de columna\n",
    "column = \"ApprovalDate\"\n",
    "\n",
    "# Al ser una fecha se dividirá en 2 columnas, una para el mes y otra para el año\n",
    "processed_train_df[column] = pd.to_datetime(processed_train_df[column])\n",
    "\n",
    "processed_train_df[\"ApprovalDateMonth\"] = processed_train_df[column].dt.month\n",
    "processed_train_df[\"ApprovalDateYear\"] = processed_train_df[column].dt.year\n",
    "\n",
    "# Elimino la columna que ya no sirve\n",
    "processed_train_df.drop(columns=column, inplace=True)\n"
   ]
  },
  {
   "cell_type": "code",
   "execution_count": null,
   "metadata": {},
   "outputs": [],
   "source": [
    "# Procesado de columna\n",
    "column = \"ApprovalFY\"\n"
   ]
  }
 ],
 "metadata": {
  "kernelspec": {
   "display_name": "venv_svm",
   "language": "python",
   "name": "python3"
  },
  "language_info": {
   "codemirror_mode": {
    "name": "ipython",
    "version": 3
   },
   "file_extension": ".py",
   "mimetype": "text/x-python",
   "name": "python",
   "nbconvert_exporter": "python",
   "pygments_lexer": "ipython3",
   "version": "3.13.2"
  }
 },
 "nbformat": 4,
 "nbformat_minor": 2
}
