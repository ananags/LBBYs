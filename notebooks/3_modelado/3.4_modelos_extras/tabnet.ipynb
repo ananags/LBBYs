{
 "cells": [
  {
   "cell_type": "markdown",
   "metadata": {},
   "source": [
    "# Redes neuronales: TabNet"
   ]
  },
  {
   "cell_type": "markdown",
   "metadata": {},
   "source": [
    "## 1.- Descripción"
   ]
  },
  {
   "cell_type": "markdown",
   "metadata": {},
   "source": [
    "TabNet es un modelo basado en redes neuronales desarrollado específicamente para trabajar con datos tabulares. Combina la capacidad de aprendizaje profundo con la flexibilidad de los árboles de decisión, lo que le permite manejar eficientemente tanto relaciones lineales como no lineales. El modelo se distingue por su arquitectura única que utiliza atención dirigida (decision-aware attention) para seleccionar las características más relevantes durante el entrenamiento, mejorando así la interpretabilidad y el rendimiento."
   ]
  },
  {
   "cell_type": "markdown",
   "metadata": {},
   "source": [
    "En este proyecto, TabNet se utiliza para predecir si un préstamo será aceptado o rechazado por un banco, basándose en un conjunto de características del solicitante, como su historial financiero, información personal y otros factores relevantes. Este tipo de problema se ajusta bien al enfoque de TabNet, ya que maneja datos tabulares y es capaz de identificar patrones complejos en los datos mientras mantiene la capacidad de interpretabilidad."
   ]
  },
  {
   "cell_type": "markdown",
   "metadata": {},
   "source": [
    "## 2.- Implementación\n"
   ]
  },
  {
   "cell_type": "code",
   "execution_count": 48,
   "metadata": {
    "vscode": {
     "languageId": "plaintext"
    }
   },
   "outputs": [],
   "source": [
    "import pandas as pd\n",
    "import numpy as np\n",
    "from sklearn.model_selection import train_test_split\n",
    "from sklearn.impute import SimpleImputer\n",
    "from sklearn.preprocessing import StandardScaler, LabelEncoder\n",
    "from sklearn.utils import resample\n",
    "from sklearn.metrics import classification_report, confusion_matrix\n",
    "from pytorch_tabnet.tab_model import TabNetClassifier\n",
    "from sklearn.metrics import accuracy_score\n",
    "import torch.optim as optim"
   ]
  },
  {
   "cell_type": "code",
   "execution_count": 50,
   "metadata": {},
   "outputs": [],
   "source": [
    "# Cargar los datos\n",
    "df = pd.read_csv(r\"C:\\Users\\Day\\Downloads\\LBBYs-main\\LBBYs-main\\data\\processed\\df_train.csv\")\n",
    "df_test= pd.read_csv(r\"C:\\Users\\Day\\Downloads\\LBBYs-main\\LBBYs-main\\data\\raw\\test_nolabel.csv\")"
   ]
  },
  {
   "cell_type": "code",
   "execution_count": 52,
   "metadata": {},
   "outputs": [],
   "source": [
    "df_test_features = df_test.drop(columns=['id'], errors='ignore') \n",
    "df_test_features = df_test.copy()"
   ]
  },
  {
   "cell_type": "code",
   "execution_count": 54,
   "metadata": {},
   "outputs": [],
   "source": [
    "# Balancear el dataset con undersampling\n",
    "df_majority = df[df[\"Accept\"] == 1]\n",
    "df_minority = df[df[\"Accept\"] == 0]\n",
    "df_majority_downsampled = resample(df_majority, \n",
    "                                   replace=False,\n",
    "                                   n_samples=len(df_minority),\n",
    "                                   random_state=42)\n",
    "\n",
    "df_balanced = pd.concat([df_majority_downsampled, df_minority])\n",
    "df_balanced = df_balanced.sample(frac=1, random_state=42).reset_index(drop=True)\n"
   ]
  },
  {
   "cell_type": "code",
   "execution_count": 56,
   "metadata": {},
   "outputs": [],
   "source": [
    "# Separar X e y\n",
    "X = df_balanced.drop('Accept', axis=1)\n",
    "y = df_balanced['Accept']"
   ]
  },
  {
   "cell_type": "code",
   "execution_count": 64,
   "metadata": {},
   "outputs": [],
   "source": [
    "train_columns = X.columns"
   ]
  },
  {
   "cell_type": "code",
   "execution_count": 66,
   "metadata": {},
   "outputs": [],
   "source": [
    "# Codificar texto si hay columnas categóricas\n",
    "le = LabelEncoder()\n",
    "categorical_columns = X.select_dtypes(include=['object']).columns\n",
    "for col in categorical_columns:\n",
    "    X[col] = le.fit_transform(X[col].astype(str))"
   ]
  },
  {
   "cell_type": "code",
   "execution_count": 68,
   "metadata": {},
   "outputs": [],
   "source": [
    "categorical_columns_test = df_test.select_dtypes(include=['object']).columns\n",
    "\n",
    "categorical_columns_test = [col for col in categorical_columns_test if col != 'id']\n",
    "for col in categorical_columns_test:\n",
    "    if col in categorical_columns:  # Solo transformar las columnas que están en df_train\n",
    "        # Reemplaza las categorías desconocidas con 'Unknown' si es necesario\n",
    "        if 'Unknown' not in le.classes_:\n",
    "            le.classes_ = np.append(le.classes_, 'Unknown')\n",
    "        \n",
    "        # Reemplaza las categorías desconocidas con 'Unknown' y aplica la transformación\n",
    "        df_test[col] = df_test[col].astype(str).apply(lambda x: x if x in le.classes_ else 'Unknown')\n",
    "        df_test[col] = le.transform(df_test[col])"
   ]
  },
  {
   "cell_type": "code",
   "execution_count": 72,
   "metadata": {},
   "outputs": [],
   "source": [
    "categorical_columns_test = df_test_features.select_dtypes(include=['object']).columns\n",
    "le = LabelEncoder()\n",
    "\n",
    "for col in categorical_columns_test:\n",
    "    df_test_features[col] = le.fit_transform(df_test_features[col].astype(str))\n"
   ]
  },
  {
   "cell_type": "code",
   "execution_count": 74,
   "metadata": {},
   "outputs": [],
   "source": [
    "# Imputar valores faltantes\n",
    "imputer = SimpleImputer(strategy='mean')\n",
    "X_imputed = imputer.fit_transform(X)\n",
    "df_test_imputed = imputer.fit_transform(df_test_features)"
   ]
  },
  {
   "cell_type": "code",
   "execution_count": 76,
   "metadata": {},
   "outputs": [],
   "source": [
    "# Escalar\n",
    "scaler = StandardScaler()\n",
    "X_scaled = scaler.fit_transform(X_imputed)\n",
    "df_test_scaled = scaler.fit_transform(df_test_imputed)"
   ]
  },
  {
   "cell_type": "code",
   "execution_count": 78,
   "metadata": {},
   "outputs": [],
   "source": [
    "# Dividir en train/test\n",
    "X_train, X_test, y_train, y_test = train_test_split(X_scaled, y, test_size=0.2, random_state=42)"
   ]
  },
  {
   "cell_type": "markdown",
   "metadata": {},
   "source": [
    "## 3.- Evaluación y optimización\n"
   ]
  },
  {
   "cell_type": "code",
   "execution_count": 81,
   "metadata": {},
   "outputs": [
    {
     "name": "stderr",
     "output_type": "stream",
     "text": [
      "C:\\Users\\Day\\anaconda3\\envs\\myenv\\lib\\site-packages\\pytorch_tabnet\\abstract_model.py:82: UserWarning: Device used : cpu\n",
      "  warnings.warn(f\"Device used : {self.device}\")\n"
     ]
    }
   ],
   "source": [
    "# Definir el modelo TabNet\n",
    "tabnet = TabNetClassifier(optimizer_fn=optim.Adam, optimizer_params={'lr': 1e-4})\n"
   ]
  },
  {
   "cell_type": "code",
   "execution_count": 83,
   "metadata": {},
   "outputs": [
    {
     "name": "stderr",
     "output_type": "stream",
     "text": [
      "C:\\Users\\Day\\anaconda3\\envs\\myenv\\lib\\site-packages\\pytorch_tabnet\\abstract_model.py:687: UserWarning: No early stopping will be performed, last training weights will be used.\n",
      "  warnings.warn(wrn_msg)\n"
     ]
    },
    {
     "name": "stdout",
     "output_type": "stream",
     "text": [
      "epoch 0  | loss: 0.71489 |  0:00:00s\n",
      "epoch 1  | loss: 0.7159  |  0:00:01s\n",
      "epoch 2  | loss: 0.7136  |  0:00:01s\n",
      "epoch 3  | loss: 0.70938 |  0:00:02s\n",
      "epoch 4  | loss: 0.70605 |  0:00:03s\n",
      "epoch 5  | loss: 0.70788 |  0:00:03s\n",
      "epoch 6  | loss: 0.70399 |  0:00:04s\n",
      "epoch 7  | loss: 0.70418 |  0:00:04s\n",
      "epoch 8  | loss: 0.70154 |  0:00:05s\n",
      "epoch 9  | loss: 0.70305 |  0:00:06s\n",
      "epoch 10 | loss: 0.70171 |  0:00:06s\n",
      "epoch 11 | loss: 0.70091 |  0:00:07s\n",
      "epoch 12 | loss: 0.69985 |  0:00:07s\n",
      "epoch 13 | loss: 0.69634 |  0:00:08s\n",
      "epoch 14 | loss: 0.69641 |  0:00:09s\n",
      "epoch 15 | loss: 0.6959  |  0:00:09s\n",
      "epoch 16 | loss: 0.6929  |  0:00:10s\n",
      "epoch 17 | loss: 0.69161 |  0:00:11s\n",
      "epoch 18 | loss: 0.69312 |  0:00:12s\n",
      "epoch 19 | loss: 0.6925  |  0:00:12s\n",
      "epoch 20 | loss: 0.69262 |  0:00:13s\n",
      "epoch 21 | loss: 0.69126 |  0:00:14s\n",
      "epoch 22 | loss: 0.68931 |  0:00:15s\n",
      "epoch 23 | loss: 0.68848 |  0:00:15s\n",
      "epoch 24 | loss: 0.68808 |  0:00:16s\n",
      "epoch 25 | loss: 0.68682 |  0:00:17s\n",
      "epoch 26 | loss: 0.68783 |  0:00:17s\n",
      "epoch 27 | loss: 0.68755 |  0:00:18s\n",
      "epoch 28 | loss: 0.68665 |  0:00:18s\n",
      "epoch 29 | loss: 0.68356 |  0:00:19s\n",
      "epoch 30 | loss: 0.68219 |  0:00:20s\n",
      "epoch 31 | loss: 0.68297 |  0:00:20s\n",
      "epoch 32 | loss: 0.6835  |  0:00:21s\n",
      "epoch 33 | loss: 0.68313 |  0:00:21s\n",
      "epoch 34 | loss: 0.67968 |  0:00:22s\n",
      "epoch 35 | loss: 0.68247 |  0:00:23s\n",
      "epoch 36 | loss: 0.67966 |  0:00:23s\n",
      "epoch 37 | loss: 0.67806 |  0:00:24s\n",
      "epoch 38 | loss: 0.67878 |  0:00:25s\n",
      "epoch 39 | loss: 0.67818 |  0:00:25s\n",
      "epoch 40 | loss: 0.67805 |  0:00:26s\n",
      "epoch 41 | loss: 0.67587 |  0:00:26s\n",
      "epoch 42 | loss: 0.67611 |  0:00:27s\n",
      "epoch 43 | loss: 0.67518 |  0:00:28s\n",
      "epoch 44 | loss: 0.67573 |  0:00:28s\n",
      "epoch 45 | loss: 0.67318 |  0:00:29s\n",
      "epoch 46 | loss: 0.67128 |  0:00:30s\n",
      "epoch 47 | loss: 0.67289 |  0:00:30s\n",
      "epoch 48 | loss: 0.6704  |  0:00:31s\n",
      "epoch 49 | loss: 0.67033 |  0:00:32s\n",
      "epoch 50 | loss: 0.67164 |  0:00:32s\n",
      "epoch 51 | loss: 0.67088 |  0:00:33s\n",
      "epoch 52 | loss: 0.66878 |  0:00:34s\n",
      "epoch 53 | loss: 0.66846 |  0:00:34s\n",
      "epoch 54 | loss: 0.6716  |  0:00:35s\n",
      "epoch 55 | loss: 0.66805 |  0:00:35s\n",
      "epoch 56 | loss: 0.66804 |  0:00:36s\n",
      "epoch 57 | loss: 0.66717 |  0:00:37s\n",
      "epoch 58 | loss: 0.66469 |  0:00:37s\n",
      "epoch 59 | loss: 0.66473 |  0:00:38s\n",
      "epoch 60 | loss: 0.66306 |  0:00:39s\n",
      "epoch 61 | loss: 0.66317 |  0:00:39s\n",
      "epoch 62 | loss: 0.66061 |  0:00:40s\n",
      "epoch 63 | loss: 0.66515 |  0:00:40s\n",
      "epoch 64 | loss: 0.66507 |  0:00:41s\n",
      "epoch 65 | loss: 0.6644  |  0:00:42s\n",
      "epoch 66 | loss: 0.66369 |  0:00:42s\n",
      "epoch 67 | loss: 0.66061 |  0:00:43s\n",
      "epoch 68 | loss: 0.65945 |  0:00:43s\n",
      "epoch 69 | loss: 0.6633  |  0:00:44s\n",
      "epoch 70 | loss: 0.65887 |  0:00:45s\n",
      "epoch 71 | loss: 0.66025 |  0:00:45s\n",
      "epoch 72 | loss: 0.65608 |  0:00:46s\n",
      "epoch 73 | loss: 0.65955 |  0:00:47s\n",
      "epoch 74 | loss: 0.65916 |  0:00:47s\n",
      "epoch 75 | loss: 0.65743 |  0:00:48s\n",
      "epoch 76 | loss: 0.65568 |  0:00:49s\n",
      "epoch 77 | loss: 0.65767 |  0:00:49s\n",
      "epoch 78 | loss: 0.655   |  0:00:50s\n",
      "epoch 79 | loss: 0.6548  |  0:00:51s\n",
      "epoch 80 | loss: 0.65802 |  0:00:51s\n",
      "epoch 81 | loss: 0.65694 |  0:00:52s\n",
      "epoch 82 | loss: 0.65455 |  0:00:53s\n",
      "epoch 83 | loss: 0.65263 |  0:00:53s\n",
      "epoch 84 | loss: 0.65141 |  0:00:54s\n",
      "epoch 85 | loss: 0.65311 |  0:00:54s\n",
      "epoch 86 | loss: 0.65422 |  0:00:55s\n",
      "epoch 87 | loss: 0.65345 |  0:00:56s\n",
      "epoch 88 | loss: 0.6538  |  0:00:56s\n",
      "epoch 89 | loss: 0.65078 |  0:00:57s\n",
      "epoch 90 | loss: 0.64816 |  0:00:58s\n",
      "epoch 91 | loss: 0.65418 |  0:00:58s\n",
      "epoch 92 | loss: 0.64945 |  0:00:59s\n",
      "epoch 93 | loss: 0.64577 |  0:00:59s\n",
      "epoch 94 | loss: 0.65175 |  0:01:00s\n",
      "epoch 95 | loss: 0.64724 |  0:01:01s\n",
      "epoch 96 | loss: 0.64759 |  0:01:01s\n",
      "epoch 97 | loss: 0.64868 |  0:01:02s\n",
      "epoch 98 | loss: 0.64876 |  0:01:03s\n",
      "epoch 99 | loss: 0.6493  |  0:01:04s\n",
      "epoch 100| loss: 0.64849 |  0:01:04s\n",
      "epoch 101| loss: 0.64888 |  0:01:05s\n",
      "epoch 102| loss: 0.64714 |  0:01:06s\n",
      "epoch 103| loss: 0.64555 |  0:01:06s\n",
      "epoch 104| loss: 0.64248 |  0:01:07s\n",
      "epoch 105| loss: 0.64309 |  0:01:08s\n",
      "epoch 106| loss: 0.64724 |  0:01:08s\n",
      "epoch 107| loss: 0.647   |  0:01:09s\n",
      "epoch 108| loss: 0.64831 |  0:01:09s\n",
      "epoch 109| loss: 0.64503 |  0:01:10s\n",
      "epoch 110| loss: 0.64523 |  0:01:11s\n",
      "epoch 111| loss: 0.6424  |  0:01:11s\n",
      "epoch 112| loss: 0.64419 |  0:01:12s\n",
      "epoch 113| loss: 0.64374 |  0:01:13s\n",
      "epoch 114| loss: 0.6438  |  0:01:13s\n",
      "epoch 115| loss: 0.64027 |  0:01:14s\n",
      "epoch 116| loss: 0.6424  |  0:01:14s\n",
      "epoch 117| loss: 0.64106 |  0:01:15s\n",
      "epoch 118| loss: 0.64271 |  0:01:16s\n",
      "epoch 119| loss: 0.64232 |  0:01:16s\n",
      "epoch 120| loss: 0.64269 |  0:01:17s\n",
      "epoch 121| loss: 0.64166 |  0:01:18s\n",
      "epoch 122| loss: 0.64448 |  0:01:19s\n",
      "epoch 123| loss: 0.63945 |  0:01:19s\n",
      "epoch 124| loss: 0.64297 |  0:01:20s\n",
      "epoch 125| loss: 0.64059 |  0:01:21s\n",
      "epoch 126| loss: 0.64286 |  0:01:22s\n",
      "epoch 127| loss: 0.64024 |  0:01:22s\n",
      "epoch 128| loss: 0.63751 |  0:01:23s\n",
      "epoch 129| loss: 0.63644 |  0:01:24s\n",
      "epoch 130| loss: 0.64128 |  0:01:24s\n",
      "epoch 131| loss: 0.64141 |  0:01:25s\n",
      "epoch 132| loss: 0.63882 |  0:01:26s\n",
      "epoch 133| loss: 0.64174 |  0:01:26s\n",
      "epoch 134| loss: 0.63745 |  0:01:27s\n",
      "epoch 135| loss: 0.6394  |  0:01:27s\n",
      "epoch 136| loss: 0.64083 |  0:01:28s\n",
      "epoch 137| loss: 0.63908 |  0:01:29s\n",
      "epoch 138| loss: 0.64031 |  0:01:30s\n",
      "epoch 139| loss: 0.63538 |  0:01:30s\n",
      "epoch 140| loss: 0.63824 |  0:01:31s\n",
      "epoch 141| loss: 0.63654 |  0:01:32s\n",
      "epoch 142| loss: 0.63704 |  0:01:32s\n",
      "epoch 143| loss: 0.63696 |  0:01:33s\n",
      "epoch 144| loss: 0.6406  |  0:01:34s\n",
      "epoch 145| loss: 0.63527 |  0:01:35s\n",
      "epoch 146| loss: 0.63387 |  0:01:36s\n",
      "epoch 147| loss: 0.63713 |  0:01:36s\n",
      "epoch 148| loss: 0.6355  |  0:01:37s\n",
      "epoch 149| loss: 0.63509 |  0:01:38s\n",
      "epoch 150| loss: 0.63583 |  0:01:38s\n",
      "epoch 151| loss: 0.63445 |  0:01:39s\n",
      "epoch 152| loss: 0.63419 |  0:01:40s\n",
      "epoch 153| loss: 0.63531 |  0:01:40s\n",
      "epoch 154| loss: 0.63258 |  0:01:41s\n",
      "epoch 155| loss: 0.63405 |  0:01:41s\n",
      "epoch 156| loss: 0.63149 |  0:01:42s\n",
      "epoch 157| loss: 0.63555 |  0:01:43s\n",
      "epoch 158| loss: 0.63273 |  0:01:43s\n",
      "epoch 159| loss: 0.6321  |  0:01:44s\n",
      "epoch 160| loss: 0.63161 |  0:01:45s\n",
      "epoch 161| loss: 0.63283 |  0:01:45s\n",
      "epoch 162| loss: 0.63369 |  0:01:46s\n",
      "epoch 163| loss: 0.62978 |  0:01:47s\n",
      "epoch 164| loss: 0.6325  |  0:01:47s\n",
      "epoch 165| loss: 0.6315  |  0:01:48s\n",
      "epoch 166| loss: 0.63514 |  0:01:48s\n",
      "epoch 167| loss: 0.63612 |  0:01:49s\n",
      "epoch 168| loss: 0.63383 |  0:01:50s\n",
      "epoch 169| loss: 0.62987 |  0:01:51s\n",
      "epoch 170| loss: 0.63199 |  0:01:51s\n",
      "epoch 171| loss: 0.62987 |  0:01:52s\n",
      "epoch 172| loss: 0.63272 |  0:01:53s\n",
      "epoch 173| loss: 0.63364 |  0:01:53s\n",
      "epoch 174| loss: 0.63063 |  0:01:54s\n",
      "epoch 175| loss: 0.6314  |  0:01:55s\n",
      "epoch 176| loss: 0.63327 |  0:01:55s\n",
      "epoch 177| loss: 0.63097 |  0:01:56s\n",
      "epoch 178| loss: 0.63137 |  0:01:56s\n",
      "epoch 179| loss: 0.62811 |  0:01:57s\n",
      "epoch 180| loss: 0.63013 |  0:01:58s\n",
      "epoch 181| loss: 0.62488 |  0:01:58s\n",
      "epoch 182| loss: 0.62942 |  0:01:59s\n",
      "epoch 183| loss: 0.63144 |  0:02:00s\n",
      "epoch 184| loss: 0.63243 |  0:02:00s\n",
      "epoch 185| loss: 0.62919 |  0:02:01s\n",
      "epoch 186| loss: 0.63047 |  0:02:02s\n",
      "epoch 187| loss: 0.62676 |  0:02:02s\n",
      "epoch 188| loss: 0.62632 |  0:02:03s\n",
      "epoch 189| loss: 0.62795 |  0:02:04s\n",
      "epoch 190| loss: 0.63    |  0:02:04s\n",
      "epoch 191| loss: 0.62581 |  0:02:05s\n",
      "epoch 192| loss: 0.62768 |  0:02:06s\n",
      "epoch 193| loss: 0.62846 |  0:02:06s\n",
      "epoch 194| loss: 0.62401 |  0:02:07s\n",
      "epoch 195| loss: 0.62424 |  0:02:08s\n",
      "epoch 196| loss: 0.62571 |  0:02:08s\n",
      "epoch 197| loss: 0.62334 |  0:02:09s\n",
      "epoch 198| loss: 0.62509 |  0:02:10s\n",
      "epoch 199| loss: 0.62894 |  0:02:10s\n"
     ]
    }
   ],
   "source": [
    "# Entrenar el modelo\n",
    "tabnet.fit(X_train=X_train, y_train=y_train, max_epochs=200, patience=30, batch_size=256, virtual_batch_size=128)"
   ]
  },
  {
   "cell_type": "code",
   "execution_count": 84,
   "metadata": {},
   "outputs": [],
   "source": [
    "# Predecir\n",
    "y_pred = tabnet.predict(X_test)"
   ]
  },
  {
   "cell_type": "code",
   "execution_count": 87,
   "metadata": {},
   "outputs": [],
   "source": [
    "y_pred_prob = tabnet.predict_proba(X_test)\n",
    "y_pred = (y_pred_prob[:, 1] > 0.4).astype(int)  # Umbral de 0.4\n"
   ]
  },
  {
   "cell_type": "code",
   "execution_count": 91,
   "metadata": {},
   "outputs": [],
   "source": [
    "# Hacer predicciones\n",
    "y_test_pred = tabnet.predict(df_test_scaled)"
   ]
  },
  {
   "cell_type": "code",
   "execution_count": 93,
   "metadata": {},
   "outputs": [
    {
     "name": "stdout",
     "output_type": "stream",
     "text": [
      "[[370 373]\n",
      " [201 589]]\n",
      "              precision    recall  f1-score   support\n",
      "\n",
      "           0       0.65      0.50      0.56       743\n",
      "           1       0.61      0.75      0.67       790\n",
      "\n",
      "    accuracy                           0.63      1533\n",
      "   macro avg       0.63      0.62      0.62      1533\n",
      "weighted avg       0.63      0.63      0.62      1533\n",
      "\n"
     ]
    }
   ],
   "source": [
    "# Evaluar\n",
    "print(confusion_matrix(y_test, y_pred))\n",
    "print(classification_report(y_test, y_pred))"
   ]
  },
  {
   "cell_type": "code",
   "execution_count": 95,
   "metadata": {},
   "outputs": [
    {
     "name": "stdout",
     "output_type": "stream",
     "text": [
      "            id  ACCEPT\n",
      "0  6b7ce9ec161       1\n",
      "1  96123015731       0\n",
      "2  b2c5181ac5b       1\n",
      "3  e6cb54a9e6a       1\n",
      "4  8eddf83466e       1\n",
      "0\n"
     ]
    }
   ],
   "source": [
    "df_test['ACCEPT'] = y_test_pred\n",
    "print(df_test[['id', 'ACCEPT']].head())\n",
    "missing_accept = df_test['ACCEPT'].isnull().sum()\n",
    "print(missing_accept)\n"
   ]
  },
  {
   "cell_type": "code",
   "execution_count": 97,
   "metadata": {},
   "outputs": [
    {
     "name": "stdout",
     "output_type": "stream",
     "text": [
      "            id  ACCEPT\n",
      "0  6b7ce9ec161       1\n",
      "1  96123015731       0\n",
      "2  b2c5181ac5b       1\n",
      "3  e6cb54a9e6a       1\n",
      "4  8eddf83466e       1\n"
     ]
    }
   ],
   "source": [
    "# Crear DataFrame con las predicciones (id y Accept)\n",
    "df_result = df_test[['id']].copy()  # Agregar 'id' del conjunto de test\n",
    "df_result['ACCEPT'] = y_test_pred\n",
    "# Verifica las primeras filas del DataFrame\n",
    "print(df_result.head())"
   ]
  },
  {
   "cell_type": "code",
   "execution_count": 99,
   "metadata": {},
   "outputs": [
    {
     "name": "stdout",
     "output_type": "stream",
     "text": [
      "¡Predicciones completas y archivo guardado como 'resultado_test.csv'!\n"
     ]
    }
   ],
   "source": [
    "# Guardar el resultado en un archivo CSV\n",
    "df_result.to_csv(\"SUBMMIT_TABNET.csv\", index=False)\n",
    "\n",
    "print(\"¡Predicciones completas y archivo guardado como 'resultado_test.csv'!\")"
   ]
  },
  {
   "cell_type": "markdown",
   "metadata": {},
   "source": [
    "## 4.- Conclusión"
   ]
  },
  {
   "cell_type": "markdown",
   "metadata": {},
   "source": [
    "En el modelo de predicción de aceptación de préstamos utilizando TabNet, se observó que los resultados obtenidos presentan una precisión moderada, con un valor de accuracy de 0.63. El modelo muestra un buen desempeño en la clase minoritaria (préstamos aceptados), alcanzando un recall de 0.75, lo que indica que es bastante efectivo para identificar los casos positivos (préstamos aceptados). Sin embargo, su desempeño en la clase mayoritaria (préstamos rechazados) es más bajo, con un recall de 0.50, lo que sugiere que hay una tasa considerable de falsos negativos en esta clase.\n",
    "\n",
    "Aunque el f1-score para la clase 1 (préstamos aceptados) es razonable (0.67), el f1-score para la clase 0 (préstamos rechazados) es más bajo (0.56), lo que refleja un desequilibrio en el rendimiento entre las dos clases. En términos generales, el modelo podría beneficiarse de ajustes adicionales para mejorar la identificación de los préstamos rechazados y equilibrar mejor la predicción de ambas clases.\n",
    "\n",
    "Por lo tanto, aunque TabNet tiene una capacidad destacada para manejar datos tabulares, su rendimiento en este caso no supera a otros modelos, lo que sugiere que podría ser necesario optimizar parámetros adicionales o emplear técnicas de balanceo de clases más efectivas."
   ]
  }
 ],
 "metadata": {
  "kernelspec": {
   "display_name": "Python (myenv)",
   "language": "python",
   "name": "myenv"
  },
  "language_info": {
   "codemirror_mode": {
    "name": "ipython",
    "version": 3
   },
   "file_extension": ".py",
   "mimetype": "text/x-python",
   "name": "python",
   "nbconvert_exporter": "python",
   "pygments_lexer": "ipython3",
   "version": "3.8.18"
  }
 },
 "nbformat": 4,
 "nbformat_minor": 4
}
