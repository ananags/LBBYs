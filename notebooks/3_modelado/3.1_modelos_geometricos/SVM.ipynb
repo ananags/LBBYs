{
 "cells": [
  {
   "cell_type": "markdown",
   "metadata": {},
   "source": [
    "# Entrenamiento de modelos relacionados con Support Vector Machines"
   ]
  },
  {
   "cell_type": "code",
   "execution_count": 14,
   "metadata": {},
   "outputs": [],
   "source": [
    "# General import and load data\n",
    "import pandas as pd\n",
    "import numpy as np\n",
    "from pandas import Series, DataFrame\n",
    "\n",
    "from sklearn.utils import resample\n",
    "\n",
    "# Training and test spliting\n",
    "from sklearn.model_selection import train_test_split\n",
    "from sklearn import preprocessing\n",
    "\n",
    "# Preprocessing \n",
    "from sklearn.preprocessing import StandardScaler\n",
    "\n",
    "# Estimators\n",
    "from sklearn.svm import SVC\n",
    "\n",
    "# Evaluation\n",
    "from sklearn import metrics\n",
    "from sklearn.model_selection import cross_val_score, KFold, StratifiedKFold\n",
    "from sklearn.metrics import classification_report\n",
    "from sklearn.metrics import roc_curve\n",
    "from sklearn.metrics import roc_auc_score\n",
    "from sklearn.metrics import confusion_matrix, accuracy_score, precision_score, recall_score, f1_score, classification_report\n",
    "\n",
    "# Optimization\n",
    "from sklearn.model_selection import GridSearchCV\n",
    "\n",
    "# Visualisation\n",
    "import seaborn as sns\n",
    "import matplotlib.pyplot as plt\n",
    "sns.set_theme(color_codes=True)"
   ]
  },
  {
   "cell_type": "code",
   "execution_count": 15,
   "metadata": {},
   "outputs": [],
   "source": [
    "# constants\n",
    "data_folder=\"../../../data\"\n",
    "raw_data_folder = f\"{data_folder}/raw\"\n",
    "processed_data_folder = f\"{data_folder}/processed\"\n",
    "submissions_folder = f\"{data_folder}/submissions\"\n",
    "\n",
    "original_train_dataset_path = f\"{raw_data_folder}/train.csv\"\n",
    "original_test_dataset_path = f\"{raw_data_folder}/test_nolabel.csv\"\n",
    "\n",
    "train_dataset_processed_path = f\"{processed_data_folder}/train_processed.csv\"\n",
    "train_dataset_balanced_processed_path = f\"{processed_data_folder}/train_balanced_processed.csv\"\n",
    "test_nolabel_processed_path = f\"{processed_data_folder}/test_nolabel_processed.csv\""
   ]
  },
  {
   "cell_type": "markdown",
   "metadata": {},
   "source": [
    "## Preparación\n",
    "\n",
    "Carga de datos y creación de dataframes para el posterior entrenamiento y predicción"
   ]
  },
  {
   "cell_type": "code",
   "execution_count": 16,
   "metadata": {},
   "outputs": [],
   "source": [
    "train_df = pd.read_csv(train_dataset_processed_path)\n",
    "train_balanced_df = pd.read_csv(train_dataset_balanced_processed_path)\n",
    "test_nolabel_df = pd.read_csv(test_nolabel_processed_path)"
   ]
  },
  {
   "cell_type": "code",
   "execution_count": 17,
   "metadata": {},
   "outputs": [],
   "source": [
    "def train_svc_with_df(\n",
    "        df: pd.DataFrame, \n",
    "        columns: list[str],\n",
    "        kernel: str = \"rbf\",\n",
    ") -> tuple[SVC, classification_report]:\n",
    "    \n",
    "    model = SVC(\n",
    "        kernel=kernel, \n",
    "        random_state=42,\n",
    "        gamma=\"auto\"\n",
    "    )\n",
    "\n",
    "    x = df[columns]\n",
    "    y = df[\"Accept\"]\n",
    "\n",
    "    x_train, x_test, y_train, y_test = train_test_split(x, y, test_size=0.3, random_state=42)\n",
    "    \n",
    "    trained_model = model.fit(x_train, y_train)\n",
    "\n",
    "    y_pred = trained_model.predict(x_test)\n",
    "\n",
    "    # Evaluar el modelo\n",
    "    # cm = confusion_matrix(y_test, y_pred)\n",
    "    # acc = accuracy_score(y_test, y_pred)\n",
    "    # prec = precision_score(y_test, y_pred)\n",
    "    # rec = recall_score(y_test, y_pred)\n",
    "    # f1 = f1_score(y_test, y_pred)\n",
    "    report = classification_report(y_test, y_pred)\n",
    "\n",
    "    return trained_model, report\n",
    "\n",
    "   "
   ]
  },
  {
   "cell_type": "markdown",
   "metadata": {},
   "source": [
    "Prueba básica"
   ]
  },
  {
   "cell_type": "code",
   "execution_count": 18,
   "metadata": {},
   "outputs": [
    {
     "name": "stdout",
     "output_type": "stream",
     "text": [
      "              precision    recall  f1-score   support\n",
      "\n",
      "           0       0.62      0.71      0.66       858\n",
      "           1       0.68      0.59      0.63       898\n",
      "\n",
      "    accuracy                           0.65      1756\n",
      "   macro avg       0.65      0.65      0.65      1756\n",
      "weighted avg       0.65      0.65      0.65      1756\n",
      "\n"
     ]
    }
   ],
   "source": [
    "columns_to_train = train_balanced_df.columns.to_list()\n",
    "columns_to_train.remove(\"Accept\")\n",
    "\n",
    "svc_trained, report = train_svc_with_df(\n",
    "    df=train_balanced_df,\n",
    "    columns=columns_to_train\n",
    ")\n",
    "\n",
    "print(report)"
   ]
  },
  {
   "cell_type": "markdown",
   "metadata": {},
   "source": [
    "Probar efecto del kernel"
   ]
  },
  {
   "cell_type": "code",
   "execution_count": 6,
   "metadata": {},
   "outputs": [
    {
     "name": "stdout",
     "output_type": "stream",
     "text": [
      "Report utilizando el kernel linear\n",
      "              precision    recall  f1-score   support\n",
      "\n",
      "           0       0.62      0.71      0.66       858\n",
      "           1       0.68      0.59      0.63       898\n",
      "\n",
      "    accuracy                           0.65      1756\n",
      "   macro avg       0.65      0.65      0.65      1756\n",
      "weighted avg       0.65      0.65      0.65      1756\n",
      "\n",
      "Report utilizando el kernel poly\n",
      "              precision    recall  f1-score   support\n",
      "\n",
      "           0       0.62      0.71      0.66       858\n",
      "           1       0.68      0.59      0.63       898\n",
      "\n",
      "    accuracy                           0.65      1756\n",
      "   macro avg       0.65      0.65      0.65      1756\n",
      "weighted avg       0.65      0.65      0.65      1756\n",
      "\n",
      "Report utilizando el kernel rbf\n",
      "              precision    recall  f1-score   support\n",
      "\n",
      "           0       0.62      0.71      0.66       858\n",
      "           1       0.68      0.59      0.63       898\n",
      "\n",
      "    accuracy                           0.65      1756\n",
      "   macro avg       0.65      0.65      0.65      1756\n",
      "weighted avg       0.65      0.65      0.65      1756\n",
      "\n",
      "Report utilizando el kernel sigmoid\n",
      "              precision    recall  f1-score   support\n",
      "\n",
      "           0       0.62      0.71      0.66       858\n",
      "           1       0.68      0.59      0.63       898\n",
      "\n",
      "    accuracy                           0.65      1756\n",
      "   macro avg       0.65      0.65      0.65      1756\n",
      "weighted avg       0.65      0.65      0.65      1756\n",
      "\n",
      "Report utilizando el kernel precomputed\n",
      "              precision    recall  f1-score   support\n",
      "\n",
      "           0       0.62      0.71      0.66       858\n",
      "           1       0.68      0.59      0.63       898\n",
      "\n",
      "    accuracy                           0.65      1756\n",
      "   macro avg       0.65      0.65      0.65      1756\n",
      "weighted avg       0.65      0.65      0.65      1756\n",
      "\n"
     ]
    }
   ],
   "source": [
    "columns_to_train = train_balanced_df.columns.to_list()\n",
    "columns_to_train.remove(\"Accept\")\n",
    "\n",
    "for kernel in [\"linear\", \"poly\", \"rbf\", \"sigmoid\", \"precomputed\"]:\n",
    "    svc_trained, report = train_svc_with_df(\n",
    "        df=train_balanced_df,\n",
    "        columns=columns_to_train,\n",
    "        class_weight=None\n",
    "    )\n",
    "    print(f\"Report utilizando el kernel {kernel}\")\n",
    "    print(report)"
   ]
  },
  {
   "cell_type": "markdown",
   "metadata": {},
   "source": [
    "## Creación de entregable"
   ]
  },
  {
   "cell_type": "code",
   "execution_count": 7,
   "metadata": {},
   "outputs": [],
   "source": [
    "def create_submission(\n",
    "        model: SVC,\n",
    "        test_df: pd.DataFrame,\n",
    "        submission_name: str\n",
    "):\n",
    "    \n",
    "    test_ids = test_df[\"id\"]\n",
    "\n",
    "    test_prediction_columns = test_df.columns.to_list()\n",
    "    test_prediction_columns.remove(\"id\")\n",
    "    test_prediction_data = test_df[test_prediction_columns]\n",
    "\n",
    "    predcition = model.predict(test_prediction_data)\n",
    "\n",
    "    predcition_df = pd.DataFrame({\n",
    "        \"id\": test_ids,\n",
    "        \"Accept\": predcition\n",
    "    })\n",
    "\n",
    "    predcition_df.to_csv(f\"{submissions_folder}/{submission_name}.csv\", sep=\",\", index=False)"
   ]
  },
  {
   "cell_type": "code",
   "execution_count": 8,
   "metadata": {},
   "outputs": [],
   "source": [
    "create_submission(\n",
    "    model=svc_trained,\n",
    "    test_df=test_nolabel_df,\n",
    "    submission_name=\"SVC_rbf\"\n",
    ")"
   ]
  }
 ],
 "metadata": {
  "kernelspec": {
   "display_name": "venv_svm",
   "language": "python",
   "name": "python3"
  },
  "language_info": {
   "codemirror_mode": {
    "name": "ipython",
    "version": 3
   },
   "file_extension": ".py",
   "mimetype": "text/x-python",
   "name": "python",
   "nbconvert_exporter": "python",
   "pygments_lexer": "ipython3",
   "version": "3.13.2"
  }
 },
 "nbformat": 4,
 "nbformat_minor": 2
}
