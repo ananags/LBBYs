{
 "cells": [
  {
   "cell_type": "code",
   "execution_count": 1,
   "id": "9f8d7a71-d35a-44f9-a137-056a3467de09",
   "metadata": {},
   "outputs": [],
   "source": [
    "import pandas as pd\n",
    "from catboost import CatBoostClassifier, Pool\n",
    "from sklearn.model_selection import train_test_split\n",
    "from sklearn.metrics import accuracy_score, classification_report, confusion_matrix\n",
    "\n",
    "# Cargar el dataset y preprocesar\n",
    "df = pd.read_csv('../../../data/processed/train_processed.csv')"
   ]
  },
  {
   "cell_type": "code",
   "execution_count": 2,
   "id": "a5d2cfc2-03d8-4bf3-8d2e-02e70c1034fe",
   "metadata": {},
   "outputs": [
    {
     "data": {
      "text/html": [
       "<div>\n",
       "<style scoped>\n",
       "    .dataframe tbody tr th:only-of-type {\n",
       "        vertical-align: middle;\n",
       "    }\n",
       "\n",
       "    .dataframe tbody tr th {\n",
       "        vertical-align: top;\n",
       "    }\n",
       "\n",
       "    .dataframe thead th {\n",
       "        text-align: right;\n",
       "    }\n",
       "</style>\n",
       "<table border=\"1\" class=\"dataframe\">\n",
       "  <thead>\n",
       "    <tr style=\"text-align: right;\">\n",
       "      <th></th>\n",
       "      <th>NewExist</th>\n",
       "      <th>UrbanRural</th>\n",
       "      <th>RevLineCr</th>\n",
       "      <th>LowDoc</th>\n",
       "      <th>Accept</th>\n",
       "      <th>BankStateInOhio</th>\n",
       "      <th>ApprovalDateMonth</th>\n",
       "      <th>ApprovalFYGrouped</th>\n",
       "      <th>NoEmpGrouped</th>\n",
       "      <th>CreateJobBinary</th>\n",
       "      <th>RetainedJobBinary</th>\n",
       "      <th>IsFranchise</th>\n",
       "      <th>DisbursementGrossGrouped</th>\n",
       "    </tr>\n",
       "  </thead>\n",
       "  <tbody>\n",
       "    <tr>\n",
       "      <th>0</th>\n",
       "      <td>2</td>\n",
       "      <td>1</td>\n",
       "      <td>0</td>\n",
       "      <td>0</td>\n",
       "      <td>1</td>\n",
       "      <td>0</td>\n",
       "      <td>11</td>\n",
       "      <td>2006</td>\n",
       "      <td>0</td>\n",
       "      <td>0</td>\n",
       "      <td>1</td>\n",
       "      <td>0</td>\n",
       "      <td>0</td>\n",
       "    </tr>\n",
       "    <tr>\n",
       "      <th>1</th>\n",
       "      <td>2</td>\n",
       "      <td>1</td>\n",
       "      <td>0</td>\n",
       "      <td>0</td>\n",
       "      <td>1</td>\n",
       "      <td>1</td>\n",
       "      <td>6</td>\n",
       "      <td>2005</td>\n",
       "      <td>0</td>\n",
       "      <td>1</td>\n",
       "      <td>1</td>\n",
       "      <td>0</td>\n",
       "      <td>1</td>\n",
       "    </tr>\n",
       "    <tr>\n",
       "      <th>2</th>\n",
       "      <td>2</td>\n",
       "      <td>2</td>\n",
       "      <td>1</td>\n",
       "      <td>0</td>\n",
       "      <td>1</td>\n",
       "      <td>1</td>\n",
       "      <td>3</td>\n",
       "      <td>2003</td>\n",
       "      <td>0</td>\n",
       "      <td>1</td>\n",
       "      <td>1</td>\n",
       "      <td>0</td>\n",
       "      <td>0</td>\n",
       "    </tr>\n",
       "    <tr>\n",
       "      <th>3</th>\n",
       "      <td>2</td>\n",
       "      <td>0</td>\n",
       "      <td>0</td>\n",
       "      <td>0</td>\n",
       "      <td>1</td>\n",
       "      <td>1</td>\n",
       "      <td>6</td>\n",
       "      <td>1995</td>\n",
       "      <td>0</td>\n",
       "      <td>0</td>\n",
       "      <td>0</td>\n",
       "      <td>0</td>\n",
       "      <td>1</td>\n",
       "    </tr>\n",
       "    <tr>\n",
       "      <th>4</th>\n",
       "      <td>1</td>\n",
       "      <td>1</td>\n",
       "      <td>0</td>\n",
       "      <td>0</td>\n",
       "      <td>0</td>\n",
       "      <td>1</td>\n",
       "      <td>4</td>\n",
       "      <td>2009</td>\n",
       "      <td>0</td>\n",
       "      <td>0</td>\n",
       "      <td>0</td>\n",
       "      <td>0</td>\n",
       "      <td>0</td>\n",
       "    </tr>\n",
       "    <tr>\n",
       "      <th>...</th>\n",
       "      <td>...</td>\n",
       "      <td>...</td>\n",
       "      <td>...</td>\n",
       "      <td>...</td>\n",
       "      <td>...</td>\n",
       "      <td>...</td>\n",
       "      <td>...</td>\n",
       "      <td>...</td>\n",
       "      <td>...</td>\n",
       "      <td>...</td>\n",
       "      <td>...</td>\n",
       "      <td>...</td>\n",
       "      <td>...</td>\n",
       "    </tr>\n",
       "    <tr>\n",
       "      <th>14429</th>\n",
       "      <td>1</td>\n",
       "      <td>0</td>\n",
       "      <td>0</td>\n",
       "      <td>0</td>\n",
       "      <td>1</td>\n",
       "      <td>0</td>\n",
       "      <td>11</td>\n",
       "      <td>1994</td>\n",
       "      <td>1</td>\n",
       "      <td>0</td>\n",
       "      <td>0</td>\n",
       "      <td>0</td>\n",
       "      <td>2</td>\n",
       "    </tr>\n",
       "    <tr>\n",
       "      <th>14430</th>\n",
       "      <td>2</td>\n",
       "      <td>1</td>\n",
       "      <td>1</td>\n",
       "      <td>0</td>\n",
       "      <td>1</td>\n",
       "      <td>0</td>\n",
       "      <td>9</td>\n",
       "      <td>2008</td>\n",
       "      <td>0</td>\n",
       "      <td>1</td>\n",
       "      <td>1</td>\n",
       "      <td>0</td>\n",
       "      <td>1</td>\n",
       "    </tr>\n",
       "    <tr>\n",
       "      <th>14431</th>\n",
       "      <td>1</td>\n",
       "      <td>1</td>\n",
       "      <td>0</td>\n",
       "      <td>0</td>\n",
       "      <td>1</td>\n",
       "      <td>0</td>\n",
       "      <td>12</td>\n",
       "      <td>2000</td>\n",
       "      <td>1</td>\n",
       "      <td>0</td>\n",
       "      <td>0</td>\n",
       "      <td>0</td>\n",
       "      <td>1</td>\n",
       "    </tr>\n",
       "    <tr>\n",
       "      <th>14432</th>\n",
       "      <td>2</td>\n",
       "      <td>1</td>\n",
       "      <td>0</td>\n",
       "      <td>0</td>\n",
       "      <td>1</td>\n",
       "      <td>1</td>\n",
       "      <td>4</td>\n",
       "      <td>2007</td>\n",
       "      <td>0</td>\n",
       "      <td>1</td>\n",
       "      <td>0</td>\n",
       "      <td>1</td>\n",
       "      <td>2</td>\n",
       "    </tr>\n",
       "    <tr>\n",
       "      <th>14433</th>\n",
       "      <td>2</td>\n",
       "      <td>1</td>\n",
       "      <td>0</td>\n",
       "      <td>0</td>\n",
       "      <td>1</td>\n",
       "      <td>1</td>\n",
       "      <td>1</td>\n",
       "      <td>2010</td>\n",
       "      <td>0</td>\n",
       "      <td>1</td>\n",
       "      <td>0</td>\n",
       "      <td>0</td>\n",
       "      <td>2</td>\n",
       "    </tr>\n",
       "  </tbody>\n",
       "</table>\n",
       "<p>14434 rows × 13 columns</p>\n",
       "</div>"
      ],
      "text/plain": [
       "       NewExist  UrbanRural  RevLineCr  LowDoc  Accept  BankStateInOhio  \\\n",
       "0             2           1          0       0       1                0   \n",
       "1             2           1          0       0       1                1   \n",
       "2             2           2          1       0       1                1   \n",
       "3             2           0          0       0       1                1   \n",
       "4             1           1          0       0       0                1   \n",
       "...         ...         ...        ...     ...     ...              ...   \n",
       "14429         1           0          0       0       1                0   \n",
       "14430         2           1          1       0       1                0   \n",
       "14431         1           1          0       0       1                0   \n",
       "14432         2           1          0       0       1                1   \n",
       "14433         2           1          0       0       1                1   \n",
       "\n",
       "       ApprovalDateMonth  ApprovalFYGrouped  NoEmpGrouped  CreateJobBinary  \\\n",
       "0                     11               2006             0                0   \n",
       "1                      6               2005             0                1   \n",
       "2                      3               2003             0                1   \n",
       "3                      6               1995             0                0   \n",
       "4                      4               2009             0                0   \n",
       "...                  ...                ...           ...              ...   \n",
       "14429                 11               1994             1                0   \n",
       "14430                  9               2008             0                1   \n",
       "14431                 12               2000             1                0   \n",
       "14432                  4               2007             0                1   \n",
       "14433                  1               2010             0                1   \n",
       "\n",
       "       RetainedJobBinary  IsFranchise  DisbursementGrossGrouped  \n",
       "0                      1            0                         0  \n",
       "1                      1            0                         1  \n",
       "2                      1            0                         0  \n",
       "3                      0            0                         1  \n",
       "4                      0            0                         0  \n",
       "...                  ...          ...                       ...  \n",
       "14429                  0            0                         2  \n",
       "14430                  1            0                         1  \n",
       "14431                  0            0                         1  \n",
       "14432                  0            1                         2  \n",
       "14433                  0            0                         2  \n",
       "\n",
       "[14434 rows x 13 columns]"
      ]
     },
     "execution_count": 2,
     "metadata": {},
     "output_type": "execute_result"
    }
   ],
   "source": [
    "df"
   ]
  },
  {
   "cell_type": "code",
   "execution_count": 3,
   "id": "64358092-6808-45ed-be0c-70187d7ee71e",
   "metadata": {},
   "outputs": [
    {
     "name": "stdout",
     "output_type": "stream",
     "text": [
      "Frecuencia de valores en 'accept':\n",
      "Accept\n",
      "1    11508\n",
      "0     2926\n",
      "Name: count, dtype: int64\n"
     ]
    }
   ],
   "source": [
    "# Contar los valores únicos en la columna 'accept'\n",
    "value_counts_accept = df['Accept'].value_counts()\n",
    "\n",
    "# Imprimir los resultados\n",
    "print(\"Frecuencia de valores en 'accept':\")\n",
    "print(value_counts_accept)\n"
   ]
  },
  {
   "cell_type": "markdown",
   "id": "f3c69eea-9d66-420b-a0ea-2066cc3d4129",
   "metadata": {},
   "source": [
    "# CatBoostClassifier"
   ]
  },
  {
   "cell_type": "code",
   "execution_count": 4,
   "id": "bbe711d5-7cf6-4ef9-b435-42ce05525951",
   "metadata": {},
   "outputs": [],
   "source": [
    "from catboost import CatBoostClassifier\n",
    "from sklearn.metrics import f1_score, classification_report, confusion_matrix"
   ]
  },
  {
   "cell_type": "code",
   "execution_count": 5,
   "id": "c8cd917c-c920-4099-a9a8-8064ab8dfbb0",
   "metadata": {},
   "outputs": [],
   "source": [
    "# Creacion del modelo\n",
    "def myCatBoost(X_train,X_test,y_train,y_test):\n",
    "    # Categorical \n",
    "    cat_features = [\"BankStateInOhio\",\"NoEmpGrouped\",\"CreateJobBinary\",\"RetainedJobBinary\",\"IsFranchise\",\"NewExist\",\"UrbanRural\",\"RevLineCr\",\"DisbursementGrossGrouped\"]\n",
    "    \n",
    "    # Crear los pools de CatBoost\n",
    "    train_pool = Pool(data=X_train, label=y_train, cat_features=cat_features)\n",
    "    test_pool = Pool(data=X_test, label=y_test, cat_features=cat_features)\n",
    "\n",
    "    model = CatBoostClassifier(\n",
    "        iterations=800,\n",
    "        learning_rate=0.03,\n",
    "        depth=10,\n",
    "        eval_metric=\"F1\",\n",
    "        #class_weights={0:8, 1:1},\n",
    "        auto_class_weights=\"Balanced\",\n",
    "        random_seed=42,\n",
    "        verbose=100\n",
    "    )\n",
    "    \n",
    "    model.fit(train_pool)\n",
    "\n",
    "    # Predicciones\n",
    "    y_pred = model.predict(X_test)\n",
    "\n",
    "    return model,y_test,y_pred"
   ]
  },
  {
   "cell_type": "code",
   "execution_count": 6,
   "id": "42feeeb2-ba4d-4207-b870-49c2f58ef87a",
   "metadata": {},
   "outputs": [],
   "source": [
    "X = df.copy().drop(columns=[\"Accept\"])  # Características\n",
    "y = df.copy()[\"Accept\"]  # Variable objetivo (aceptación del crédito)"
   ]
  },
  {
   "cell_type": "code",
   "execution_count": 7,
   "id": "a3ad9ef4-2def-4bac-854d-5245c7116300",
   "metadata": {},
   "outputs": [
    {
     "name": "stdout",
     "output_type": "stream",
     "text": [
      "0:\tlearn: 0.6508696\ttotal: 90.3ms\tremaining: 1m 12s\n",
      "100:\tlearn: 0.7119981\ttotal: 2.05s\tremaining: 14.2s\n",
      "200:\tlearn: 0.7291928\ttotal: 3.92s\tremaining: 11.7s\n",
      "300:\tlearn: 0.7471888\ttotal: 5.57s\tremaining: 9.23s\n",
      "400:\tlearn: 0.7825331\ttotal: 8.64s\tremaining: 8.6s\n",
      "500:\tlearn: 0.8088609\ttotal: 12.2s\tremaining: 7.29s\n",
      "600:\tlearn: 0.8310706\ttotal: 15.4s\tremaining: 5.11s\n",
      "700:\tlearn: 0.8461685\ttotal: 18.6s\tremaining: 2.63s\n",
      "799:\tlearn: 0.8611293\ttotal: 21.8s\tremaining: 0us\n"
     ]
    }
   ],
   "source": [
    "# División en conjunto de test y entrenamiento\n",
    "X_train, X_test, y_train, y_test= train_test_split(X, y, test_size=0.2, random_state=42)\n",
    "model1,y_test, y_pred = myCatBoost(X_train, X_test, y_train, y_test)"
   ]
  },
  {
   "cell_type": "code",
   "execution_count": 8,
   "id": "9710fbbd-04a2-4d61-86e7-b0bb7c748270",
   "metadata": {},
   "outputs": [
    {
     "name": "stdout",
     "output_type": "stream",
     "text": [
      "F1_score: 0.7954226996730499\n",
      "\n",
      "Clasificación:\n",
      "               precision    recall  f1-score   support\n",
      "\n",
      "           0       0.33      0.55      0.41       564\n",
      "           1       0.87      0.73      0.80      2323\n",
      "\n",
      "    accuracy                           0.70      2887\n",
      "   macro avg       0.60      0.64      0.60      2887\n",
      "weighted avg       0.76      0.70      0.72      2887\n",
      "\n",
      "\n",
      "Matriz de confusión:\n",
      " [[ 308  256]\n",
      " [ 620 1703]]\n"
     ]
    }
   ],
   "source": [
    "# Evaluación\n",
    "print(\"F1_score:\", f1_score(y_test, y_pred))\n",
    "print(\"\\nClasificación:\\n\", classification_report(y_test, y_pred))\n",
    "print(\"\\nMatriz de confusión:\\n\", confusion_matrix(y_test, y_pred))"
   ]
  },
  {
   "cell_type": "code",
   "execution_count": 25,
   "id": "932d8934-a2d8-4c98-a10d-e707a3af84d6",
   "metadata": {},
   "outputs": [],
   "source": [
    "# Crear un diccionario para almacenar el nombre del modelo y su avg accuracy\n",
    "model_performance = {}\n",
    "model_performance['CatBoostSimple_8'] = 0.58\n",
    "model_performance['CatBoostSimple_Auto'] = 0.6"
   ]
  },
  {
   "cell_type": "markdown",
   "id": "42ddcb81-46a1-47fe-8989-1b5d7ddc64ca",
   "metadata": {},
   "source": [
    "# Método1: Balanceo del dataset"
   ]
  },
  {
   "cell_type": "code",
   "execution_count": 10,
   "id": "8a11a9f4-8408-4dab-9cf4-3f2adbffb4e1",
   "metadata": {},
   "outputs": [],
   "source": [
    "# Balancear el DataFrame (undersampling de la clase mayoritaria)\n",
    "df_accept_0 = df[df['Accept'] == 0]\n",
    "df_accept_1 = df[df['Accept'] == 1]\n",
    "n_minority = len(df_accept_0)\n",
    "df_accept_1_under = df_accept_1.sample(n=n_minority, random_state=42)\n",
    "df_balanced = pd.concat([df_accept_0, df_accept_1_under]).sample(frac=1, random_state=42).reset_index(drop=True)\n",
    "\n",
    "X_balanced = df_balanced.copy().drop(columns=[\"Accept\"])  # Características\n",
    "y_balanced = df_balanced.copy()[\"Accept\"]  # Variable objetivo (aceptación del crédito)"
   ]
  },
  {
   "cell_type": "code",
   "execution_count": 11,
   "id": "7b5599c1-827a-4d9f-aeb7-40563304f75a",
   "metadata": {},
   "outputs": [
    {
     "name": "stdout",
     "output_type": "stream",
     "text": [
      "Frecuencia de valores en 'accept':\n",
      "Accept\n",
      "1    2926\n",
      "0    2926\n",
      "Name: count, dtype: int64\n"
     ]
    }
   ],
   "source": [
    "# Comprobación del balanceo\n",
    "value_counts_accept = df_balanced['Accept'].value_counts()\n",
    "\n",
    "# Imprimir los resultados\n",
    "print(\"Frecuencia de valores en 'accept':\")\n",
    "print(value_counts_accept)\n"
   ]
  },
  {
   "cell_type": "code",
   "execution_count": 12,
   "id": "a7bade16-9340-48a1-ad6f-d851a7f72ef4",
   "metadata": {},
   "outputs": [
    {
     "name": "stdout",
     "output_type": "stream",
     "text": [
      "0:\tlearn: 0.6695256\ttotal: 13.2ms\tremaining: 10.6s\n",
      "100:\tlearn: 0.7236388\ttotal: 757ms\tremaining: 5.24s\n",
      "200:\tlearn: 0.7452761\ttotal: 1.44s\tremaining: 4.29s\n",
      "300:\tlearn: 0.7737131\ttotal: 2.14s\tremaining: 3.55s\n",
      "400:\tlearn: 0.8150408\ttotal: 3.04s\tremaining: 3.02s\n",
      "500:\tlearn: 0.8389255\ttotal: 3.97s\tremaining: 2.37s\n",
      "600:\tlearn: 0.8629641\ttotal: 4.88s\tremaining: 1.61s\n",
      "700:\tlearn: 0.8818848\ttotal: 5.79s\tremaining: 818ms\n",
      "799:\tlearn: 0.9007466\ttotal: 6.68s\tremaining: 0us\n"
     ]
    }
   ],
   "source": [
    "# División en conjunto de test y entrenamiento\n",
    "X_train_b, X_test_b, y_train_b, y_test_b = train_test_split(X_balanced, y_balanced, test_size=0.2, random_state=42)\n",
    "model1,y_test_bal, y_pred_bal = myCatBoost(X_train_b, X_test_b, y_train_b, y_test_b)"
   ]
  },
  {
   "cell_type": "code",
   "execution_count": 13,
   "id": "f338649c-1c3b-46cf-a4af-bb2642de3e3e",
   "metadata": {},
   "outputs": [
    {
     "name": "stdout",
     "output_type": "stream",
     "text": [
      "F1_score: 0.6012488849241748\n",
      "\n",
      "Clasificación:\n",
      "               precision    recall  f1-score   support\n",
      "\n",
      "           0       0.61      0.66      0.63       582\n",
      "           1       0.63      0.57      0.60       589\n",
      "\n",
      "    accuracy                           0.62      1171\n",
      "   macro avg       0.62      0.62      0.62      1171\n",
      "weighted avg       0.62      0.62      0.62      1171\n",
      "\n",
      "\n",
      "Matriz de confusión:\n",
      " [[387 195]\n",
      " [252 337]]\n"
     ]
    }
   ],
   "source": [
    "# Evaluación\n",
    "print(\"F1_score:\", f1_score(y_test_bal, y_pred_bal))\n",
    "print(\"\\nClasificación:\\n\", classification_report(y_test_bal, y_pred_bal))\n",
    "print(\"\\nMatriz de confusión:\\n\", confusion_matrix(y_test_bal, y_pred_bal))"
   ]
  },
  {
   "cell_type": "code",
   "execution_count": 14,
   "id": "16778350-76fb-46c8-b6b6-edd77588a8c4",
   "metadata": {},
   "outputs": [],
   "source": [
    "# Crear un diccionario para almacenar el nombre del modelo y su avg accuracy\n",
    "model_performance['Balanceado'] = 0.62  \n",
    "model_performance['Balanceado_srqt'] = 0.62  "
   ]
  },
  {
   "cell_type": "markdown",
   "id": "25aae308-59f5-41b5-8b0d-abe44535c147",
   "metadata": {},
   "source": [
    "# Método2: SMOTE"
   ]
  },
  {
   "cell_type": "code",
   "execution_count": 15,
   "id": "00f5ba17-ef5f-4948-9648-685503311fb4",
   "metadata": {},
   "outputs": [],
   "source": [
    "from sklearn.preprocessing import LabelEncoder\n",
    "from imblearn.over_sampling import SMOTE\n",
    "from catboost import CatBoostClassifier"
   ]
  },
  {
   "cell_type": "code",
   "execution_count": 16,
   "id": "02a9cda4-d53e-44f1-af7d-2677268c8d24",
   "metadata": {},
   "outputs": [
    {
     "name": "stdout",
     "output_type": "stream",
     "text": [
      "(14434, 13)\n"
     ]
    }
   ],
   "source": [
    "df_smote = df.copy()\n",
    "print(df_smote.shape)\n",
    "X_smote = df_smote.copy().drop(columns=[\"Accept\"])  # Características\n",
    "y_smote = df_smote.copy()[\"Accept\"]  # Variable objetivo (aceptación del crédito)"
   ]
  },
  {
   "cell_type": "code",
   "execution_count": 17,
   "id": "16ffefaf-c2b3-4dd7-805e-c93183d05fe7",
   "metadata": {},
   "outputs": [],
   "source": [
    "X_train_smote, X_test_smote, y_train_smote, y_test_smote = train_test_split(X_smote, y_smote, test_size=0.2, random_state=42)"
   ]
  },
  {
   "cell_type": "code",
   "execution_count": 18,
   "id": "16270822-a253-433a-b251-eddd2be0bc14",
   "metadata": {},
   "outputs": [
    {
     "data": {
      "text/plain": [
       "(18370, 12)"
      ]
     },
     "execution_count": 18,
     "metadata": {},
     "output_type": "execute_result"
    }
   ],
   "source": [
    "# aplicar SMOTE\n",
    "smote = SMOTE(random_state=42)\n",
    "X_train_resampled, y_train_resampled = smote.fit_resample(X_train_smote, y_train_smote)\n",
    "X_train_resampled.shape"
   ]
  },
  {
   "cell_type": "code",
   "execution_count": 19,
   "id": "0f38e547-3347-405f-a77f-5158d5b1acca",
   "metadata": {},
   "outputs": [
    {
     "name": "stdout",
     "output_type": "stream",
     "text": [
      "Frecuencia de valores en 'accept':\n",
      "Accept\n",
      "0    9185\n",
      "1    9185\n",
      "Name: count, dtype: int64\n"
     ]
    }
   ],
   "source": [
    "# Comprobación del balanceo\n",
    "value_counts_accept = y_train_resampled.value_counts()\n",
    "\n",
    "# Imprimir los resultados\n",
    "print(\"Frecuencia de valores en 'accept':\")\n",
    "print(value_counts_accept)\n"
   ]
  },
  {
   "cell_type": "code",
   "execution_count": 20,
   "id": "fcb41491-b74c-4299-88cd-9ccef15c6467",
   "metadata": {},
   "outputs": [
    {
     "name": "stdout",
     "output_type": "stream",
     "text": [
      "0:\tlearn: 0.6952296\ttotal: 40ms\tremaining: 31.9s\n",
      "100:\tlearn: 0.7505780\ttotal: 3.02s\tremaining: 20.9s\n",
      "200:\tlearn: 0.7683725\ttotal: 5.98s\tremaining: 17.8s\n",
      "300:\tlearn: 0.7816434\ttotal: 8.88s\tremaining: 14.7s\n",
      "400:\tlearn: 0.8002296\ttotal: 12.1s\tremaining: 12.1s\n",
      "500:\tlearn: 0.8141552\ttotal: 15.8s\tremaining: 9.43s\n",
      "600:\tlearn: 0.8244020\ttotal: 19.7s\tremaining: 6.52s\n",
      "700:\tlearn: 0.8321723\ttotal: 23.4s\tremaining: 3.3s\n",
      "799:\tlearn: 0.8390553\ttotal: 26.9s\tremaining: 0us\n"
     ]
    }
   ],
   "source": [
    "# División en conjunto de test y entrenamiento\n",
    "model,y_test_smote, y_pred_smote = myCatBoost(X_train_resampled, X_test_smote, y_train_resampled, y_test_smote)"
   ]
  },
  {
   "cell_type": "code",
   "execution_count": 21,
   "id": "8e0afc1c-6047-4a06-9d3a-7a76257732bd",
   "metadata": {},
   "outputs": [
    {
     "name": "stdout",
     "output_type": "stream",
     "text": [
      "F1_score: 0.7929759704251386\n",
      "\n",
      "Clasificación:\n",
      "               precision    recall  f1-score   support\n",
      "\n",
      "           0       0.31      0.49      0.38       564\n",
      "           1       0.86      0.74      0.79      2323\n",
      "\n",
      "    accuracy                           0.69      2887\n",
      "   macro avg       0.58      0.61      0.59      2887\n",
      "weighted avg       0.75      0.69      0.71      2887\n",
      "\n",
      "\n",
      "Matriz de confusión:\n",
      " [[ 275  289]\n",
      " [ 607 1716]]\n"
     ]
    }
   ],
   "source": [
    "# Evaluación\n",
    "print(\"F1_score:\", f1_score(y_test_smote, y_pred_smote))\n",
    "print(\"\\nClasificación:\\n\", classification_report(y_test_smote, y_pred_smote))\n",
    "print(\"\\nMatriz de confusión:\\n\", confusion_matrix(y_test_smote, y_pred_smote))"
   ]
  },
  {
   "cell_type": "code",
   "execution_count": 22,
   "id": "9a889c61-9029-4324-9268-e7cd84e96df6",
   "metadata": {},
   "outputs": [],
   "source": [
    "# Crear un diccionario para almacenar el nombre del modelo y su avg accuracy\n",
    "model_performance = {}\n",
    "model_performance['SMOTE'] = 0.59 \n",
    "model_performance['SMOTE_sqrt'] = 0.59 "
   ]
  },
  {
   "cell_type": "markdown",
   "id": "174e4786-405b-45fc-a85d-28e51337fde3",
   "metadata": {},
   "source": [
    "from sklearn.model_selection import GridSearchCV\n",
    "from catboost import CatBoostClassifier\n",
    "from sklearn.metrics import f1_score, classification_report, confusion_matrix\n",
    "import numpy as np\n",
    "\n",
    "# Definir el espacio de búsqueda de los hiperparámetros\n",
    "param_grid = {\n",
    "    'iterations': [500, 1000],\n",
    "    'learning_rate': [0.01, 0.05, 0.1],\n",
    "    'depth': [6, 8],\n",
    "    #'class_weights': [{0: 10, 1: 1}, {0: 5, 1: 1}]  # Prueba con diferentes pesos\n",
    "}\n",
    "cat_features = [\"BankStateInOhio\",\"NoEmpGrouped\",\"CreateJobBinary\",\"RetainedJobBinary\",\"IsFranchise\",\"NewExist\",\"UrbanRural\",\"RevLineCr\",\"DisbursementGrossGrouped\"]\n",
    "\n",
    "# Crear el modelo base\n",
    "model = CatBoostClassifier(eval_metric='F1', cat_features=cat_features)\n",
    "\n",
    "# Realizar la búsqueda de los mejores hiperparámetros con GridSearchCV\n",
    "grid_search = GridSearchCV(estimator=model, param_grid=param_grid, cv=3, n_jobs=-1, verbose=2, scoring='f1')\n",
    "\n",
    "# Ajustar el modelo\n",
    "grid_search.fit(X_train_resampled, y_train_resampled)\n",
    "\n",
    "# Mejor modelo\n",
    "best_model = grid_search.best_estimator_\n",
    "\n",
    "# Predecir las probabilidades con el mejor modelo\n",
    "y_proba = best_model.predict_proba(X_test_smote)[:, 1]\n",
    "\n",
    "# Probar varios umbrales para optimizar el F1 score\n",
    "thresholds = np.arange(0.1, 0.9, 0.001)\n",
    "f1_scores = []\n",
    "\n",
    "for t in thresholds:\n",
    "    y_pred_adj = (y_proba >= t).astype(int)\n",
    "    f1_scores.append(f1_score(y_test, y_pred_adj, pos_label=0))  # Foco en clase 0\n",
    "\n",
    "# Mejor umbral\n",
    "best_idx = np.argmax(f1_scores)\n",
    "best_threshold = thresholds[best_idx]\n",
    "print(f\"Mejor threshold para clase 0: {best_threshold:.2f}, F1: {f1_scores[best_idx]:.4f}\")\n",
    "\n",
    "# Usar el mejor umbral para hacer las predicciones finales\n",
    "y_pred_adjusted = (y_proba >= best_threshold).astype(int)\n",
    "\n",
    "# Evaluar el modelo con el mejor umbral\n",
    "print(\"F1 Score:\", f1_score(y_test, y_pred_adjusted))\n",
    "print(\"\\nReporte de clasificación:\\n\", classification_report(y_test, y_pred_adjusted))\n",
    "print(\"\\nMatriz de confusión:\\n\", confusion_matrix(y_test, y_pred_adjusted))\n",
    " \n",
    "model_performance['GridSearchCV'] = 0.59 "
   ]
  },
  {
   "cell_type": "code",
   "execution_count": null,
   "id": "edda862b-aef5-4a7d-918d-1796d11a70c3",
   "metadata": {},
   "outputs": [],
   "source": [
    "# Evaluar el modelo con el mejor umbral\n",
    "print(\"F1 Score:\", f1_score(y_test, y_pred_adjusted))\n",
    "print(\"\\nReporte de clasificación:\\n\", classification_report(y_test, y_pred_adjusted))\n",
    "print(\"\\nMatriz de confusión:\\n\", confusion_matrix(y_test, y_pred_adjusted))\n",
    " \n",
    "model_performance['GridSearchCV'] = 0.59 "
   ]
  },
  {
   "cell_type": "markdown",
   "id": "6241dac4-5370-4476-8324-cb1108b69289",
   "metadata": {},
   "source": [
    "# Método3: Ajustar Threshold"
   ]
  },
  {
   "cell_type": "code",
   "execution_count": 39,
   "id": "9b40d3b7-eed9-401a-876b-9b48847be6cf",
   "metadata": {},
   "outputs": [],
   "source": [
    "X = df.copy().drop(columns=[\"Accept\"])  # Características\n",
    "y = df.copy()[\"Accept\"]  # Variable objetivo (aceptación del crédito)"
   ]
  },
  {
   "cell_type": "code",
   "execution_count": 40,
   "id": "940333ab-a137-4dce-a7c7-c86cf20dfc76",
   "metadata": {},
   "outputs": [
    {
     "name": "stdout",
     "output_type": "stream",
     "text": [
      "0:\tlearn: 0.6508696\ttotal: 35.8ms\tremaining: 28.6s\n",
      "100:\tlearn: 0.7119981\ttotal: 1.98s\tremaining: 13.7s\n",
      "200:\tlearn: 0.7291928\ttotal: 3.83s\tremaining: 11.4s\n",
      "300:\tlearn: 0.7471888\ttotal: 5.69s\tremaining: 9.43s\n",
      "400:\tlearn: 0.7825331\ttotal: 8.64s\tremaining: 8.6s\n",
      "500:\tlearn: 0.8088609\ttotal: 11.9s\tremaining: 7.08s\n",
      "600:\tlearn: 0.8310706\ttotal: 15s\tremaining: 4.98s\n",
      "700:\tlearn: 0.8461685\ttotal: 18.2s\tremaining: 2.58s\n",
      "799:\tlearn: 0.8611293\ttotal: 21.5s\tremaining: 0us\n"
     ]
    }
   ],
   "source": [
    "# División en conjunto de test y entrenamiento\n",
    "X_train_th, X_test_th, y_train_th, y_test_th= train_test_split(X, y, test_size=0.2, random_state=42)\n",
    "model,y_test_th, y_pred_th = myCatBoost(X_train_th, X_test_th, y_train_th, y_test_th)"
   ]
  },
  {
   "cell_type": "code",
   "execution_count": 41,
   "id": "ca73877e-8876-457f-9629-aaa48900c840",
   "metadata": {},
   "outputs": [
    {
     "name": "stdout",
     "output_type": "stream",
     "text": [
      "Mejor threshold para clase 0: 0.46, F1: 0.5081\n"
     ]
    }
   ],
   "source": [
    "import numpy as np\n",
    "from sklearn.metrics import f1_score\n",
    "\n",
    "model = model1\n",
    "y_proba = model.predict_proba(X_test_th)[:, 1]\n",
    "\n",
    "# Probar varios umbrales\n",
    "thresholds = np.arange(0.1, 0.9, 0.001)\n",
    "f1_scores = []\n",
    "\n",
    "for t in thresholds:\n",
    "    y_pred_adj = (y_proba >= t).astype(int)\n",
    "    f1_scores.append(f1_score(y_test_th, y_pred_adj, pos_label=0))  # Importante: foco en clase 0\n",
    "\n",
    "# Mejor umbral\n",
    "best_idx = np.argmax(f1_scores)\n",
    "best_threshold = thresholds[best_idx]\n",
    "print(f\"Mejor threshold para clase 0: {best_threshold:.2f}, F1: {f1_scores[best_idx]:.4f}\")\n"
   ]
  },
  {
   "cell_type": "code",
   "execution_count": 42,
   "id": "826e6465-b9ad-4f1f-99df-ac0a81e2031f",
   "metadata": {},
   "outputs": [
    {
     "name": "stdout",
     "output_type": "stream",
     "text": [
      "F1 Score: 0.7913172175629009\n",
      "\n",
      "Reporte de clasificación:\n",
      "               precision    recall  f1-score   support\n",
      "\n",
      "           0       0.38      0.77      0.51       564\n",
      "           1       0.93      0.69      0.79      2323\n",
      "\n",
      "    accuracy                           0.71      2887\n",
      "   macro avg       0.65      0.73      0.65      2887\n",
      "weighted avg       0.82      0.71      0.74      2887\n",
      "\n",
      "\n",
      "Matriz de confusión:\n",
      " [[ 437  127]\n",
      " [ 719 1604]]\n"
     ]
    }
   ],
   "source": [
    "import numpy as np\n",
    "from sklearn.metrics import f1_score, classification_report, confusion_matrix\n",
    "\n",
    "# Supongamos que ya tienes el modelo entrenado y las probabilidades predichas (y_proba)\n",
    "# Si ya tienes el mejor umbral calculado, puedes usarlo aquí. Ejemplo: best_threshold = 0.41\n",
    "\n",
    "# Predicción de probabilidades (probabilidades de la clase 1)\n",
    "y_proba = model.predict_proba(X_test)[:, 1]\n",
    "\n",
    "# Aplicar el umbral\n",
    "y_pred_adjusted = (y_proba >= best_threshold).astype(int)  # Predicciones binarias con el umbral ajustado\n",
    "\n",
    "# Evaluación del modelo\n",
    "f1 = f1_score(y_test, y_pred_adjusted)\n",
    "print(\"F1 Score:\", f1)\n",
    "\n",
    "# Clasificación detallada\n",
    "print(\"\\nReporte de clasificación:\\n\", classification_report(y_test, y_pred_adjusted))\n",
    "\n",
    "# Matriz de confusión\n",
    "print(\"\\nMatriz de confusión:\\n\", confusion_matrix(y_test, y_pred_adjusted))\n"
   ]
  },
  {
   "cell_type": "code",
   "execution_count": 49,
   "id": "b51a1bec-f156-403b-9048-4d091effc2d3",
   "metadata": {},
   "outputs": [
    {
     "ename": "TypeError",
     "evalue": "list indices must be integers or slices, not str",
     "output_type": "error",
     "traceback": [
      "\u001b[0;31m---------------------------------------------------------------------------\u001b[0m",
      "\u001b[0;31mTypeError\u001b[0m                                 Traceback (most recent call last)",
      "Cell \u001b[0;32mIn[49], line 1\u001b[0m\n\u001b[0;32m----> 1\u001b[0m model_performance[\u001b[38;5;124m\"\u001b[39m\u001b[38;5;124mthreshold\u001b[39m\u001b[38;5;124m\"\u001b[39m] \u001b[38;5;241m=\u001b[39m \u001b[38;5;241m0.65\u001b[39m\n\u001b[1;32m      2\u001b[0m sorted_model_performance \u001b[38;5;241m=\u001b[39m \u001b[38;5;28mdict\u001b[39m(\u001b[38;5;28msorted\u001b[39m(model_performance\u001b[38;5;241m.\u001b[39mitems(), key\u001b[38;5;241m=\u001b[39m\u001b[38;5;28;01mlambda\u001b[39;00m item: item[\u001b[38;5;241m1\u001b[39m], reverse\u001b[38;5;241m=\u001b[39m\u001b[38;5;28;01mTrue\u001b[39;00m))\n\u001b[1;32m      3\u001b[0m sorted_model_performance\n",
      "\u001b[0;31mTypeError\u001b[0m: list indices must be integers or slices, not str"
     ]
    }
   ],
   "source": [
    "model_performance[\"threshold\"] = 0.65\n",
    "sorted_model_performance = dict(sorted(model_performance.items(), key=lambda item: item[1], reverse=True))\n",
    "sorted_model_performance\n"
   ]
  },
  {
   "cell_type": "code",
   "execution_count": null,
   "id": "a7d5dd6f-5229-467c-93c8-e4d4bbe8c732",
   "metadata": {},
   "outputs": [],
   "source": []
  }
 ],
 "metadata": {
  "kernelspec": {
   "display_name": "Python 3 (ipykernel)",
   "language": "python",
   "name": "python3"
  },
  "language_info": {
   "codemirror_mode": {
    "name": "ipython",
    "version": 3
   },
   "file_extension": ".py",
   "mimetype": "text/x-python",
   "name": "python",
   "nbconvert_exporter": "python",
   "pygments_lexer": "ipython3",
   "version": "3.11.7"
  }
 },
 "nbformat": 4,
 "nbformat_minor": 5
}
