{
 "cells": [
  {
   "cell_type": "code",
   "execution_count": 1,
   "id": "68b24105-b57a-4bc4-8198-6dba7f727880",
   "metadata": {},
   "outputs": [],
   "source": [
    "import pandas as pd\n",
    "import numpy as np\n",
    "import os\n",
    "import io\n",
    "import gzip"
   ]
  },
  {
   "cell_type": "code",
   "execution_count": 2,
   "id": "c194bd89-af88-41a9-a71d-604f9a9644c6",
   "metadata": {},
   "outputs": [
    {
     "data": {
      "text/html": [
       "<div>\n",
       "<style scoped>\n",
       "    .dataframe tbody tr th:only-of-type {\n",
       "        vertical-align: middle;\n",
       "    }\n",
       "\n",
       "    .dataframe tbody tr th {\n",
       "        vertical-align: top;\n",
       "    }\n",
       "\n",
       "    .dataframe thead th {\n",
       "        text-align: right;\n",
       "    }\n",
       "</style>\n",
       "<table border=\"1\" class=\"dataframe\">\n",
       "  <thead>\n",
       "    <tr style=\"text-align: right;\">\n",
       "      <th></th>\n",
       "      <th>id</th>\n",
       "      <th>LoanNr_ChkDgt</th>\n",
       "      <th>Name</th>\n",
       "      <th>City</th>\n",
       "      <th>State</th>\n",
       "      <th>Bank</th>\n",
       "      <th>BankState</th>\n",
       "      <th>ApprovalDate</th>\n",
       "      <th>ApprovalFY</th>\n",
       "      <th>NoEmp</th>\n",
       "      <th>...</th>\n",
       "      <th>CreateJob</th>\n",
       "      <th>RetainedJob</th>\n",
       "      <th>FranchiseCode</th>\n",
       "      <th>UrbanRural</th>\n",
       "      <th>RevLineCr</th>\n",
       "      <th>LowDoc</th>\n",
       "      <th>DisbursementDate</th>\n",
       "      <th>DisbursementGross</th>\n",
       "      <th>BalanceGross</th>\n",
       "      <th>Accept</th>\n",
       "    </tr>\n",
       "  </thead>\n",
       "  <tbody>\n",
       "    <tr>\n",
       "      <th>0</th>\n",
       "      <td>bd9d6267ec5</td>\n",
       "      <td>1523195006</td>\n",
       "      <td>P-SCAPE LAND DESIGN, LLC</td>\n",
       "      <td>NORTHFIELD</td>\n",
       "      <td>OH</td>\n",
       "      <td>CITIZENS BANK NATL ASSOC</td>\n",
       "      <td>RI</td>\n",
       "      <td>1-Nov-05</td>\n",
       "      <td>2006</td>\n",
       "      <td>2</td>\n",
       "      <td>...</td>\n",
       "      <td>0</td>\n",
       "      <td>2</td>\n",
       "      <td>0</td>\n",
       "      <td>1</td>\n",
       "      <td>N</td>\n",
       "      <td>N</td>\n",
       "      <td>31-Dec-05</td>\n",
       "      <td>$8,000.00</td>\n",
       "      <td>$0.00</td>\n",
       "      <td>1</td>\n",
       "    </tr>\n",
       "    <tr>\n",
       "      <th>1</th>\n",
       "      <td>9eebf6d8098</td>\n",
       "      <td>1326365010</td>\n",
       "      <td>The Fresh &amp; Healthy Catering C</td>\n",
       "      <td>CANTON</td>\n",
       "      <td>OH</td>\n",
       "      <td>FIRSTMERIT BANK, N.A.</td>\n",
       "      <td>OH</td>\n",
       "      <td>6-Jun-05</td>\n",
       "      <td>2005</td>\n",
       "      <td>2</td>\n",
       "      <td>...</td>\n",
       "      <td>1</td>\n",
       "      <td>2</td>\n",
       "      <td>1</td>\n",
       "      <td>1</td>\n",
       "      <td>N</td>\n",
       "      <td>N</td>\n",
       "      <td>31-Jul-05</td>\n",
       "      <td>$166,000.00</td>\n",
       "      <td>$0.00</td>\n",
       "      <td>1</td>\n",
       "    </tr>\n",
       "    <tr>\n",
       "      <th>2</th>\n",
       "      <td>83806858500</td>\n",
       "      <td>6179584001</td>\n",
       "      <td>AARON MASON &amp; HOWE LLC</td>\n",
       "      <td>SAWYERWOOD</td>\n",
       "      <td>OH</td>\n",
       "      <td>PNC BANK, NATIONAL ASSOCIATION</td>\n",
       "      <td>OH</td>\n",
       "      <td>18-Mar-03</td>\n",
       "      <td>2003</td>\n",
       "      <td>2</td>\n",
       "      <td>...</td>\n",
       "      <td>4</td>\n",
       "      <td>2</td>\n",
       "      <td>1</td>\n",
       "      <td>2</td>\n",
       "      <td>Y</td>\n",
       "      <td>N</td>\n",
       "      <td>31-Mar-03</td>\n",
       "      <td>$25,000.00</td>\n",
       "      <td>$0.00</td>\n",
       "      <td>1</td>\n",
       "    </tr>\n",
       "    <tr>\n",
       "      <th>3</th>\n",
       "      <td>a21ab9cb3af</td>\n",
       "      <td>8463493009</td>\n",
       "      <td>MID OHIO CAR WASH</td>\n",
       "      <td>COLUMBUS</td>\n",
       "      <td>OH</td>\n",
       "      <td>THE HUNTINGTON NATIONAL BANK</td>\n",
       "      <td>OH</td>\n",
       "      <td>28-Jun-95</td>\n",
       "      <td>1995</td>\n",
       "      <td>2</td>\n",
       "      <td>...</td>\n",
       "      <td>0</td>\n",
       "      <td>0</td>\n",
       "      <td>1</td>\n",
       "      <td>0</td>\n",
       "      <td>N</td>\n",
       "      <td>N</td>\n",
       "      <td>31-Jan-96</td>\n",
       "      <td>$220,100.00</td>\n",
       "      <td>$0.00</td>\n",
       "      <td>1</td>\n",
       "    </tr>\n",
       "    <tr>\n",
       "      <th>4</th>\n",
       "      <td>883b5e5385e</td>\n",
       "      <td>3382225007</td>\n",
       "      <td>Bake N Brew LLC</td>\n",
       "      <td>Newark</td>\n",
       "      <td>OH</td>\n",
       "      <td>THE HUNTINGTON NATIONAL BANK</td>\n",
       "      <td>OH</td>\n",
       "      <td>16-Apr-09</td>\n",
       "      <td>2009</td>\n",
       "      <td>0</td>\n",
       "      <td>...</td>\n",
       "      <td>0</td>\n",
       "      <td>0</td>\n",
       "      <td>0</td>\n",
       "      <td>1</td>\n",
       "      <td>N</td>\n",
       "      <td>N</td>\n",
       "      <td>31-May-09</td>\n",
       "      <td>$25,000.00</td>\n",
       "      <td>$0.00</td>\n",
       "      <td>0</td>\n",
       "    </tr>\n",
       "    <tr>\n",
       "      <th>...</th>\n",
       "      <td>...</td>\n",
       "      <td>...</td>\n",
       "      <td>...</td>\n",
       "      <td>...</td>\n",
       "      <td>...</td>\n",
       "      <td>...</td>\n",
       "      <td>...</td>\n",
       "      <td>...</td>\n",
       "      <td>...</td>\n",
       "      <td>...</td>\n",
       "      <td>...</td>\n",
       "      <td>...</td>\n",
       "      <td>...</td>\n",
       "      <td>...</td>\n",
       "      <td>...</td>\n",
       "      <td>...</td>\n",
       "      <td>...</td>\n",
       "      <td>...</td>\n",
       "      <td>...</td>\n",
       "      <td>...</td>\n",
       "      <td>...</td>\n",
       "    </tr>\n",
       "    <tr>\n",
       "      <th>22830</th>\n",
       "      <td>4f9443d2a46</td>\n",
       "      <td>1573725008</td>\n",
       "      <td>SIBILA RACE ENGINEERING, INC</td>\n",
       "      <td>MASSILLON</td>\n",
       "      <td>OH</td>\n",
       "      <td>CITIZENS BANK NATL ASSOC</td>\n",
       "      <td>RI</td>\n",
       "      <td>9-Dec-05</td>\n",
       "      <td>2006</td>\n",
       "      <td>1</td>\n",
       "      <td>...</td>\n",
       "      <td>0</td>\n",
       "      <td>1</td>\n",
       "      <td>0</td>\n",
       "      <td>1</td>\n",
       "      <td>N</td>\n",
       "      <td>N</td>\n",
       "      <td>31-Dec-05</td>\n",
       "      <td>$70,000.00</td>\n",
       "      <td>$0.00</td>\n",
       "      <td>1</td>\n",
       "    </tr>\n",
       "    <tr>\n",
       "      <th>22831</th>\n",
       "      <td>798db2753a7</td>\n",
       "      <td>2011184008</td>\n",
       "      <td>ENVIRO SHIELD POWER WASHING</td>\n",
       "      <td>SPRINGBORO</td>\n",
       "      <td>OH</td>\n",
       "      <td>PNC BANK, NATIONAL ASSOCIATION</td>\n",
       "      <td>OH</td>\n",
       "      <td>27-Apr-98</td>\n",
       "      <td>1998</td>\n",
       "      <td>2</td>\n",
       "      <td>...</td>\n",
       "      <td>0</td>\n",
       "      <td>0</td>\n",
       "      <td>1</td>\n",
       "      <td>0</td>\n",
       "      <td>N</td>\n",
       "      <td>Y</td>\n",
       "      <td>31-May-98</td>\n",
       "      <td>$30,000.00</td>\n",
       "      <td>$0.00</td>\n",
       "      <td>1</td>\n",
       "    </tr>\n",
       "    <tr>\n",
       "      <th>22832</th>\n",
       "      <td>ddb3c5e9bff</td>\n",
       "      <td>4082983001</td>\n",
       "      <td>MAINLINE TRCK&amp;TRAILR SRVC, INC</td>\n",
       "      <td>BEDFORD</td>\n",
       "      <td>OH</td>\n",
       "      <td>GROWTH CAPITAL CORP.</td>\n",
       "      <td>OH</td>\n",
       "      <td>9-May-90</td>\n",
       "      <td>1990</td>\n",
       "      <td>16</td>\n",
       "      <td>...</td>\n",
       "      <td>6</td>\n",
       "      <td>10</td>\n",
       "      <td>1</td>\n",
       "      <td>0</td>\n",
       "      <td>N</td>\n",
       "      <td>N</td>\n",
       "      <td>13-Feb-91</td>\n",
       "      <td>$92,000.00</td>\n",
       "      <td>$0.00</td>\n",
       "      <td>1</td>\n",
       "    </tr>\n",
       "    <tr>\n",
       "      <th>22833</th>\n",
       "      <td>407200a5dfe</td>\n",
       "      <td>7783283010</td>\n",
       "      <td>TIN BOX STUDIO</td>\n",
       "      <td>CINCINNATI</td>\n",
       "      <td>OH</td>\n",
       "      <td>KEYBANK NATIONAL ASSOCIATION</td>\n",
       "      <td>OH</td>\n",
       "      <td>10-Nov-94</td>\n",
       "      <td>1995</td>\n",
       "      <td>1</td>\n",
       "      <td>...</td>\n",
       "      <td>0</td>\n",
       "      <td>0</td>\n",
       "      <td>1</td>\n",
       "      <td>0</td>\n",
       "      <td>N</td>\n",
       "      <td>Y</td>\n",
       "      <td>31-Jan-95</td>\n",
       "      <td>$20,000.00</td>\n",
       "      <td>$0.00</td>\n",
       "      <td>1</td>\n",
       "    </tr>\n",
       "    <tr>\n",
       "      <th>22834</th>\n",
       "      <td>eaa66193392</td>\n",
       "      <td>1513375008</td>\n",
       "      <td>Lowex, Inc.</td>\n",
       "      <td>Dayton</td>\n",
       "      <td>OH</td>\n",
       "      <td>BUSINESS LOAN CENTER, LLC</td>\n",
       "      <td>FL</td>\n",
       "      <td>25-Oct-05</td>\n",
       "      <td>2006</td>\n",
       "      <td>2</td>\n",
       "      <td>...</td>\n",
       "      <td>1</td>\n",
       "      <td>2</td>\n",
       "      <td>0</td>\n",
       "      <td>1</td>\n",
       "      <td>N</td>\n",
       "      <td>N</td>\n",
       "      <td>30-Nov-05</td>\n",
       "      <td>$25,000.00</td>\n",
       "      <td>$0.00</td>\n",
       "      <td>0</td>\n",
       "    </tr>\n",
       "  </tbody>\n",
       "</table>\n",
       "<p>22835 rows × 21 columns</p>\n",
       "</div>"
      ],
      "text/plain": [
       "                id  LoanNr_ChkDgt                            Name        City  \\\n",
       "0      bd9d6267ec5     1523195006        P-SCAPE LAND DESIGN, LLC  NORTHFIELD   \n",
       "1      9eebf6d8098     1326365010  The Fresh & Healthy Catering C      CANTON   \n",
       "2      83806858500     6179584001          AARON MASON & HOWE LLC  SAWYERWOOD   \n",
       "3      a21ab9cb3af     8463493009               MID OHIO CAR WASH    COLUMBUS   \n",
       "4      883b5e5385e     3382225007                 Bake N Brew LLC      Newark   \n",
       "...            ...            ...                             ...         ...   \n",
       "22830  4f9443d2a46     1573725008    SIBILA RACE ENGINEERING, INC   MASSILLON   \n",
       "22831  798db2753a7     2011184008     ENVIRO SHIELD POWER WASHING  SPRINGBORO   \n",
       "22832  ddb3c5e9bff     4082983001  MAINLINE TRCK&TRAILR SRVC, INC     BEDFORD   \n",
       "22833  407200a5dfe     7783283010                  TIN BOX STUDIO  CINCINNATI   \n",
       "22834  eaa66193392     1513375008                     Lowex, Inc.      Dayton   \n",
       "\n",
       "      State                            Bank BankState ApprovalDate  \\\n",
       "0        OH        CITIZENS BANK NATL ASSOC        RI     1-Nov-05   \n",
       "1        OH           FIRSTMERIT BANK, N.A.        OH     6-Jun-05   \n",
       "2        OH  PNC BANK, NATIONAL ASSOCIATION        OH    18-Mar-03   \n",
       "3        OH    THE HUNTINGTON NATIONAL BANK        OH    28-Jun-95   \n",
       "4        OH    THE HUNTINGTON NATIONAL BANK        OH    16-Apr-09   \n",
       "...     ...                             ...       ...          ...   \n",
       "22830    OH        CITIZENS BANK NATL ASSOC        RI     9-Dec-05   \n",
       "22831    OH  PNC BANK, NATIONAL ASSOCIATION        OH    27-Apr-98   \n",
       "22832    OH            GROWTH CAPITAL CORP.        OH     9-May-90   \n",
       "22833    OH    KEYBANK NATIONAL ASSOCIATION        OH    10-Nov-94   \n",
       "22834    OH       BUSINESS LOAN CENTER, LLC        FL    25-Oct-05   \n",
       "\n",
       "       ApprovalFY  NoEmp  ...  CreateJob  RetainedJob  FranchiseCode  \\\n",
       "0            2006      2  ...          0            2              0   \n",
       "1            2005      2  ...          1            2              1   \n",
       "2            2003      2  ...          4            2              1   \n",
       "3            1995      2  ...          0            0              1   \n",
       "4            2009      0  ...          0            0              0   \n",
       "...           ...    ...  ...        ...          ...            ...   \n",
       "22830        2006      1  ...          0            1              0   \n",
       "22831        1998      2  ...          0            0              1   \n",
       "22832        1990     16  ...          6           10              1   \n",
       "22833        1995      1  ...          0            0              1   \n",
       "22834        2006      2  ...          1            2              0   \n",
       "\n",
       "       UrbanRural  RevLineCr LowDoc DisbursementDate DisbursementGross  \\\n",
       "0               1          N      N        31-Dec-05        $8,000.00    \n",
       "1               1          N      N        31-Jul-05      $166,000.00    \n",
       "2               2          Y      N        31-Mar-03       $25,000.00    \n",
       "3               0          N      N        31-Jan-96      $220,100.00    \n",
       "4               1          N      N        31-May-09       $25,000.00    \n",
       "...           ...        ...    ...              ...               ...   \n",
       "22830           1          N      N        31-Dec-05       $70,000.00    \n",
       "22831           0          N      Y        31-May-98       $30,000.00    \n",
       "22832           0          N      N        13-Feb-91       $92,000.00    \n",
       "22833           0          N      Y        31-Jan-95       $20,000.00    \n",
       "22834           1          N      N        30-Nov-05       $25,000.00    \n",
       "\n",
       "      BalanceGross Accept  \n",
       "0           $0.00       1  \n",
       "1           $0.00       1  \n",
       "2           $0.00       1  \n",
       "3           $0.00       1  \n",
       "4           $0.00       0  \n",
       "...            ...    ...  \n",
       "22830       $0.00       1  \n",
       "22831       $0.00       1  \n",
       "22832       $0.00       1  \n",
       "22833       $0.00       1  \n",
       "22834       $0.00       0  \n",
       "\n",
       "[22835 rows x 21 columns]"
      ]
     },
     "execution_count": 2,
     "metadata": {},
     "output_type": "execute_result"
    }
   ],
   "source": [
    "# Cargamos los conjuntos de datos disponibles en el enunciado y vemos los datos\n",
    "df = pd.read_csv('../../../data/raw/train.csv')\n",
    "df_test_nolabel = pd.read_csv('../../../data/raw/test_nolabel.csv')\n",
    "df_sample_submission= pd.read_csv('../../../data/raw/sample_submission.csv')\n",
    "df"
   ]
  },
  {
   "cell_type": "code",
   "execution_count": 3,
   "id": "8a4b10e3-905a-40e5-8e06-ec655abc81e3",
   "metadata": {},
   "outputs": [
    {
     "name": "stdout",
     "output_type": "stream",
     "text": [
      "<class 'pandas.core.frame.DataFrame'>\n",
      "RangeIndex: 22835 entries, 0 to 22834\n",
      "Data columns (total 20 columns):\n",
      " #   Column             Non-Null Count  Dtype  \n",
      "---  ------             --------------  -----  \n",
      " 0   id                 22835 non-null  object \n",
      " 1   LoanNr_ChkDgt      22835 non-null  int64  \n",
      " 2   Name               22834 non-null  object \n",
      " 3   City               22834 non-null  object \n",
      " 4   Bank               22813 non-null  object \n",
      " 5   BankState          22813 non-null  object \n",
      " 6   ApprovalDate       22835 non-null  object \n",
      " 7   ApprovalFY         22835 non-null  int64  \n",
      " 8   NoEmp              22835 non-null  int64  \n",
      " 9   NewExist           22833 non-null  float64\n",
      " 10  CreateJob          22835 non-null  int64  \n",
      " 11  RetainedJob        22835 non-null  int64  \n",
      " 12  FranchiseCode      22835 non-null  int64  \n",
      " 13  UrbanRural         22835 non-null  int64  \n",
      " 14  RevLineCr          22744 non-null  object \n",
      " 15  LowDoc             22792 non-null  object \n",
      " 16  DisbursementDate   22774 non-null  object \n",
      " 17  DisbursementGross  22835 non-null  object \n",
      " 18  BalanceGross       22835 non-null  object \n",
      " 19  Accept             22835 non-null  int64  \n",
      "dtypes: float64(1), int64(8), object(11)\n",
      "memory usage: 3.5+ MB\n"
     ]
    }
   ],
   "source": [
    "# Comprobamos que los datos son únicos y eliminamos las columnas no relevantes\n",
    "df_train = df.copy()\n",
    "df_train.drop(columns=['State'], inplace=True)\n",
    "# df_train.columns.tolist()\n",
    "df_train.info()"
   ]
  },
  {
   "cell_type": "markdown",
   "id": "d3153004-60ee-45fc-8b83-6abf5e55e7f3",
   "metadata": {},
   "source": [
    "Para cada variable, explorar: \n",
    "- Tipo de datos\n",
    "- Valores nulos\n",
    "- Valores únicos\n",
    "- Outliers"
   ]
  },
  {
   "cell_type": "markdown",
   "id": "08e311cd-16c7-434f-bafc-df7ee0f6467b",
   "metadata": {},
   "source": [
    "## Ciudad - \"City\""
   ]
  },
  {
   "cell_type": "code",
   "execution_count": 4,
   "id": "1edd63a6-44aa-49d4-9a99-4738a1f03993",
   "metadata": {},
   "outputs": [
    {
     "data": {
      "text/plain": [
       "1678"
      ]
     },
     "execution_count": 4,
     "metadata": {},
     "output_type": "execute_result"
    }
   ],
   "source": [
    "# Ciudad - Valores unicos\n",
    "df[\"City\"].nunique() # 1678"
   ]
  },
  {
   "cell_type": "code",
   "execution_count": 5,
   "id": "b4377b7e-31f6-489a-ab86-122c41230a3d",
   "metadata": {},
   "outputs": [],
   "source": [
    "df[\"City\"].isnull().sum() # Un valor nulo - eliminar\n",
    "# Eliminar filas con valores nulos\n",
    "df_train = df_train.dropna(subset=[\"City\"])"
   ]
  },
  {
   "cell_type": "code",
   "execution_count": 6,
   "id": "dab63a95-f7ea-440b-a38a-7967fccf1c81",
   "metadata": {},
   "outputs": [
    {
     "data": {
      "text/plain": [
       "1207"
      ]
     },
     "execution_count": 6,
     "metadata": {},
     "output_type": "execute_result"
    }
   ],
   "source": [
    "# Convertir la columna 'City' a mayúsculas y ver duplicados\n",
    "df_train[\"City\"] = df_train[\"City\"].str.upper()\n",
    "df_train[\"City\"].nunique() "
   ]
  },
  {
   "cell_type": "code",
   "execution_count": 7,
   "id": "8efd482d-526a-4850-ac89-60d41b429354",
   "metadata": {},
   "outputs": [],
   "source": [
    "# Filas con números\n",
    "df_train[df_train[\"City\"].str.contains(r\"\\d\", regex=True, na=False)] # 3 filas - eliminar\n",
    "df_train = df_train[~df_train[\"City\"].str.contains(r\"\\d\", regex=True, na=False)]"
   ]
  },
  {
   "cell_type": "code",
   "execution_count": 8,
   "id": "96e00bec-ebdf-4faf-b504-34f2e382f842",
   "metadata": {},
   "outputs": [
    {
     "data": {
      "text/plain": [
       "1204"
      ]
     },
     "execution_count": 8,
     "metadata": {},
     "output_type": "execute_result"
    }
   ],
   "source": [
    "df_train[\"City\"].nunique() # 1204"
   ]
  },
  {
   "cell_type": "code",
   "execution_count": 9,
   "id": "d81c3612-10c9-4b50-8b2d-bb9147f7a975",
   "metadata": {},
   "outputs": [
    {
     "data": {
      "text/plain": [
       "1181"
      ]
     },
     "execution_count": 9,
     "metadata": {},
     "output_type": "execute_result"
    }
   ],
   "source": [
    "# Detectar valores que contienen texto entre paréntesis (permitiendo espacios)\n",
    "ciudades_con_texto_parentesis = df_train[df_train[\"City\"].str.contains(r\" \\(.*\\)\", regex=True, na=False)]\n",
    "# print(ciudades_con_texto_parentesis[\"City\"])\n",
    "\n",
    "ciudades_con_texto_parentesis = ciudades_con_texto_parentesis[\"City\"].str.replace(r\" \\(.*\", \"\", regex=True).str.strip()\n",
    "# print(ciudades_con_texto_parentesis.unique())\n",
    "df_train[\"City\"] = df_train[\"City\"].str.replace(r\" \\(.*\", \"\", regex=True).str.strip()\n",
    "df_train[\"City\"].nunique() #1181"
   ]
  },
  {
   "cell_type": "code",
   "execution_count": 10,
   "id": "68768f90-49f6-4c76-bb32-21d95b4bc86f",
   "metadata": {},
   "outputs": [
    {
     "data": {
      "text/plain": [
       "1174"
      ]
     },
     "execution_count": 10,
     "metadata": {},
     "output_type": "execute_result"
    }
   ],
   "source": [
    "# Filtrar filas donde 'City' contiene una coma\n",
    "ciudades_con_comas = df_train[df_train[\"City\"].str.contains(\",\", regex=False, na=False)]\n",
    "# Eliminar las filas con comas al final\n",
    "df_train[\"City\"] = df_train[\"City\"].str.replace(r\",$\", \"\", regex=True).str.strip()\n",
    "# Filtrar filas donde 'City' contiene una coma\n",
    "ciudades_con_comas = df_train[df_train[\"City\"].str.contains(\",\", regex=False, na=False)]\n",
    "ciudades_con_comas # queda uno\n",
    "df_train[\"City\"].nunique() #1174"
   ]
  },
  {
   "cell_type": "markdown",
   "id": "cc4ac100-b328-4f25-9327-eacfe4d60b2b",
   "metadata": {},
   "source": [
    "### Conclusión:\n",
    "\n",
    "La columna \"City\" contenía valores con diversos formatos y caracteres especiales, que dificultaban la agrupación. Se ha disminuido el número de categorías en la característica \"City\" para facilitar el entrenamiento y determinar si es relevante agrupar por ciudad. "
   ]
  },
  {
   "cell_type": "code",
   "execution_count": 11,
   "id": "bcd1dcec-916b-4050-8a12-dfd7b68e5b5a",
   "metadata": {},
   "outputs": [
    {
     "name": "stdout",
     "output_type": "stream",
     "text": [
      "0.25      1.00\n",
      "0.50      3.00\n",
      "0.75     10.00\n",
      "0.90     40.00\n",
      "0.95     79.00\n",
      "0.99    166.16\n",
      "Name: count, dtype: float64\n"
     ]
    }
   ],
   "source": [
    "# AYUDAR PARA AGRUPAR POR CIUDADES (p.e. top 20)\n",
    "\n",
    "df_train.shape[0] # 22835 filas iniciales - se han formateado datos, no eliminado.# Obtener frecuencias de ciudades\n",
    "frecuencia_ciudades = df_train[\"City\"].value_counts()\n",
    "\n",
    "# Calcular percentiles específicos\n",
    "percentiles = frecuencia_ciudades.quantile([0.25, 0.5, 0.75, 0.9, 0.95, 0.99])\n",
    "\n",
    "# Mostrar los percentiles\n",
    "print(percentiles)"
   ]
  },
  {
   "cell_type": "markdown",
   "id": "301dcc47-0ab2-4e61-9b22-2a5f6e087702",
   "metadata": {},
   "source": [
    "## Bank"
   ]
  },
  {
   "cell_type": "code",
   "execution_count": 12,
   "id": "322d6aaa-2dc3-47dc-8aa0-5371286b7f5f",
   "metadata": {},
   "outputs": [
    {
     "data": {
      "text/plain": [
       "286"
      ]
     },
     "execution_count": 12,
     "metadata": {},
     "output_type": "execute_result"
    }
   ],
   "source": [
    "# Bank - Valores unicos\n",
    "df[\"Bank\"].nunique() # 286"
   ]
  },
  {
   "cell_type": "code",
   "execution_count": 13,
   "id": "1f143900-34f2-4ea5-83b5-842e916486c5",
   "metadata": {},
   "outputs": [
    {
     "data": {
      "text/plain": [
       "286"
      ]
     },
     "execution_count": 13,
     "metadata": {},
     "output_type": "execute_result"
    }
   ],
   "source": [
    "df_train[\"Bank\"] = df_train[\"Bank\"].str.upper() # no hay texto en minúsculas\n",
    "df_train[\"Bank\"].nunique() "
   ]
  },
  {
   "cell_type": "code",
   "execution_count": 14,
   "id": "8513441a-a6bd-4941-8f2c-1a6928d2ae21",
   "metadata": {
    "scrolled": true
   },
   "outputs": [
    {
     "data": {
      "text/plain": [
       "22809"
      ]
     },
     "execution_count": 14,
     "metadata": {},
     "output_type": "execute_result"
    }
   ],
   "source": [
    "df[\"Bank\"].isnull().sum() # 22 - eliminar\n",
    "# Eliminar filas con valores nulos\n",
    "df_train = df_train.dropna(subset=[\"Bank\"])\n",
    "df_train.shape[0]"
   ]
  },
  {
   "cell_type": "code",
   "execution_count": 15,
   "id": "2ee706a0-2a28-436c-8652-d222aae66872",
   "metadata": {},
   "outputs": [
    {
     "data": {
      "text/plain": [
       "Bank\n",
       "THE HUNTINGTON NATIONAL BANK      4261\n",
       "PNC BANK, NATIONAL ASSOCIATION    2901\n",
       "JPMORGAN CHASE BANK NATL ASSOC    2706\n",
       "CITIZENS BANK NATL ASSOC          1734\n",
       "U.S. BANK NATIONAL ASSOCIATION    1416\n",
       "                                  ... \n",
       "PORTAGEBANC SHARES, INC              1\n",
       "UNITY BANK                           1\n",
       "THE KILLBUCK SAVINGS BANK CO.        1\n",
       "THE HOCKING VALLEY BANK              1\n",
       "CITIZENS BANK OF PENNSYLVANIA        1\n",
       "Name: count, Length: 286, dtype: int64"
      ]
     },
     "execution_count": 15,
     "metadata": {},
     "output_type": "execute_result"
    }
   ],
   "source": [
    "df_train[\"Bank\"].value_counts()"
   ]
  },
  {
   "cell_type": "markdown",
   "id": "6dde6faa-5139-4eb2-ae27-d01c91e6fc5c",
   "metadata": {},
   "source": [
    "### Conclusión Bank\n",
    "No parece muy relevante. Variable categórica con 286 valores, posible agrupación p.e. top 10 de bancos o nueva variable \"tamaño del banco\""
   ]
  },
  {
   "cell_type": "markdown",
   "id": "e6f605f3-91db-4ad7-b35b-c8f109a759dc",
   "metadata": {},
   "source": [
    "## BankState"
   ]
  },
  {
   "cell_type": "code",
   "execution_count": 16,
   "id": "f55af13e-1a92-4b61-8eca-247efc2d9bd6",
   "metadata": {},
   "outputs": [
    {
     "data": {
      "text/plain": [
       "41"
      ]
     },
     "execution_count": 16,
     "metadata": {},
     "output_type": "execute_result"
    }
   ],
   "source": [
    "# Bank - Valores unicos\n",
    "df_train[\"BankState\"].nunique()"
   ]
  },
  {
   "cell_type": "code",
   "execution_count": 17,
   "id": "32deeb9f-2897-4646-8791-ccba8909994d",
   "metadata": {},
   "outputs": [
    {
     "data": {
      "text/plain": [
       "0"
      ]
     },
     "execution_count": 17,
     "metadata": {},
     "output_type": "execute_result"
    }
   ],
   "source": [
    "df_train[\"BankState\"].isnull().sum()"
   ]
  },
  {
   "cell_type": "code",
   "execution_count": 18,
   "id": "de1e5b52-dbf9-4e0b-b322-c959fecd7b51",
   "metadata": {
    "scrolled": true
   },
   "outputs": [],
   "source": [
    "# Detectar valores en 'BankState' que tienen más de dos letras (no son abreviaturas de estado válidas)\n",
    "bankstate_largo = df_train[df_train[\"BankState\"].str.len() > 2][\"BankState\"].unique()"
   ]
  },
  {
   "cell_type": "code",
   "execution_count": 21,
   "id": "ef758520-54c5-446e-a17a-8df8eaf7a6c9",
   "metadata": {},
   "outputs": [
    {
     "data": {
      "text/plain": [
       "BankState\n",
       "OH    14872\n",
       "IL     2659\n",
       "RI     1739\n",
       "DE     1328\n",
       "VA      502\n",
       "CA      358\n",
       "IN      246\n",
       "SD      228\n",
       "PA      126\n",
       "TX      106\n",
       "WV       68\n",
       "SC       65\n",
       "OR       64\n",
       "KY       57\n",
       "FL       55\n",
       "CT       52\n",
       "MI       46\n",
       "NY       46\n",
       "NC       44\n",
       "MN       37\n",
       "KS       29\n",
       "TN       20\n",
       "UT       11\n",
       "NV       10\n",
       "DC        7\n",
       "WA        6\n",
       "MO        6\n",
       "CO        4\n",
       "NJ        3\n",
       "OK        2\n",
       "GA        2\n",
       "ID        2\n",
       "ME        1\n",
       "AZ        1\n",
       "IA        1\n",
       "MD        1\n",
       "NE        1\n",
       "AL        1\n",
       "WI        1\n",
       "WY        1\n",
       "NM        1\n",
       "Name: count, dtype: int64"
      ]
     },
     "execution_count": 21,
     "metadata": {},
     "output_type": "execute_result"
    }
   ],
   "source": [
    "# Obtener los 10 estados más frecuentes\n",
    "frec_bankstates= df_train[\"BankState\"].value_counts()\n",
    "frec_bankstates"
   ]
  },
  {
   "cell_type": "markdown",
   "id": "4ed7af17-fe14-4a3b-aa81-8b422bca9375",
   "metadata": {},
   "source": [
    "### Conclusión\n",
    "\n",
    "Variable candidata a hacer agrupaciones que puedan ser relevantes. Categorías \"reducidas\" bien formateada, prácticamente sin elementos nulos. Ver la distribución de Accept en funcion de BankState"
   ]
  },
  {
   "cell_type": "code",
   "execution_count": null,
   "id": "3f9e0f80-07b6-43f4-99c2-399d2b6b2fbc",
   "metadata": {},
   "outputs": [],
   "source": []
  }
 ],
 "metadata": {
  "kernelspec": {
   "display_name": "Python 3 (ipykernel)",
   "language": "python",
   "name": "python3"
  },
  "language_info": {
   "codemirror_mode": {
    "name": "ipython",
    "version": 3
   },
   "file_extension": ".py",
   "mimetype": "text/x-python",
   "name": "python",
   "nbconvert_exporter": "python",
   "pygments_lexer": "ipython3",
   "version": "3.11.7"
  }
 },
 "nbformat": 4,
 "nbformat_minor": 5
}
