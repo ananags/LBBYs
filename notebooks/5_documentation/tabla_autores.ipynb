{
 "cells": [
  {
   "cell_type": "markdown",
   "metadata": {},
   "source": [
    "# Tabla de autoría de notebooks\n"
   ]
  },
  {
   "cell_type": "markdown",
   "metadata": {
    "vscode": {
     "languageId": "plaintext"
    }
   },
   "source": [
    "**Descripción:**  \n",
    "Este notebook contiene una tabla que identifica qué miembros del equipo han participado en la elaboración de cada uno de los notebooks desarrollados durante la competición. \n",
    "\n",
    "Cada fila representa un notebook, y cada columna corresponde a un miembro del equipo. La marca **\"X\"** indica que el miembro ha contribuido significativamente a ese notebook."
   ]
  },
  {
   "cell_type": "markdown",
   "metadata": {},
   "source": [
    "| Notebook                                   | Dayrin | Ángel | Sofía | Ana | Inés | Andrea |\n",
    "|--------------------------------------------|-----|------|-------|--------|------|-------|\n",
    "| 1_analisis.ipynb                           |   X |      |       |        |   X  |       |\n",
    "| 2_preprocesado.ipynb                       |     |  X   |       |        |      |       |\n",
    "| 2_preproceso_v2_test.ipynb                 |     |      |       |        |  X   |       |\n",
    "| 2_preproceso_v2.ipynb                      |     |      |       |        |   X  |       |\n",
    "| Regresion_logistica_.ipynb                 |     |      |   X   |        |      |       |\n",
    "| RL_hipótesis.ipynb                         |     |      |   X   |        |      |       |\n",
    "| SVM.ipynb                                  |     |      |       |        |  X   |       |\n",
    "| 1_CatBoost_Balanceado.ipynb                |     |      |       |        |      |   X   |\n",
    "| 1_CatBoost_Simple.ipynb                    |     |      |       |        |      |   X   |\n",
    "| 1_CatBoost_SMOTE.ipynb                     |     |      |       |        |      |   X   |\n",
    "| 2_Training_RandomForest.ipynb              |     |   X   |      |        |      |       |\n",
    "| Prueba_optimizacion_CatBoost_XGBoost.ipynb |     |      |       |   X    |      |       |\n",
    "| gaussianNB.ipynb                           |     |      |       |   X    |      |       |\n",
    "| CNN.ipynb                                  |  X   |      |       |        |      |       |\n",
    "| MLP.ipynb                                  |   X  |      |       |        |      |       |\n",
    "| tabnet.ipynb                               |   X  |      |       |        |      |       |\n"
   ]
  },
  {
   "cell_type": "markdown",
   "metadata": {},
   "source": [
    "# "
   ]
  }
 ],
 "metadata": {
  "language_info": {
   "name": "python"
  }
 },
 "nbformat": 4,
 "nbformat_minor": 2
}
