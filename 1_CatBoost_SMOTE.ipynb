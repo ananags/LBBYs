{
 "cells": [
  {
   "cell_type": "code",
   "execution_count": 1,
   "id": "a52fc15a-741b-43ef-9ba7-f4b6a9aac50e",
   "metadata": {},
   "outputs": [],
   "source": [
    "import datetime\n",
    "import pandas as pd\n",
    "from catboost import CatBoostClassifier, Pool\n",
    "from sklearn.model_selection import train_test_split\n",
    "from sklearn.metrics import f1_score, classification_report, confusion_matrix\n",
    "from sklearn.preprocessing import LabelEncoder\n",
    "from imblearn.over_sampling import SMOTE\n"
   ]
  },
  {
   "cell_type": "code",
   "execution_count": 2,
   "id": "06aa9c63-c2c9-4e8a-bbe8-ae1405bb8f29",
   "metadata": {
    "scrolled": true
   },
   "outputs": [
    {
     "data": {
      "text/plain": [
       "Accept\n",
       "1    11508\n",
       "0     2926\n",
       "Name: count, dtype: int64"
      ]
     },
     "execution_count": 2,
     "metadata": {},
     "output_type": "execute_result"
    }
   ],
   "source": [
    "# Cargar el dataset y preprocesar\n",
    "df = pd.read_csv('../../../data/processed/train_processed.csv')\n",
    "# Distribución de la clase objetivo en dataframe original\n",
    "df[\"Accept\"].value_counts()"
   ]
  },
  {
   "cell_type": "markdown",
   "id": "a1f8705d-728b-47b0-9278-191eaa5c6207",
   "metadata": {},
   "source": [
    "# Ingeniería de características\n",
    "\n",
    "Bajo las mismas premisas que en el notebook [1_CatBoost_Balanceado](notebooks/3_modelado/3.2_modelos_de_arboles/1_CatBoost_Balanceado.ipynb), y tras los resultados obtenidos en la observación de importancia de variables, se imputa la variable `JobCombo`:"
   ]
  },
  {
   "cell_type": "code",
   "execution_count": 3,
   "id": "6788067c-6904-42be-8dc4-1e4e5010ae09",
   "metadata": {},
   "outputs": [
    {
     "data": {
      "text/html": [
       "<div>\n",
       "<style scoped>\n",
       "    .dataframe tbody tr th:only-of-type {\n",
       "        vertical-align: middle;\n",
       "    }\n",
       "\n",
       "    .dataframe tbody tr th {\n",
       "        vertical-align: top;\n",
       "    }\n",
       "\n",
       "    .dataframe thead th {\n",
       "        text-align: right;\n",
       "    }\n",
       "</style>\n",
       "<table border=\"1\" class=\"dataframe\">\n",
       "  <thead>\n",
       "    <tr style=\"text-align: right;\">\n",
       "      <th>Accept</th>\n",
       "      <th>0</th>\n",
       "      <th>1</th>\n",
       "    </tr>\n",
       "    <tr>\n",
       "      <th>JobCombo</th>\n",
       "      <th></th>\n",
       "      <th></th>\n",
       "    </tr>\n",
       "  </thead>\n",
       "  <tbody>\n",
       "    <tr>\n",
       "      <th>0_0</th>\n",
       "      <td>0.174546</td>\n",
       "      <td>0.825454</td>\n",
       "    </tr>\n",
       "    <tr>\n",
       "      <th>0_1</th>\n",
       "      <td>0.251936</td>\n",
       "      <td>0.748064</td>\n",
       "    </tr>\n",
       "    <tr>\n",
       "      <th>1_0</th>\n",
       "      <td>0.100073</td>\n",
       "      <td>0.899927</td>\n",
       "    </tr>\n",
       "    <tr>\n",
       "      <th>1_1</th>\n",
       "      <td>0.233402</td>\n",
       "      <td>0.766598</td>\n",
       "    </tr>\n",
       "  </tbody>\n",
       "</table>\n",
       "</div>"
      ],
      "text/plain": [
       "Accept           0         1\n",
       "JobCombo                    \n",
       "0_0       0.174546  0.825454\n",
       "0_1       0.251936  0.748064\n",
       "1_0       0.100073  0.899927\n",
       "1_1       0.233402  0.766598"
      ]
     },
     "execution_count": 3,
     "metadata": {},
     "output_type": "execute_result"
    }
   ],
   "source": [
    "# Creamos la nueva variable, eliminamos las anteriores y observamos la distribucción de la variable objetivo\n",
    "df[\"JobCombo\"] = df[\"CreateJobBinary\"].astype(str) + \"_\" + df[\"RetainedJobBinary\"].astype(str)\n",
    "pd.crosstab(df[\"JobCombo\"], df[\"Accept\"], normalize='index')"
   ]
  },
  {
   "cell_type": "markdown",
   "id": "56a71fb6-31ba-45eb-a634-e6e3e120bbbf",
   "metadata": {},
   "source": [
    "Se observa una importancia clara de la variable `ApprovalFYGrouped` y, tras observar la distribución de la variable objetivo en función de la misma, se valora la posibilidad de aumentar la interpretabilidad del modelo aportando una clase con un número menor de categorías. Sin embargo, finalmente no se incorpora por no aportar mejoras significativas"
   ]
  },
  {
   "cell_type": "code",
   "execution_count": 4,
   "id": "8e020899-4597-4be2-93ba-3708191e0b2b",
   "metadata": {},
   "outputs": [
    {
     "data": {
      "text/plain": [
       "'\\napproval_ratio.plot(kind=\\'bar\\', stacked=True, figsize=(10, 6), colormap=\\'Set2\\')\\nplt.title(\"Proporción de aceptaciones por ApprovalFYGrouped\")\\nplt.ylabel(\"Proporción\")\\nplt.xlabel(\"Año fiscal agrupado\")\\nplt.xticks(rotation=45)\\nplt.legend([\"Rechazado (0)\", \"Aceptado (1)\"], title=\"Accept\")\\nplt.grid(True)\\nplt.tight_layout()\\nplt.show()\\n\\n'"
      ]
     },
     "execution_count": 4,
     "metadata": {},
     "output_type": "execute_result"
    }
   ],
   "source": [
    "approval_ratio = pd.crosstab(df['ApprovalFYGrouped'], df['Accept'], normalize='index')\n",
    "\"\"\"\n",
    "approval_ratio.plot(kind='bar', stacked=True, figsize=(10, 6), colormap='Set2')\n",
    "plt.title(\"Proporción de aceptaciones por ApprovalFYGrouped\")\n",
    "plt.ylabel(\"Proporción\")\n",
    "plt.xlabel(\"Año fiscal agrupado\")\n",
    "plt.xticks(rotation=45)\n",
    "plt.legend([\"Rechazado (0)\", \"Aceptado (1)\"], title=\"Accept\")\n",
    "plt.grid(True)\n",
    "plt.tight_layout()\n",
    "plt.show()\n",
    "\n",
    "\"\"\""
   ]
  },
  {
   "cell_type": "code",
   "execution_count": 5,
   "id": "1a1e9699-c592-432b-9a03-4f53fb10b52f",
   "metadata": {},
   "outputs": [],
   "source": [
    "def map_approval_year_group(year):\n",
    "    if year <= 1989:\n",
    "        return \"pre_1990\"\n",
    "    elif year <= 1995:\n",
    "        return \"early_90s\"\n",
    "    elif year <= 2004:\n",
    "        return \"growth_era\"\n",
    "    elif year <= 2008:\n",
    "        return \"crisis_peak\"\n",
    "    else:\n",
    "        return \"recovery_period\"\n",
    "\n",
    "# Aplicar al DataFrame\n",
    "#df[\"ApprovalFYBin\"] = df[\"ApprovalFYGrouped\"].apply(map_approval_year_group)\n",
    "#pd.crosstab(df[\"ApprovalFYBin\"], df[\"Accept\"], normalize='index')\n"
   ]
  },
  {
   "cell_type": "markdown",
   "id": "827d4d8f-dfac-4244-add8-a18166a0c3d7",
   "metadata": {},
   "source": [
    "# Preparación de los datos "
   ]
  },
  {
   "cell_type": "markdown",
   "id": "a9eff487-a100-4ee6-b916-7be550955479",
   "metadata": {},
   "source": [
    "En este caso, el balanceo del dataset se realiza mediante SMOTE, una técnica de *oversampling* que consiste en imputar registros sintéticos de la clase minoritaria para conseguir un dataset balanceado. Para ello, es necesario realizar un preprocesamiento ligeramente distinto, debido a que SMOTE no maneja variables categóricas. Durante el proceso, se crea la función `lable_encode_dataframe`que permite la codificación en variables numéricas de los datos.\n",
    "\n",
    "## Selección de categorías y limpieza del dataset"
   ]
  },
  {
   "cell_type": "code",
   "execution_count": 6,
   "id": "6ebbfcf1-ecf0-436f-9926-43d95559c1f3",
   "metadata": {},
   "outputs": [],
   "source": [
    "# Selección de las variables categóricas a evaluar\n",
    "cat_features = [\n",
    "    #'City', \n",
    "    #'CityBankGrouped',\n",
    "    #'CityGrouped',\n",
    "    #'BankState', \n",
    "    'BankStateInOhio',\n",
    "    'UrbanRural',\n",
    "    #'NoEmp', \n",
    "    #'NoEmpGrouped',\n",
    "    #'CreateJob',\n",
    "    #'CreateJobBinary',\n",
    "    #'RetainedJob',\n",
    "    #'RetainedJobBinary',\n",
    "    #'NewExist', \n",
    "    #'RevLineCr',\n",
    "    #'LowDoc',\n",
    "    #'Accept',\n",
    "    #'ApprovalDateMonth',\n",
    "    'ApprovalFYGrouped',\n",
    "    #'IsFranchise',\n",
    "    'DisbursementGrossGrouped',\n",
    "    'JobCombo',\n",
    "    #'ApprovalFYBin'\n",
    "]\n",
    "#drop_columns = [\"Accept\"]\n",
    "drop_columns = [\"Accept\",\"CreateJobBinary\",\"RetainedJobBinary\",\"IsFranchise\",\"NoEmpGrouped\",\"ApprovalDateMonth\",\"LowDoc\",\"NewExist\",\"RevLineCr\"]"
   ]
  },
  {
   "cell_type": "markdown",
   "id": "27aae329-325c-4dad-87a0-1f19eaed33ca",
   "metadata": {},
   "source": [
    "Se eliminan las variables que no se van a usar y se aisla la variable objetivo"
   ]
  },
  {
   "cell_type": "code",
   "execution_count": 7,
   "id": "1c016e14-eada-4b57-9339-440a4708c102",
   "metadata": {},
   "outputs": [
    {
     "name": "stdout",
     "output_type": "stream",
     "text": [
      "X shape: (14434, 5)\n",
      "y distribution:\n",
      "Accept\n",
      "1    11508\n",
      "0     2926\n",
      "Name: count, dtype: int64\n"
     ]
    },
    {
     "data": {
      "text/html": [
       "<div>\n",
       "<style scoped>\n",
       "    .dataframe tbody tr th:only-of-type {\n",
       "        vertical-align: middle;\n",
       "    }\n",
       "\n",
       "    .dataframe tbody tr th {\n",
       "        vertical-align: top;\n",
       "    }\n",
       "\n",
       "    .dataframe thead th {\n",
       "        text-align: right;\n",
       "    }\n",
       "</style>\n",
       "<table border=\"1\" class=\"dataframe\">\n",
       "  <thead>\n",
       "    <tr style=\"text-align: right;\">\n",
       "      <th></th>\n",
       "      <th>UrbanRural</th>\n",
       "      <th>BankStateInOhio</th>\n",
       "      <th>ApprovalFYGrouped</th>\n",
       "      <th>DisbursementGrossGrouped</th>\n",
       "      <th>JobCombo</th>\n",
       "    </tr>\n",
       "  </thead>\n",
       "  <tbody>\n",
       "    <tr>\n",
       "      <th>0</th>\n",
       "      <td>1</td>\n",
       "      <td>0</td>\n",
       "      <td>2006</td>\n",
       "      <td>0</td>\n",
       "      <td>0_1</td>\n",
       "    </tr>\n",
       "    <tr>\n",
       "      <th>1</th>\n",
       "      <td>1</td>\n",
       "      <td>1</td>\n",
       "      <td>2005</td>\n",
       "      <td>1</td>\n",
       "      <td>1_1</td>\n",
       "    </tr>\n",
       "    <tr>\n",
       "      <th>2</th>\n",
       "      <td>2</td>\n",
       "      <td>1</td>\n",
       "      <td>2003</td>\n",
       "      <td>0</td>\n",
       "      <td>1_1</td>\n",
       "    </tr>\n",
       "    <tr>\n",
       "      <th>3</th>\n",
       "      <td>0</td>\n",
       "      <td>1</td>\n",
       "      <td>1995</td>\n",
       "      <td>1</td>\n",
       "      <td>0_0</td>\n",
       "    </tr>\n",
       "    <tr>\n",
       "      <th>4</th>\n",
       "      <td>1</td>\n",
       "      <td>1</td>\n",
       "      <td>2009</td>\n",
       "      <td>0</td>\n",
       "      <td>0_0</td>\n",
       "    </tr>\n",
       "  </tbody>\n",
       "</table>\n",
       "</div>"
      ],
      "text/plain": [
       "   UrbanRural  BankStateInOhio  ApprovalFYGrouped  DisbursementGrossGrouped  \\\n",
       "0           1                0               2006                         0   \n",
       "1           1                1               2005                         1   \n",
       "2           2                1               2003                         0   \n",
       "3           0                1               1995                         1   \n",
       "4           1                1               2009                         0   \n",
       "\n",
       "  JobCombo  \n",
       "0      0_1  \n",
       "1      1_1  \n",
       "2      1_1  \n",
       "3      0_0  \n",
       "4      0_0  "
      ]
     },
     "execution_count": 7,
     "metadata": {},
     "output_type": "execute_result"
    }
   ],
   "source": [
    "X = df.copy().drop(columns=drop_columns)\n",
    "y = df[\"Accept\"]\n",
    "\n",
    "print(\"X shape:\", X.shape)\n",
    "print(\"y distribution:\")\n",
    "print(y.value_counts())\n",
    "\n",
    "X.head(5)"
   ]
  },
  {
   "cell_type": "markdown",
   "id": "6638e44a-c070-4c38-8147-22362b98ce57",
   "metadata": {},
   "source": [
    "## Codificación de variables categóricas para SMOTE"
   ]
  },
  {
   "cell_type": "markdown",
   "id": "67dc4852-ee60-4a36-bd57-9d3430df0672",
   "metadata": {},
   "source": [
    "Creamos la función que permite la codificación de variables. "
   ]
  },
  {
   "cell_type": "code",
   "execution_count": 8,
   "id": "3d4990f9-fe98-427b-be15-2833e6dc640a",
   "metadata": {},
   "outputs": [],
   "source": [
    "from sklearn.preprocessing import LabelEncoder\n",
    "\n",
    "# Diccionario global para almacenar los encoders de cada columna\n",
    "encoders = {}\n",
    "\n",
    "def label_encode_dataframe(df, categorical_cols):\n",
    "    \"\"\"\n",
    "    Aplica codificación de etiquetas (Label Encoding) a columnas categóricas de un DataFrame.\n",
    "\n",
    "    Esta función toma un DataFrame y una lista de nombres de columnas categóricas, y retorna\n",
    "    una copia del DataFrame con dichas columnas transformadas a valores numéricos usando\n",
    "    LabelEncoder de sklearn. Además, almacena los encoders utilizados en el diccionario global `encoders`.\n",
    "\n",
    "    Parámetros:\n",
    "    ----------\n",
    "    df : pandas.DataFrame\n",
    "        El DataFrame de entrada que contiene columnas categóricas.\n",
    "    \n",
    "    categorical_cols : list of str\n",
    "        Lista con los nombres de las columnas categóricas a codificar.\n",
    "\n",
    "    Retorna:\n",
    "    -------\n",
    "    pandas.DataFrame\n",
    "        Una copia del DataFrame original, con las columnas especificadas codificadas numéricamente.\n",
    "\n",
    "    Nota:\n",
    "    ----\n",
    "    - Los encoders usados para cada columna se almacenan en el diccionario global `encoders`,\n",
    "      lo que permite posteriormente transformar datos nuevos (como conjuntos de test) de forma consistente.\n",
    "    - Las columnas son transformadas a string antes de codificar, para evitar errores con valores mixtos o nulos.\n",
    "\n",
    "    \"\"\"\n",
    "\n",
    "    df_copy = df.copy()  # Evitamos modificar el DataFrame original\n",
    "\n",
    "    for col in categorical_cols:\n",
    "        le = LabelEncoder()\n",
    "        df_copy[col] = le.fit_transform(df_copy[col].astype(str))\n",
    "        encoders[col] = le  # Guardamos el encoder para uso futuro\n",
    "\n",
    "    return df_copy"
   ]
  },
  {
   "cell_type": "markdown",
   "id": "38b91064-5719-43fa-af22-7ffffef435be",
   "metadata": {},
   "source": [
    "Y aplicamos la codificación únicamente al set de entrenamiento, aún sobre el conjunto de datos desbalanceado. Los datos de test siempre deben estar ocultos para el modelo,"
   ]
  },
  {
   "cell_type": "markdown",
   "id": "2486fdb4-603d-4d53-a1b4-4b3a0ed61493",
   "metadata": {},
   "source": [
    "## División del dataset"
   ]
  },
  {
   "cell_type": "code",
   "execution_count": 9,
   "id": "1fdf6df9-a9aa-456f-ab24-8cbbc51fa744",
   "metadata": {},
   "outputs": [],
   "source": [
    "# Dividimos el conjunto en entrenamiento y test\n",
    "X_train, X_test, y_train, y_test = train_test_split(\n",
    "    X, y,\n",
    "    test_size=0.2,\n",
    "    random_state=42,\n",
    "    stratify=y\n",
    ")"
   ]
  },
  {
   "cell_type": "markdown",
   "id": "2fd93b9e-394f-4c7c-b9ba-4b6f4e8a7e83",
   "metadata": {},
   "source": [
    "## Codificación del conjunto de entrenamiento"
   ]
  },
  {
   "cell_type": "code",
   "execution_count": 10,
   "id": "80b0afa6-85a6-438c-b30c-430f6b96772d",
   "metadata": {},
   "outputs": [
    {
     "data": {
      "text/html": [
       "<div>\n",
       "<style scoped>\n",
       "    .dataframe tbody tr th:only-of-type {\n",
       "        vertical-align: middle;\n",
       "    }\n",
       "\n",
       "    .dataframe tbody tr th {\n",
       "        vertical-align: top;\n",
       "    }\n",
       "\n",
       "    .dataframe thead th {\n",
       "        text-align: right;\n",
       "    }\n",
       "</style>\n",
       "<table border=\"1\" class=\"dataframe\">\n",
       "  <thead>\n",
       "    <tr style=\"text-align: right;\">\n",
       "      <th></th>\n",
       "      <th>UrbanRural</th>\n",
       "      <th>BankStateInOhio</th>\n",
       "      <th>ApprovalFYGrouped</th>\n",
       "      <th>DisbursementGrossGrouped</th>\n",
       "      <th>JobCombo</th>\n",
       "    </tr>\n",
       "  </thead>\n",
       "  <tbody>\n",
       "    <tr>\n",
       "      <th>7668</th>\n",
       "      <td>2</td>\n",
       "      <td>1</td>\n",
       "      <td>18</td>\n",
       "      <td>1</td>\n",
       "      <td>1</td>\n",
       "    </tr>\n",
       "    <tr>\n",
       "      <th>4977</th>\n",
       "      <td>1</td>\n",
       "      <td>0</td>\n",
       "      <td>21</td>\n",
       "      <td>0</td>\n",
       "      <td>3</td>\n",
       "    </tr>\n",
       "    <tr>\n",
       "      <th>10910</th>\n",
       "      <td>1</td>\n",
       "      <td>1</td>\n",
       "      <td>13</td>\n",
       "      <td>0</td>\n",
       "      <td>0</td>\n",
       "    </tr>\n",
       "    <tr>\n",
       "      <th>1576</th>\n",
       "      <td>2</td>\n",
       "      <td>0</td>\n",
       "      <td>20</td>\n",
       "      <td>2</td>\n",
       "      <td>3</td>\n",
       "    </tr>\n",
       "    <tr>\n",
       "      <th>1842</th>\n",
       "      <td>1</td>\n",
       "      <td>0</td>\n",
       "      <td>17</td>\n",
       "      <td>1</td>\n",
       "      <td>1</td>\n",
       "    </tr>\n",
       "  </tbody>\n",
       "</table>\n",
       "</div>"
      ],
      "text/plain": [
       "       UrbanRural  BankStateInOhio  ApprovalFYGrouped  \\\n",
       "7668            2                1                 18   \n",
       "4977            1                0                 21   \n",
       "10910           1                1                 13   \n",
       "1576            2                0                 20   \n",
       "1842            1                0                 17   \n",
       "\n",
       "       DisbursementGrossGrouped  JobCombo  \n",
       "7668                          1         1  \n",
       "4977                          0         3  \n",
       "10910                         0         0  \n",
       "1576                          2         3  \n",
       "1842                          1         1  "
      ]
     },
     "execution_count": 10,
     "metadata": {},
     "output_type": "execute_result"
    }
   ],
   "source": [
    "# Codificar X_train\n",
    "X_train_encoded = label_encode_dataframe(X_train, cat_features)\n",
    "# Verificar que todas las variables categóricas presentes en el DF son numéricas\n",
    "X_train_encoded.head(5)"
   ]
  },
  {
   "cell_type": "markdown",
   "id": "f003d11f-fbf4-4991-829d-3b40415c9c7b",
   "metadata": {},
   "source": [
    "Una vez hemos obtenido el dataset correctamente codificado, se ha obtenido el codificador `encoder`"
   ]
  },
  {
   "cell_type": "markdown",
   "id": "51214d7e-e780-41ca-86df-e803432b6802",
   "metadata": {},
   "source": [
    "## Balanceo del dataset mediante SMOTE"
   ]
  },
  {
   "cell_type": "code",
   "execution_count": 11,
   "id": "683f993f-e649-44d5-8e82-0883173320b8",
   "metadata": {},
   "outputs": [
    {
     "name": "stdout",
     "output_type": "stream",
     "text": [
      "Distribución de clases después de SMOTE:\n",
      "Accept\n",
      "0    9206\n",
      "1    9206\n",
      "Name: count, dtype: int64\n",
      "Accept\n",
      "1    2302\n",
      "0     585\n",
      "Name: count, dtype: int64\n"
     ]
    }
   ],
   "source": [
    "smote = SMOTE(random_state=42)\n",
    "X_train_balanced, y_train_balanced = smote.fit_resample(X_train_encoded, y_train)\n",
    "# Mostrar conteo por clase\n",
    "print(\"Distribución de clases después de SMOTE:\")\n",
    "print(y_train_balanced.value_counts())\n",
    "\n",
    "# Comprobamos que los datos de test siguen sin modificar\n",
    "print(y_test.value_counts())"
   ]
  },
  {
   "cell_type": "markdown",
   "id": "824a9dd0-fbca-45ce-af8e-16db9746d5db",
   "metadata": {},
   "source": [
    "# Parametrización del modelo inicial"
   ]
  },
  {
   "cell_type": "code",
   "execution_count": 12,
   "id": "6f6a2d1a-dfa3-4029-a762-687e53d5fdad",
   "metadata": {},
   "outputs": [
    {
     "data": {
      "text/html": [
       "<div>\n",
       "<style scoped>\n",
       "    .dataframe tbody tr th:only-of-type {\n",
       "        vertical-align: middle;\n",
       "    }\n",
       "\n",
       "    .dataframe tbody tr th {\n",
       "        vertical-align: top;\n",
       "    }\n",
       "\n",
       "    .dataframe thead th {\n",
       "        text-align: right;\n",
       "    }\n",
       "</style>\n",
       "<table border=\"1\" class=\"dataframe\">\n",
       "  <thead>\n",
       "    <tr style=\"text-align: right;\">\n",
       "      <th></th>\n",
       "      <th>UrbanRural</th>\n",
       "      <th>BankStateInOhio</th>\n",
       "      <th>ApprovalFYGrouped</th>\n",
       "      <th>DisbursementGrossGrouped</th>\n",
       "      <th>JobCombo</th>\n",
       "    </tr>\n",
       "  </thead>\n",
       "  <tbody>\n",
       "    <tr>\n",
       "      <th>0</th>\n",
       "      <td>2</td>\n",
       "      <td>1</td>\n",
       "      <td>18</td>\n",
       "      <td>1</td>\n",
       "      <td>1</td>\n",
       "    </tr>\n",
       "    <tr>\n",
       "      <th>1</th>\n",
       "      <td>1</td>\n",
       "      <td>0</td>\n",
       "      <td>21</td>\n",
       "      <td>0</td>\n",
       "      <td>3</td>\n",
       "    </tr>\n",
       "    <tr>\n",
       "      <th>2</th>\n",
       "      <td>1</td>\n",
       "      <td>1</td>\n",
       "      <td>13</td>\n",
       "      <td>0</td>\n",
       "      <td>0</td>\n",
       "    </tr>\n",
       "    <tr>\n",
       "      <th>3</th>\n",
       "      <td>2</td>\n",
       "      <td>0</td>\n",
       "      <td>20</td>\n",
       "      <td>2</td>\n",
       "      <td>3</td>\n",
       "    </tr>\n",
       "    <tr>\n",
       "      <th>4</th>\n",
       "      <td>1</td>\n",
       "      <td>0</td>\n",
       "      <td>17</td>\n",
       "      <td>1</td>\n",
       "      <td>1</td>\n",
       "    </tr>\n",
       "  </tbody>\n",
       "</table>\n",
       "</div>"
      ],
      "text/plain": [
       "   UrbanRural  BankStateInOhio  ApprovalFYGrouped  DisbursementGrossGrouped  \\\n",
       "0           2                1                 18                         1   \n",
       "1           1                0                 21                         0   \n",
       "2           1                1                 13                         0   \n",
       "3           2                0                 20                         2   \n",
       "4           1                0                 17                         1   \n",
       "\n",
       "   JobCombo  \n",
       "0         1  \n",
       "1         3  \n",
       "2         0  \n",
       "3         3  \n",
       "4         1  "
      ]
     },
     "execution_count": 12,
     "metadata": {},
     "output_type": "execute_result"
    }
   ],
   "source": [
    "X_train_balanced.head(5)"
   ]
  },
  {
   "cell_type": "code",
   "execution_count": 13,
   "id": "8722f628-fbbd-42dd-adee-a55933d2e1d0",
   "metadata": {},
   "outputs": [
    {
     "name": "stdout",
     "output_type": "stream",
     "text": [
      "0:\tlearn: 0.6504268\ttotal: 55.6ms\tremaining: 44.4s\n",
      "100:\tlearn: 0.6887290\ttotal: 380ms\tremaining: 2.63s\n",
      "200:\tlearn: 0.6975685\ttotal: 732ms\tremaining: 2.18s\n",
      "300:\tlearn: 0.6959128\ttotal: 1.07s\tremaining: 1.78s\n",
      "400:\tlearn: 0.6978748\ttotal: 1.5s\tremaining: 1.49s\n",
      "500:\tlearn: 0.6983160\ttotal: 1.89s\tremaining: 1.13s\n",
      "600:\tlearn: 0.6981479\ttotal: 2.24s\tremaining: 742ms\n",
      "700:\tlearn: 0.6992662\ttotal: 2.6s\tremaining: 368ms\n",
      "799:\tlearn: 0.6992317\ttotal: 2.98s\tremaining: 0us\n"
     ]
    },
    {
     "data": {
      "text/plain": [
       "'\\nmodel.fit(\\n    X_train_balanced, y_train_balanced,\\n    eval_set=(X_val_encoded, y_val),\\n    cat_features=cat_features\\n)\\n'"
      ]
     },
     "execution_count": 13,
     "metadata": {},
     "output_type": "execute_result"
    }
   ],
   "source": [
    "# ------------------------------------------\n",
    "# Parámetros del modelo - Ajustados con GridSearchCV y Random\n",
    "# ------------------------------------------\n",
    "params = {\n",
    "    'iterations': 800,\n",
    "    'learning_rate': 0.1,\n",
    "    'depth': 8,\n",
    "    'l2_leaf_reg': 10,\n",
    "    'eval_metric': 'F1',\n",
    "    'early_stopping_rounds':200,\n",
    "    'random_state': 42,\n",
    "    'verbose': 100\n",
    "}\n",
    "\n",
    "# Crear el modelo usando **params\n",
    "model = CatBoostClassifier(**params)\n",
    "model.fit(X_train_balanced, y_train_balanced)\n",
    "# Entrenar con eval_set\n",
    "'''\n",
    "model.fit(\n",
    "    X_train_balanced, y_train_balanced,\n",
    "    eval_set=(X_val_encoded, y_val),\n",
    "    cat_features=cat_features\n",
    ")\n",
    "'''"
   ]
  },
  {
   "cell_type": "markdown",
   "id": "cf551699-1a4d-4de4-bdc6-58e1f0ed6749",
   "metadata": {},
   "source": [
    "## Evaluación del modelo inicial\n",
    "Para poder evaluar el modelo, es necesario que el conjunto de test también este codificado\n",
    "\n",
    "### Codificación del conjunto de test"
   ]
  },
  {
   "cell_type": "code",
   "execution_count": 14,
   "id": "eb7ea3cf-a457-4ef9-af94-d4b6bb63c9ac",
   "metadata": {},
   "outputs": [
    {
     "data": {
      "text/html": [
       "<div>\n",
       "<style scoped>\n",
       "    .dataframe tbody tr th:only-of-type {\n",
       "        vertical-align: middle;\n",
       "    }\n",
       "\n",
       "    .dataframe tbody tr th {\n",
       "        vertical-align: top;\n",
       "    }\n",
       "\n",
       "    .dataframe thead th {\n",
       "        text-align: right;\n",
       "    }\n",
       "</style>\n",
       "<table border=\"1\" class=\"dataframe\">\n",
       "  <thead>\n",
       "    <tr style=\"text-align: right;\">\n",
       "      <th></th>\n",
       "      <th>UrbanRural</th>\n",
       "      <th>BankStateInOhio</th>\n",
       "      <th>ApprovalFYGrouped</th>\n",
       "      <th>DisbursementGrossGrouped</th>\n",
       "      <th>JobCombo</th>\n",
       "    </tr>\n",
       "  </thead>\n",
       "  <tbody>\n",
       "    <tr>\n",
       "      <th>3468</th>\n",
       "      <td>1</td>\n",
       "      <td>1</td>\n",
       "      <td>15</td>\n",
       "      <td>1</td>\n",
       "      <td>0</td>\n",
       "    </tr>\n",
       "    <tr>\n",
       "      <th>3274</th>\n",
       "      <td>1</td>\n",
       "      <td>0</td>\n",
       "      <td>13</td>\n",
       "      <td>0</td>\n",
       "      <td>1</td>\n",
       "    </tr>\n",
       "    <tr>\n",
       "      <th>5289</th>\n",
       "      <td>0</td>\n",
       "      <td>1</td>\n",
       "      <td>9</td>\n",
       "      <td>1</td>\n",
       "      <td>0</td>\n",
       "    </tr>\n",
       "    <tr>\n",
       "      <th>14401</th>\n",
       "      <td>0</td>\n",
       "      <td>0</td>\n",
       "      <td>11</td>\n",
       "      <td>0</td>\n",
       "      <td>3</td>\n",
       "    </tr>\n",
       "    <tr>\n",
       "      <th>14096</th>\n",
       "      <td>1</td>\n",
       "      <td>1</td>\n",
       "      <td>14</td>\n",
       "      <td>1</td>\n",
       "      <td>0</td>\n",
       "    </tr>\n",
       "  </tbody>\n",
       "</table>\n",
       "</div>"
      ],
      "text/plain": [
       "       UrbanRural  BankStateInOhio  ApprovalFYGrouped  \\\n",
       "3468            1                1                 15   \n",
       "3274            1                0                 13   \n",
       "5289            0                1                  9   \n",
       "14401           0                0                 11   \n",
       "14096           1                1                 14   \n",
       "\n",
       "       DisbursementGrossGrouped  JobCombo  \n",
       "3468                          1         0  \n",
       "3274                          0         1  \n",
       "5289                          1         0  \n",
       "14401                         0         3  \n",
       "14096                         1         0  "
      ]
     },
     "execution_count": 14,
     "metadata": {},
     "output_type": "execute_result"
    }
   ],
   "source": [
    "# Codificar X_test con el mismo encoder que X_train\n",
    "def transform_test_dataframe(df_test, categorical_cols, encoders):\n",
    "    \"\"\"\n",
    "    Transforma las columnas categóricas de un DataFrame de test usando los LabelEncoders\n",
    "    previamente ajustados en el conjunto de entrenamiento.\n",
    "\n",
    "    Esta función aplica la transformación de etiquetas a las columnas categóricas utilizando\n",
    "    los objetos `LabelEncoder` almacenados en un diccionario, asegurando consistencia con la\n",
    "    codificación realizada sobre los datos de entrenamiento.\n",
    "\n",
    "    Parámetros:\n",
    "    ----------\n",
    "    df_test : pandas.DataFrame\n",
    "        DataFrame que contiene los datos de test a codificar.\n",
    "\n",
    "    categorical_cols : list of str\n",
    "        Lista de nombres de columnas categóricas que se deben transformar.\n",
    "\n",
    "    encoders : dict\n",
    "        Diccionario que asocia cada columna con su correspondiente objeto `LabelEncoder`,\n",
    "        generado durante la codificación del conjunto de entrenamiento.\n",
    "\n",
    "    Retorna:\n",
    "    -------\n",
    "    pandas.DataFrame\n",
    "        Una copia del DataFrame de test con las columnas categóricas codificadas numéricamente.\n",
    "\n",
    "    Excepciones:\n",
    "    -----------\n",
    "    ValueError\n",
    "        Si alguna columna no tiene un encoder asociado en el diccionario `encoders`.\n",
    "\n",
    "    Notas:\n",
    "    -----\n",
    "    - Esta función utiliza `.transform()` sobre los `LabelEncoder` ya ajustados, por lo tanto,\n",
    "      no debe usarse con columnas que contengan valores no vistos durante el entrenamiento.\n",
    "    \"\"\"\n",
    "    \n",
    "    df_test_copy = df_test.copy()\n",
    "    for col in categorical_cols:\n",
    "        le = encoders.get(col)\n",
    "        if le:\n",
    "            df_test_copy[col] = le.transform(df_test_copy[col].astype(str))\n",
    "        else:\n",
    "            raise ValueError(f\"No encoder encontrado para la columna '{col}'\")\n",
    "    return df_test_copy\n",
    "\n",
    "X_test.head(5)\n",
    "encoders\n",
    "\n",
    "X_test_encoded = transform_test_dataframe(X_test, cat_features, encoders)\n",
    "X_test_encoded.head(5)"
   ]
  },
  {
   "cell_type": "markdown",
   "id": "3c86bd14-ed0f-4917-8f7d-c62bd01eb212",
   "metadata": {},
   "source": [
    "### Evaluacion de métricas del modelo"
   ]
  },
  {
   "cell_type": "code",
   "execution_count": 15,
   "id": "217d597b-527e-4ebe-891e-1aac34b56184",
   "metadata": {},
   "outputs": [
    {
     "name": "stdout",
     "output_type": "stream",
     "text": [
      "Reporte de clasificación con umbral ajustado:\n",
      "              precision    recall  f1-score   support\n",
      "\n",
      "           0       0.32      0.62      0.43       585\n",
      "           1       0.87      0.67      0.76      2302\n",
      "\n",
      "    accuracy                           0.66      2887\n",
      "   macro avg       0.60      0.65      0.59      2887\n",
      "weighted avg       0.76      0.66      0.69      2887\n",
      "\n"
     ]
    }
   ],
   "source": [
    "from sklearn.metrics import classification_report\n",
    "\n",
    "# Predicciones\n",
    "y_pred = model.predict(X_test_encoded)\n",
    "\n",
    "# Reporte de clasificación\n",
    "print(\"Reporte de clasificación con umbral ajustado:\")\n",
    "print(classification_report(y_test, y_pred))"
   ]
  },
  {
   "cell_type": "code",
   "execution_count": 16,
   "id": "bf2fb21c-2b4c-458e-b1e8-6387db871211",
   "metadata": {},
   "outputs": [
    {
     "data": {
      "image/png": "[encoded data removed]",
      "text/plain": [
       "<Figure size 1000x600 with 1 Axes>"
      ]
     },
     "metadata": {},
     "output_type": "display_data"
    }
   ],
   "source": [
    "import matplotlib.pyplot as plt\n",
    "\n",
    "feature_importances = model.get_feature_importance()\n",
    "features = X_train.columns\n",
    "\n",
    "plt.figure(figsize=(10, 6))\n",
    "plt.barh(features, feature_importances)\n",
    "plt.title(\"Importancia de variables\")\n",
    "plt.xlabel(\"Importancia\")\n",
    "plt.tight_layout()\n",
    "plt.show()\n"
   ]
  },
  {
   "cell_type": "markdown",
   "id": "f5f30279-3e0f-436c-b919-f8aaf26d52cd",
   "metadata": {},
   "source": [
    "### Conclusiones\n",
    "- El modelo predice peor la clase minoritaria que en el caso de un dataset balanceado por undersampling"
   ]
  },
  {
   "cell_type": "markdown",
   "id": "b99852da-f5f5-4d4c-8264-15cfcbf45113",
   "metadata": {},
   "source": [
    "## Búsqueda de umbral"
   ]
  },
  {
   "cell_type": "code",
   "execution_count": 17,
   "id": "1dd64d68-888a-4437-b596-18930d6a82f2",
   "metadata": {},
   "outputs": [
    {
     "name": "stdout",
     "output_type": "stream",
     "text": [
      "Mejor F1-score: 0.8881 con umbral = 0.10\n",
      "\n",
      "Reporte de clasificación:\n",
      "              precision    recall  f1-score   support\n",
      "\n",
      "           0     0.8571    0.0103    0.0203       585\n",
      "           1     0.7990    0.9996    0.8881      2302\n",
      "\n",
      "    accuracy                         0.7991      2887\n",
      "   macro avg     0.8281    0.5049    0.4542      2887\n",
      "weighted avg     0.8107    0.7991    0.7122      2887\n",
      "\n",
      "Matriz de confusión:\n",
      "[[   6  579]\n",
      " [   1 2301]]\n",
      "Index([3468, 3274, 5289, 14401, 14096], dtype='int64')\n"
     ]
    }
   ],
   "source": [
    "from sklearn.metrics import f1_score, classification_report, confusion_matrix\n",
    "import numpy as np\n",
    "\n",
    "best_f1 = 0\n",
    "best_threshold = 0.5\n",
    "f1_scores = []\n",
    "\n",
    "# Obtener probabilidades para clase 1\n",
    "y_test_proba = model.predict_proba(X_test_encoded)[:, 1]\n",
    "\n",
    "# Buscar el umbral que maximiza F1\n",
    "thresholds = np.linspace(0.1, 0.9, 100)\n",
    "for t in thresholds:\n",
    "    y_pred = (y_test_proba >= t).astype(int)\n",
    "    f1 = f1_score(y_test, y_pred)\n",
    "    f1_scores.append(f1)\n",
    "    if f1 > best_f1:\n",
    "        best_f1 = f1\n",
    "        best_threshold = t\n",
    "\n",
    "print(f\"Mejor F1-score: {best_f1:.4f} con umbral = {best_threshold:.2f}\")\n",
    "\n",
    "# Aplicar el mejor umbral\n",
    "y_test_pred = (y_test_proba >= best_threshold).astype(int)\n",
    "\n",
    "# Evaluación final\n",
    "print(\"\\nReporte de clasificación:\")\n",
    "print(classification_report(y_test, y_test_pred, digits=4))\n",
    "\n",
    "print(\"Matriz de confusión:\")\n",
    "print(confusion_matrix(y_test, y_test_pred))\n",
    "print(X_test_encoded.index[:5])\n"
   ]
  },
  {
   "cell_type": "markdown",
   "id": "55bb655d-6bcc-4adc-945a-122ba916303d",
   "metadata": {},
   "source": [
    "## Búsqueda de mejor estimador\n",
    "En este caso, como el dataset tiene dimensiones mayores, se considera que los modelos deben ser más complejos y la exploración de hiperparámetros más amplia. Se trató de buscar los mejores hiperparámetros mediante GridSearch, pero tomaba mucho esfuerzo computacional, por lo que se decidió hacer una búsqueda más rápida con RandomizedSearch"
   ]
  },
  {
   "cell_type": "code",
   "execution_count": null,
   "id": "75f56180-01a5-4631-ab31-ffcafef58e15",
   "metadata": {},
   "outputs": [],
   "source": [
    "from catboost import CatBoostClassifier\n",
    "from sklearn.model_selection import RandomizedSearchCV, StratifiedKFold\n",
    "from scipy.stats import randint, uniform\n",
    "param_dist = {\n",
    "    'depth': randint(4, 10),                    # profundidad del árbol\n",
    "    'learning_rate': uniform(0.01, 0.2),        # tasa de aprendizaje\n",
    "    'l2_leaf_reg': randint(1, 20),              # regularización L2\n",
    "    'iterations': randint(300, 1000)            # nº de iteraciones\n",
    "}\n",
    "cat_model = CatBoostClassifier(\n",
    "    verbose=100,\n",
    "    random_state=42,\n",
    "    eval_metric='F1',\n",
    ")\n",
    "\n",
    "cv = StratifiedKFold(n_splits=3, shuffle=True, random_state=42)\n",
    "\n",
    "random_search = RandomizedSearchCV(\n",
    "    estimator=cat_model,\n",
    "    param_distributions=param_dist,\n",
    "    n_iter=20,                   \n",
    "    scoring='f1_macro',\n",
    "    cv=cv,\n",
    "    verbose=3,\n",
    "    n_jobs=-1,\n",
    "    random_state=42\n",
    ")\n",
    "random_search.fit(\n",
    "    X_train_balanced,\n",
    "    y_train_balanced,\n",
    "    cat_features=cat_features\n",
    ")"
   ]
  },
  {
   "cell_type": "code",
   "execution_count": 20,
   "id": "433d5275-3ae6-402f-a25d-c91ed0745b5a",
   "metadata": {},
   "outputs": [
    {
     "name": "stdout",
     "output_type": "stream",
     "text": [
      "Mejores hiperparámetros encontrados:\n",
      "{'depth': 8, 'iterations': 914, 'l2_leaf_reg': 19, 'learning_rate': 0.02999498316360058}\n"
     ]
    }
   ],
   "source": [
    "print(\"Mejores hiperparámetros encontrados:\")\n",
    "print(random_search.best_params_)\n",
    "\n",
    "best_model = random_search.best_estimator_"
   ]
  },
  {
   "cell_type": "code",
   "execution_count": 30,
   "id": "5c386b93-6afb-46e9-96ec-53c8031393b2",
   "metadata": {},
   "outputs": [
    {
     "name": "stdout",
     "output_type": "stream",
     "text": [
      "Archivo de submission  CatBoost_SMOTE_20250410_12_42_18.csv  generado correctamente.\n"
     ]
    }
   ],
   "source": [
    "df_test_id = pd.read_csv(\"../../../data/processed/test_nolabel_processed.csv\")\n",
    "df_test_id[\"JobCombo\"] = df_test_id[\"CreateJobBinary\"].astype(str) + \"_\" + df_test_id[\"RetainedJobBinary\"].astype(str)\n",
    "#drop_columns.remove(\"Accept\")\n",
    "#drop_columns.append(\"id\")\n",
    "\n",
    "df_test = df_test_id.drop(columns=drop_columns) \n",
    "df_test_enc = transform_test_dataframe(df_test, cat_features, encoders)\n",
    "\n",
    "#test_pool = Pool(df_test, cat_features=cat_features)\n",
    "df_test_id[\"Accept\"] = best_model.predict(df_test_enc)\n",
    "\n",
    "#y_test_proba = best_model.predict_proba(df_test)[:, 1]\n",
    "#df_test_id[\"Accept\"]  = (y_test_proba > best_threshold).astype(int)\n",
    "\n",
    "# Crea el archivo CSV con las columnas requeridas: 'id' y 'Accept'\n",
    "filename = f\"CatBoost_SMOTE_{datetime.datetime.now().strftime('%Y%m%d_%H_%M_%S')}.csv\"\n",
    "df_test_id.to_csv(filename, columns=['id', 'Accept'], index=False)\n",
    "\n",
    "print(\"Archivo de submission \", filename, \" generado correctamente.\")"
   ]
  },
  {
   "cell_type": "markdown",
   "id": "12c2901b-be24-4c1d-a4d8-2783eceab148",
   "metadata": {},
   "source": [
    "## Conclusiones\n",
    "- Se obtiene mejor resultado con el mejor estimador encontrado sin utilizar el threshold, que probablemente haya quedado mal definido, pero no encuentro el motivo\n",
    "- La variable `ApprovalFYGrouped`estaba correctamente agrupada\n",
    "- El rendimiento del modelo con SMOTE no ha dado los resultados esperados, ya que no se predicen correctamente los casos de la clase 0, con rendimiento inferior al resto de modelados para este algoritmo, salvo en envíos puntuales. "
   ]
  },
  {
   "cell_type": "code",
   "execution_count": null,
   "id": "f8cc95d2-06d9-4494-8f08-9a84636305cf",
   "metadata": {},
   "outputs": [],
   "source": []
  }
 ],
 "metadata": {
  "kernelspec": {
   "display_name": "Python 3 (ipykernel)",
   "language": "python",
   "name": "python3"
  },
  "language_info": {
   "codemirror_mode": {
    "name": "ipython",
    "version": 3
   },
   "file_extension": ".py",
   "mimetype": "text/x-python",
   "name": "python",
   "nbconvert_exporter": "python",
   "pygments_lexer": "ipython3",
   "version": "3.11.7"
  }
 },
 "nbformat": 4,
 "nbformat_minor": 5
}
